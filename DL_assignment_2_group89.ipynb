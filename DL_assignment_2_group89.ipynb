{
  "metadata": {
    "kernelspec": {
      "language": "python",
      "display_name": "Python 3",
      "name": "python3"
    },
    "language_info": {
      "name": "python",
      "version": "3.10.12",
      "mimetype": "text/x-python",
      "codemirror_mode": {
        "name": "ipython",
        "version": 3
      },
      "pygments_lexer": "ipython3",
      "nbconvert_exporter": "python",
      "file_extension": ".py"
    },
    "colab": {
      "provenance": []
    }
  },
  "nbformat_minor": 0,
  "nbformat": 4,
  "cells": [
    {
      "cell_type": "markdown",
      "source": [
        "## Group No: 89\n",
        "\n",
        "## Group Member Names:\n",
        "1. ANAND MOHAN AWASTHI\n",
        "2. ANANDRAJ K\n",
        "3. SAPPA BABY NEEHARIKA\n",
        "4. PRAKASH KUMAR ROUT\n",
        "\n",
        "## Journal used for the implemetation\n",
        "Journal title: TrOCR: Transformer-based Optical Character Recognition with Pretrained Models\n",
        "\n",
        "Authors:Minghao Li, Tengchao Lv, Jingye Chen, Lei Cui, Yijuan Lu, Dinei Florencio, Cha Zhang, Zhoujun Li, and Furu Wei.\n",
        "\n",
        "Journal Name:TrOCR uses Transformer-based models for text recognition\n",
        "\n",
        "Year: 2021"
      ],
      "metadata": {
        "id": "F0Tnu1V8Lhrv"
      }
    },
    {
      "cell_type": "markdown",
      "source": [
        "# Content\n",
        "* ### License Plate Text Recognition using Transformer\n",
        "    *     ### Import the required libraries\n",
        "    *     ### Lib. version\n",
        "    *     ### Constant\n",
        "    *     ### Ingest, Preprocess, & Split Dataset (into Training & Testing Datasets)\n",
        "    *     ### Create Custom Dataset ClassCreate Custom Dataset Class\n",
        "    *     ### Print Length of Training & Testing Datasets\n",
        "    *     ### Example of Input Data Shapes\n",
        "    *     ### Show Example\n",
        "    *     ### Model Configuration\n",
        "    *     ### Define Training Arguments\n",
        "    *     ### Define Trainer\n",
        "    *     ### Fit/Train Model\n",
        "    *     ### Save Model & Training Metrics\n",
        "    *     ### Evaluate Model\n",
        "    *     ### Inference Test Image\n",
        "    *     ### Inference Test Image Dim\n",
        "    *     ### Load model from Output Dir.\n",
        "    *     ### Inference Model Configuration\n",
        "    *     ### Inference model prediction"
      ],
      "metadata": {
        "id": "BJHPUET0Lhrx"
      }
    },
    {
      "cell_type": "markdown",
      "source": [
        "# License Plate Text Recognition using Transformer"
      ],
      "metadata": {
        "id": "_7qSD6PcLhrx"
      }
    },
    {
      "cell_type": "markdown",
      "source": [
        "### 1. Import the required libraries"
      ],
      "metadata": {
        "id": "rxY6H1cFLhrx"
      }
    },
    {
      "cell_type": "code",
      "source": [
        "import warnings\n",
        "warnings.filterwarnings('ignore')\n",
        "import os, sys, itertools\n",
        "import pandas as pd\n",
        "import torch\n",
        "import datasets\n",
        "import transformers\n",
        "from transformers import Seq2SeqTrainingArguments, Seq2SeqTrainer, VisionEncoderDecoderModel, TrOCRProcessor, default_data_collator\n",
        "from sklearn.model_selection import train_test_split\n",
        "from PIL import Image\n",
        "from torch.utils.data import Dataset\n",
        "from datasets import load_dataset, load_metric\n",
        "\n",
        "from sklearn.metrics import confusion_matrix\n",
        "from sklearn.metrics import classification_report\n",
        "from sklearn.model_selection import KFold\n",
        "import seaborn as sns\n",
        "import matplotlib.pyplot as plt\n",
        "from sklearn.metrics import precision_recall_fscore_support, accuracy_score, log_loss\n"
      ],
      "metadata": {
        "execution": {
          "iopub.status.busy": "2023-09-07T07:39:44.584173Z",
          "iopub.execute_input": "2023-09-07T07:39:44.584462Z",
          "iopub.status.idle": "2023-09-07T07:40:04.975114Z",
          "shell.execute_reply.started": "2023-09-07T07:39:44.584437Z",
          "shell.execute_reply": "2023-09-07T07:40:04.973998Z"
        },
        "trusted": true,
        "id": "-kGHMM56Lhrx"
      },
      "execution_count": null,
      "outputs": []
    },
    {
      "cell_type": "code",
      "source": [
        "!pip install -q datasets jiwer"
      ],
      "metadata": {
        "execution": {
          "iopub.status.busy": "2023-09-07T07:40:04.977015Z",
          "iopub.execute_input": "2023-09-07T07:40:04.977641Z",
          "iopub.status.idle": "2023-09-07T07:40:17.883872Z",
          "shell.execute_reply.started": "2023-09-07T07:40:04.977606Z",
          "shell.execute_reply": "2023-09-07T07:40:17.882609Z"
        },
        "trusted": true,
        "id": "G9GNBrQjLhry"
      },
      "execution_count": null,
      "outputs": []
    },
    {
      "cell_type": "markdown",
      "source": [
        "### Lib. version"
      ],
      "metadata": {
        "id": "L37OCrRULhry"
      }
    },
    {
      "cell_type": "code",
      "source": [
        "print(\"Python:\", sys.version[0:6])\n",
        "print(\"Pandas:\", pd.__version__)\n",
        "print(\"Datasets:\", datasets.__version__)\n",
        "print(\"Transformers:\", transformers.__version__)\n",
        "print(\"Torch:\", torch.__version__)"
      ],
      "metadata": {
        "execution": {
          "iopub.status.busy": "2023-09-07T07:40:17.885686Z",
          "iopub.execute_input": "2023-09-07T07:40:17.886056Z",
          "iopub.status.idle": "2023-09-07T07:40:17.894450Z",
          "shell.execute_reply.started": "2023-09-07T07:40:17.886020Z",
          "shell.execute_reply": "2023-09-07T07:40:17.893493Z"
        },
        "trusted": true,
        "id": "zL3a3VqLLhry",
        "outputId": "bc8513a1-4562-4546-fc20-44578489b1f8"
      },
      "execution_count": null,
      "outputs": [
        {
          "name": "stdout",
          "text": "Python: 3.10.1\nPandas: 1.5.3\nDatasets: 2.1.0\nTransformers: 4.30.2\nTorch: 2.0.0\n",
          "output_type": "stream"
        }
      ]
    },
    {
      "cell_type": "markdown",
      "source": [
        "### Constants"
      ],
      "metadata": {
        "id": "kp8VPx_4Lhrz"
      }
    },
    {
      "cell_type": "code",
      "source": [
        "MODEL_CKPT = \"microsoft/trocr-base-printed\"\n",
        "MODEL_NAME =  MODEL_CKPT.split(\"/\")[-1] + \"_lp\"\n",
        "NUM_OF_EPOCHS = 2\n",
        "ROOT_DIR = \"/kaggle/input/license-plate-text-recognition-dataset/\"\n",
        "LABEL_FILE_NAME = \"lpr.csv\"\n",
        "IMAGE_FILE_DIR = \"cropped_lps/cropped_lps/\""
      ],
      "metadata": {
        "execution": {
          "iopub.status.busy": "2023-09-07T07:40:17.897454Z",
          "iopub.execute_input": "2023-09-07T07:40:17.898708Z",
          "iopub.status.idle": "2023-09-07T07:40:17.906004Z",
          "shell.execute_reply.started": "2023-09-07T07:40:17.898672Z",
          "shell.execute_reply": "2023-09-07T07:40:17.905006Z"
        },
        "trusted": true,
        "id": "Ssp0vSbDLhr0"
      },
      "execution_count": null,
      "outputs": []
    },
    {
      "cell_type": "markdown",
      "source": [
        "### 2. Data Acquisition\n",
        "Perform the data prepracessing that is required for the data that you have downloaded.\n",
        "\n",
        "This stage depends on the dataset that is used."
      ],
      "metadata": {
        "id": "gNuMh8CeLhr0"
      }
    },
    {
      "cell_type": "code",
      "source": [
        "df = pd.read_csv(\"/kaggle/input/license-plate-text-recognition-dataset/lpr.csv\")\n",
        "df = df.drop(\"Unnamed: 0\", axis=1)\n",
        "df.images = \"/kaggle/input/license-plate-text-recognition-dataset/cropped_lps/cropped_lps/\" + df.images"
      ],
      "metadata": {
        "execution": {
          "iopub.status.busy": "2023-09-07T07:40:17.907501Z",
          "iopub.execute_input": "2023-09-07T07:40:17.908209Z",
          "iopub.status.idle": "2023-09-07T07:40:17.974824Z",
          "shell.execute_reply.started": "2023-09-07T07:40:17.908175Z",
          "shell.execute_reply": "2023-09-07T07:40:17.973936Z"
        },
        "trusted": true,
        "id": "yRGb9lm2Lhr0"
      },
      "execution_count": null,
      "outputs": []
    },
    {
      "cell_type": "markdown",
      "source": [
        "### 3. Data Preparation\n",
        "\n",
        "Perform the data prepracessing that is required for the data that you have downloaded.\n",
        "\n",
        "\n",
        "This stage depends on the dataset that is used."
      ],
      "metadata": {
        "id": "rwKiwDjlLhr1"
      }
    },
    {
      "cell_type": "code",
      "source": [
        "labels = df.labels.values.tolist()\n",
        "images = df.images.values.tolist()\n",
        "\n",
        "MAX_LENGTH = max([len(label) for label in labels])\n",
        "\n",
        "labels = [label.ljust(MAX_LENGTH) for label in labels]\n",
        "\n",
        "characters = set(char for label in labels for char in label)\n",
        "characters = sorted(list(characters))\n",
        "\n",
        "print(\"Number of images found: \", len(images))\n",
        "print(\"Number of labels found: \", len(labels))\n",
        "print(\"Number of unique characters: \", len(characters))\n",
        "print(\"Characters present: \", characters)"
      ],
      "metadata": {
        "execution": {
          "iopub.status.busy": "2023-09-07T07:40:17.976143Z",
          "iopub.execute_input": "2023-09-07T07:40:17.976507Z",
          "iopub.status.idle": "2023-09-07T07:40:18.000934Z",
          "shell.execute_reply.started": "2023-09-07T07:40:17.976471Z",
          "shell.execute_reply": "2023-09-07T07:40:18.000058Z"
        },
        "trusted": true,
        "id": "i_hcezlALhr1",
        "outputId": "07a18690-0c48-4949-dc64-1674ba3a6e78"
      },
      "execution_count": null,
      "outputs": [
        {
          "name": "stdout",
          "text": "Number of images found:  20000\nNumber of labels found:  20000\nNumber of unique characters:  34\nCharacters present:  ['0', '1', '2', '3', '4', '5', '6', '7', '8', '9', 'A', 'B', 'C', 'D', 'E', 'F', 'G', 'H', 'J', 'K', 'L', 'M', 'N', 'P', 'Q', 'R', 'S', 'T', 'U', 'V', 'W', 'X', 'Y', 'Z']\n",
          "output_type": "stream"
        }
      ]
    },
    {
      "cell_type": "markdown",
      "source": [
        "### Ingest, Preprocess, & Split Dataset (into Training & Testing Datasets)"
      ],
      "metadata": {
        "id": "liAg6cQ4Lhr1"
      }
    },
    {
      "cell_type": "code",
      "source": [
        "train_dataset, test_dataset = train_test_split(df, train_size=0.80, random_state=42)\n",
        "\n",
        "train_dataset.reset_index(drop=True, inplace=True)\n",
        "test_dataset.reset_index(drop=True, inplace=True)\n",
        "\n",
        "print(train_dataset.info())\n",
        "print(test_dataset.info())"
      ],
      "metadata": {
        "execution": {
          "iopub.status.busy": "2023-09-07T07:40:18.002130Z",
          "iopub.execute_input": "2023-09-07T07:40:18.002544Z",
          "iopub.status.idle": "2023-09-07T07:40:18.046568Z",
          "shell.execute_reply.started": "2023-09-07T07:40:18.002511Z",
          "shell.execute_reply": "2023-09-07T07:40:18.045719Z"
        },
        "trusted": true,
        "id": "m6U65wqILhr1",
        "outputId": "efeb37f9-f0f6-46be-dace-7099e47d215c"
      },
      "execution_count": null,
      "outputs": [
        {
          "name": "stdout",
          "text": "<class 'pandas.core.frame.DataFrame'>\nRangeIndex: 16000 entries, 0 to 15999\nData columns (total 2 columns):\n #   Column  Non-Null Count  Dtype \n---  ------  --------------  ----- \n 0   images  16000 non-null  object\n 1   labels  16000 non-null  object\ndtypes: object(2)\nmemory usage: 250.1+ KB\nNone\n<class 'pandas.core.frame.DataFrame'>\nRangeIndex: 4000 entries, 0 to 3999\nData columns (total 2 columns):\n #   Column  Non-Null Count  Dtype \n---  ------  --------------  ----- \n 0   images  4000 non-null   object\n 1   labels  4000 non-null   object\ndtypes: object(2)\nmemory usage: 62.6+ KB\nNone\n",
          "output_type": "stream"
        }
      ]
    },
    {
      "cell_type": "markdown",
      "source": [
        "### Create Custom Dataset Class"
      ],
      "metadata": {
        "id": "7ieLKL37Lhr1"
      }
    },
    {
      "cell_type": "code",
      "source": [
        "class LP_Dataset(Dataset):\n",
        "\n",
        "    def __init__(self, df, processor, max_target_length=128):\n",
        "        self.df = df\n",
        "        self.processor = processor\n",
        "        self.max_target_length = max_target_length\n",
        "\n",
        "    def __len__(self):\n",
        "        return len(self.df)\n",
        "\n",
        "    def __getitem__(self, idx):\n",
        "        # get file name + text\n",
        "        file_name = self.df['images'][idx]\n",
        "        text = self.df['labels'][idx]\n",
        "        # prepare image (i.e. resize + normalize)\n",
        "        image = Image.open(file_name).convert(\"RGB\")\n",
        "        pixel_values = self.processor(image, return_tensors=\"pt\").pixel_values\n",
        "        # add labels (input_ids) by encoding the text\n",
        "        labels = self.processor.tokenizer(text, padding=\"max_length\", max_length=self.max_target_length).input_ids\n",
        "        # important: make sure that PAD tokens are ignored by the loss function\n",
        "        labels = [label if label != self.processor.tokenizer.pad_token_id\n",
        "                  else -100 for label in labels]\n",
        "\n",
        "        encoding = {\"pixel_values\" : pixel_values.squeeze(), \"labels\" : torch.tensor(labels)}\n",
        "        return encoding"
      ],
      "metadata": {
        "execution": {
          "iopub.status.busy": "2023-09-07T07:40:18.049610Z",
          "iopub.execute_input": "2023-09-07T07:40:18.049866Z",
          "iopub.status.idle": "2023-09-07T07:40:18.060405Z",
          "shell.execute_reply.started": "2023-09-07T07:40:18.049843Z",
          "shell.execute_reply": "2023-09-07T07:40:18.059300Z"
        },
        "trusted": true,
        "id": "O_ivIrBcLhr2"
      },
      "execution_count": null,
      "outputs": []
    },
    {
      "cell_type": "markdown",
      "source": [
        "### Instantiate Processor, Create Training, & Testing Dataset Instances"
      ],
      "metadata": {
        "id": "_NX7k_OLLhr2"
      }
    },
    {
      "cell_type": "code",
      "source": [
        "#processor = TrOCRProcessor.from_pretrained(MODEL_CKPT)\n",
        "processor = TrOCRProcessor.from_pretrained(\"microsoft/trocr-base-printed\")\n",
        "model = VisionEncoderDecoderModel.from_pretrained(\"microsoft/trocr-base-printed\")\n",
        "root_dir = ROOT_DIR + IMAGE_FILE_DIR;\n",
        "train_ds = LP_Dataset(df=train_dataset,processor=processor)\n",
        "\n",
        "test_ds = LP_Dataset(df=test_dataset, processor=processor)"
      ],
      "metadata": {
        "execution": {
          "iopub.status.busy": "2023-09-07T07:40:18.064302Z",
          "iopub.execute_input": "2023-09-07T07:40:18.064610Z",
          "iopub.status.idle": "2023-09-07T07:40:44.965192Z",
          "shell.execute_reply.started": "2023-09-07T07:40:18.064575Z",
          "shell.execute_reply": "2023-09-07T07:40:44.964314Z"
        },
        "trusted": true,
        "colab": {
          "referenced_widgets": [
            "041bce553f9b4889afeaefdd592b9a79",
            "1a535caca79b40eeb92aaa267231a395",
            "958526a6e07a406ab1c9493eb18e1896",
            "1280f756f5594c9b87bd9587351f8594",
            "d5a1e58170ca43edb6a3d95fe018bf6b",
            "22e7a22784d74106b89104826ee97149",
            "3c4f24031f1546fab795c25b898d0c80",
            "c9447fe4b79b4d529ce4cda61a89ca2f"
          ]
        },
        "id": "o2wgxvd1Lhr2",
        "outputId": "0b3e7374-3d18-48d3-e866-60c5049410a1"
      },
      "execution_count": null,
      "outputs": [
        {
          "output_type": "display_data",
          "data": {
            "text/plain": "Downloading (…)rocessor_config.json:   0%|          | 0.00/228 [00:00<?, ?B/s]",
            "application/vnd.jupyter.widget-view+json": {
              "version_major": 2,
              "version_minor": 0,
              "model_id": "041bce553f9b4889afeaefdd592b9a79"
            }
          },
          "metadata": {}
        },
        {
          "name": "stderr",
          "text": "Could not find image processor class in the image processor config or the model config. Loading based on pattern matching with the model's feature extractor configuration.\n",
          "output_type": "stream"
        },
        {
          "output_type": "display_data",
          "data": {
            "text/plain": "Downloading (…)okenizer_config.json:   0%|          | 0.00/1.12k [00:00<?, ?B/s]",
            "application/vnd.jupyter.widget-view+json": {
              "version_major": 2,
              "version_minor": 0,
              "model_id": "1a535caca79b40eeb92aaa267231a395"
            }
          },
          "metadata": {}
        },
        {
          "output_type": "display_data",
          "data": {
            "text/plain": "Downloading (…)olve/main/vocab.json:   0%|          | 0.00/899k [00:00<?, ?B/s]",
            "application/vnd.jupyter.widget-view+json": {
              "version_major": 2,
              "version_minor": 0,
              "model_id": "958526a6e07a406ab1c9493eb18e1896"
            }
          },
          "metadata": {}
        },
        {
          "output_type": "display_data",
          "data": {
            "text/plain": "Downloading (…)olve/main/merges.txt:   0%|          | 0.00/456k [00:00<?, ?B/s]",
            "application/vnd.jupyter.widget-view+json": {
              "version_major": 2,
              "version_minor": 0,
              "model_id": "1280f756f5594c9b87bd9587351f8594"
            }
          },
          "metadata": {}
        },
        {
          "output_type": "display_data",
          "data": {
            "text/plain": "Downloading (…)cial_tokens_map.json:   0%|          | 0.00/772 [00:00<?, ?B/s]",
            "application/vnd.jupyter.widget-view+json": {
              "version_major": 2,
              "version_minor": 0,
              "model_id": "d5a1e58170ca43edb6a3d95fe018bf6b"
            }
          },
          "metadata": {}
        },
        {
          "output_type": "display_data",
          "data": {
            "text/plain": "Downloading (…)lve/main/config.json:   0%|          | 0.00/4.13k [00:00<?, ?B/s]",
            "application/vnd.jupyter.widget-view+json": {
              "version_major": 2,
              "version_minor": 0,
              "model_id": "22e7a22784d74106b89104826ee97149"
            }
          },
          "metadata": {}
        },
        {
          "output_type": "display_data",
          "data": {
            "text/plain": "Downloading pytorch_model.bin:   0%|          | 0.00/1.33G [00:00<?, ?B/s]",
            "application/vnd.jupyter.widget-view+json": {
              "version_major": 2,
              "version_minor": 0,
              "model_id": "3c4f24031f1546fab795c25b898d0c80"
            }
          },
          "metadata": {}
        },
        {
          "name": "stderr",
          "text": "Some weights of VisionEncoderDecoderModel were not initialized from the model checkpoint at microsoft/trocr-base-printed and are newly initialized: ['encoder.pooler.dense.weight', 'encoder.pooler.dense.bias']\nYou should probably TRAIN this model on a down-stream task to be able to use it for predictions and inference.\n",
          "output_type": "stream"
        },
        {
          "output_type": "display_data",
          "data": {
            "text/plain": "Downloading (…)neration_config.json:   0%|          | 0.00/190 [00:00<?, ?B/s]",
            "application/vnd.jupyter.widget-view+json": {
              "version_major": 2,
              "version_minor": 0,
              "model_id": "c9447fe4b79b4d529ce4cda61a89ca2f"
            }
          },
          "metadata": {}
        }
      ]
    },
    {
      "cell_type": "markdown",
      "source": [
        "### Print Length of Training & Testing Datasets"
      ],
      "metadata": {
        "id": "3SFiS9RGLhr2"
      }
    },
    {
      "cell_type": "code",
      "source": [
        "print(f\"The training dataset has {len(train_ds)} samples in it.\")\n",
        "print(f\"The testing dataset has {len(test_ds)} samples in it.\")"
      ],
      "metadata": {
        "execution": {
          "iopub.status.busy": "2023-09-07T07:40:44.969845Z",
          "iopub.execute_input": "2023-09-07T07:40:44.970130Z",
          "iopub.status.idle": "2023-09-07T07:40:44.976344Z",
          "shell.execute_reply.started": "2023-09-07T07:40:44.970104Z",
          "shell.execute_reply": "2023-09-07T07:40:44.975286Z"
        },
        "trusted": true,
        "id": "PYL-67HhLhr2",
        "outputId": "7e8b0de2-61ae-48b1-fc2c-f850df097145"
      },
      "execution_count": null,
      "outputs": [
        {
          "name": "stdout",
          "text": "The training dataset has 16000 samples in it.\nThe testing dataset has 4000 samples in it.\n",
          "output_type": "stream"
        }
      ]
    },
    {
      "cell_type": "markdown",
      "source": [
        "### Example of Input Data Shapes"
      ],
      "metadata": {
        "id": "i85v-OnjLhr2"
      }
    },
    {
      "cell_type": "code",
      "source": [
        "encoding = train_ds[0]\n",
        "\n",
        "for k,v in encoding.items():\n",
        "    print(k, \" : \", v.shape)"
      ],
      "metadata": {
        "execution": {
          "iopub.status.busy": "2023-09-07T07:40:44.977623Z",
          "iopub.execute_input": "2023-09-07T07:40:44.978323Z",
          "iopub.status.idle": "2023-09-07T07:40:45.047007Z",
          "shell.execute_reply.started": "2023-09-07T07:40:44.978284Z",
          "shell.execute_reply": "2023-09-07T07:40:45.046062Z"
        },
        "trusted": true,
        "id": "Ny2BplQ2Lhr3",
        "outputId": "7b3b466b-8eae-48ea-bbf5-e23708f9ac6c"
      },
      "execution_count": null,
      "outputs": [
        {
          "name": "stdout",
          "text": "pixel_values  :  torch.Size([3, 384, 384])\nlabels  :  torch.Size([128])\n",
          "output_type": "stream"
        }
      ]
    },
    {
      "cell_type": "markdown",
      "source": [
        "### Show Example"
      ],
      "metadata": {
        "id": "eSfEOVH6Lhr3"
      }
    },
    {
      "cell_type": "code",
      "source": [
        "image = Image.open(train_dataset['images'][0]).convert(\"RGB\")\n",
        "labels = encoding['labels']\n",
        "labels[labels == -100] = processor.tokenizer.pad_token_id\n",
        "label_str = processor.decode(labels, skip_special_tokens=True)\n",
        "print('Label:', label_str, 'Image:')\n",
        "image\n"
      ],
      "metadata": {
        "execution": {
          "iopub.status.busy": "2023-09-07T07:40:45.048365Z",
          "iopub.execute_input": "2023-09-07T07:40:45.048724Z",
          "iopub.status.idle": "2023-09-07T07:40:45.077047Z",
          "shell.execute_reply.started": "2023-09-07T07:40:45.048689Z",
          "shell.execute_reply": "2023-09-07T07:40:45.076142Z"
        },
        "trusted": true,
        "id": "_bnFE5XALhr3",
        "outputId": "3edd4a04-c1a4-4bb5-ea78-0b0b9d3035c9"
      },
      "execution_count": null,
      "outputs": [
        {
          "name": "stdout",
          "text": "Label: 2730UB Image:\n",
          "output_type": "stream"
        },
        {
          "execution_count": 12,
          "output_type": "execute_result",
          "data": {
            "text/plain": "<PIL.Image.Image image mode=RGB size=142x66>",
            "image/png": "[encoded data removed]"
          },
          "metadata": {}
        }
      ]
    },
    {
      "cell_type": "markdown",
      "source": [
        "### 4. Deep Neural Network Architecture"
      ],
      "metadata": {
        "id": "O23bnLIrLhr3"
      }
    },
    {
      "cell_type": "markdown",
      "source": [
        "### Model Configuration"
      ],
      "metadata": {
        "id": "3JeRt6tVLhr3"
      }
    },
    {
      "cell_type": "code",
      "source": [
        "model.config.decoder_start_token_id = processor.tokenizer.cls_token_id\n",
        "model.config.pad_token_id = processor.tokenizer.pad_token_id\n",
        "\n",
        "model.config.vocab_size = model.config.decoder.vocab_size\n",
        "\n",
        "model.config.eos_token_id = processor.tokenizer.sep_token_id\n",
        "model.config.max_length = 64\n",
        "model.config.early_stopping = True\n",
        "model.config.no_repeat_ngram_size = 3\n",
        "model.config.length_penalty = 2.0\n",
        "model.config.num_beams = 4"
      ],
      "metadata": {
        "execution": {
          "iopub.status.busy": "2023-09-07T07:40:45.078457Z",
          "iopub.execute_input": "2023-09-07T07:40:45.079228Z",
          "iopub.status.idle": "2023-09-07T07:40:45.085885Z",
          "shell.execute_reply.started": "2023-09-07T07:40:45.079193Z",
          "shell.execute_reply": "2023-09-07T07:40:45.084882Z"
        },
        "trusted": true,
        "id": "UYosotoDLhr3"
      },
      "execution_count": null,
      "outputs": []
    },
    {
      "cell_type": "markdown",
      "source": [
        "### 4.1 Design the architecture that you will be using\n",
        "\n",
        "* CNN / RNN / Transformer as per the journal referenced"
      ],
      "metadata": {
        "id": "w0rElEObLhr3"
      }
    },
    {
      "cell_type": "code",
      "source": [
        "model"
      ],
      "metadata": {
        "execution": {
          "iopub.status.busy": "2023-09-07T07:40:45.087384Z",
          "iopub.execute_input": "2023-09-07T07:40:45.087944Z",
          "iopub.status.idle": "2023-09-07T07:40:45.101175Z",
          "shell.execute_reply.started": "2023-09-07T07:40:45.087911Z",
          "shell.execute_reply": "2023-09-07T07:40:45.100117Z"
        },
        "trusted": true,
        "id": "ocfaovXcLhr3",
        "outputId": "c7d88ca8-0e70-4523-ea6b-32981227b557"
      },
      "execution_count": null,
      "outputs": [
        {
          "execution_count": 14,
          "output_type": "execute_result",
          "data": {
            "text/plain": "VisionEncoderDecoderModel(\n  (encoder): ViTModel(\n    (embeddings): ViTEmbeddings(\n      (patch_embeddings): ViTPatchEmbeddings(\n        (projection): Conv2d(3, 768, kernel_size=(16, 16), stride=(16, 16))\n      )\n      (dropout): Dropout(p=0.0, inplace=False)\n    )\n    (encoder): ViTEncoder(\n      (layer): ModuleList(\n        (0-11): 12 x ViTLayer(\n          (attention): ViTAttention(\n            (attention): ViTSelfAttention(\n              (query): Linear(in_features=768, out_features=768, bias=False)\n              (key): Linear(in_features=768, out_features=768, bias=False)\n              (value): Linear(in_features=768, out_features=768, bias=False)\n              (dropout): Dropout(p=0.0, inplace=False)\n            )\n            (output): ViTSelfOutput(\n              (dense): Linear(in_features=768, out_features=768, bias=True)\n              (dropout): Dropout(p=0.0, inplace=False)\n            )\n          )\n          (intermediate): ViTIntermediate(\n            (dense): Linear(in_features=768, out_features=3072, bias=True)\n            (intermediate_act_fn): GELUActivation()\n          )\n          (output): ViTOutput(\n            (dense): Linear(in_features=3072, out_features=768, bias=True)\n            (dropout): Dropout(p=0.0, inplace=False)\n          )\n          (layernorm_before): LayerNorm((768,), eps=1e-12, elementwise_affine=True)\n          (layernorm_after): LayerNorm((768,), eps=1e-12, elementwise_affine=True)\n        )\n      )\n    )\n    (layernorm): LayerNorm((768,), eps=1e-12, elementwise_affine=True)\n    (pooler): ViTPooler(\n      (dense): Linear(in_features=768, out_features=768, bias=True)\n      (activation): Tanh()\n    )\n  )\n  (decoder): TrOCRForCausalLM(\n    (model): TrOCRDecoderWrapper(\n      (decoder): TrOCRDecoder(\n        (embed_tokens): Embedding(50265, 1024, padding_idx=1)\n        (embed_positions): TrOCRLearnedPositionalEmbedding(514, 1024)\n        (layernorm_embedding): LayerNorm((1024,), eps=1e-05, elementwise_affine=True)\n        (layers): ModuleList(\n          (0-11): 12 x TrOCRDecoderLayer(\n            (self_attn): TrOCRAttention(\n              (k_proj): Linear(in_features=1024, out_features=1024, bias=True)\n              (v_proj): Linear(in_features=1024, out_features=1024, bias=True)\n              (q_proj): Linear(in_features=1024, out_features=1024, bias=True)\n              (out_proj): Linear(in_features=1024, out_features=1024, bias=True)\n            )\n            (activation_fn): GELUActivation()\n            (self_attn_layer_norm): LayerNorm((1024,), eps=1e-05, elementwise_affine=True)\n            (encoder_attn): TrOCRAttention(\n              (k_proj): Linear(in_features=768, out_features=1024, bias=True)\n              (v_proj): Linear(in_features=768, out_features=1024, bias=True)\n              (q_proj): Linear(in_features=1024, out_features=1024, bias=True)\n              (out_proj): Linear(in_features=1024, out_features=1024, bias=True)\n            )\n            (encoder_attn_layer_norm): LayerNorm((1024,), eps=1e-05, elementwise_affine=True)\n            (fc1): Linear(in_features=1024, out_features=4096, bias=True)\n            (fc2): Linear(in_features=4096, out_features=1024, bias=True)\n            (final_layer_norm): LayerNorm((1024,), eps=1e-05, elementwise_affine=True)\n          )\n        )\n      )\n    )\n    (output_projection): Linear(in_features=1024, out_features=50265, bias=False)\n  )\n)"
          },
          "metadata": {}
        }
      ]
    },
    {
      "cell_type": "markdown",
      "source": [
        "### Define Metrics Evaluation"
      ],
      "metadata": {
        "id": "849zDFGGLhr4"
      }
    },
    {
      "cell_type": "code",
      "source": [
        "cer_metric = load_metric(\"cer\")\n",
        "#acc_metric = load_metric(\"accuracy\")\n",
        "def compute_metrics(pred):\n",
        "    label_ids = pred.label_ids\n",
        "    pred_ids = pred.predictions\n",
        "\n",
        "    pred_str = processor.batch_decode(pred_ids, skip_special_tokens=True)\n",
        "    label_ids[label_ids == -100] = processor.tokenizer.pad_token_id\n",
        "    label_str = processor.batch_decode(label_ids, skip_special_tokens=True)\n",
        "\n",
        "    cer = cer_metric.compute(predictions=pred_str, references=label_str)\n",
        "        # Calculate accuracy\n",
        "    #acc = acc_metric.compute(predictions=pred_str, references=label_str)\n",
        "    return {\"cer\" : cer}"
      ],
      "metadata": {
        "execution": {
          "iopub.status.busy": "2023-09-07T07:40:45.102817Z",
          "iopub.execute_input": "2023-09-07T07:40:45.103434Z",
          "iopub.status.idle": "2023-09-07T07:40:45.862231Z",
          "shell.execute_reply.started": "2023-09-07T07:40:45.103399Z",
          "shell.execute_reply": "2023-09-07T07:40:45.861341Z"
        },
        "trusted": true,
        "colab": {
          "referenced_widgets": [
            "44bac1fa87e94db7b9627193c047637e"
          ]
        },
        "id": "D5clh32GLhr4",
        "outputId": "f559a987-9478-4484-95cf-4fe73b93c73f"
      },
      "execution_count": null,
      "outputs": [
        {
          "output_type": "display_data",
          "data": {
            "text/plain": "Downloading builder script:   0%|          | 0.00/2.16k [00:00<?, ?B/s]",
            "application/vnd.jupyter.widget-view+json": {
              "version_major": 2,
              "version_minor": 0,
              "model_id": "44bac1fa87e94db7b9627193c047637e"
            }
          },
          "metadata": {}
        }
      ]
    },
    {
      "cell_type": "markdown",
      "source": [
        "### Define Training Arguments"
      ],
      "metadata": {
        "id": "2MHfbL9MLhr4"
      }
    },
    {
      "cell_type": "code",
      "source": [
        "training_args = Seq2SeqTrainingArguments(\n",
        "    predict_with_generate=True,\n",
        "    evaluation_strategy=\"steps\",\n",
        "    per_device_train_batch_size=8,\n",
        "    per_device_eval_batch_size=8,\n",
        "    fp16=False,\n",
        "    output_dir=\"./\",\n",
        "    logging_steps=2,\n",
        "    save_steps=1000,\n",
        "    eval_steps=200,\n",
        "    report_to=\"wandb\"\n",
        ")"
      ],
      "metadata": {
        "execution": {
          "iopub.status.busy": "2023-09-07T07:40:45.863790Z",
          "iopub.execute_input": "2023-09-07T07:40:45.864191Z",
          "iopub.status.idle": "2023-09-07T07:40:45.954336Z",
          "shell.execute_reply.started": "2023-09-07T07:40:45.864126Z",
          "shell.execute_reply": "2023-09-07T07:40:45.953415Z"
        },
        "trusted": true,
        "id": "MJ4uJMnXLhr4"
      },
      "execution_count": null,
      "outputs": []
    },
    {
      "cell_type": "markdown",
      "source": [
        "### Define Trainer"
      ],
      "metadata": {
        "id": "SaFh9BvYLhr4"
      }
    },
    {
      "cell_type": "code",
      "source": [
        "from transformers import default_data_collator\n",
        "\n",
        "# instantiate trainer\n",
        "trainer = Seq2SeqTrainer(\n",
        "    model=model,\n",
        "    tokenizer=processor.feature_extractor,\n",
        "    args=training_args,\n",
        "    compute_metrics=compute_metrics,\n",
        "    train_dataset=train_ds,\n",
        "    eval_dataset=test_ds,\n",
        "    data_collator=default_data_collator,\n",
        ")"
      ],
      "metadata": {
        "execution": {
          "iopub.status.busy": "2023-09-07T07:40:45.955859Z",
          "iopub.execute_input": "2023-09-07T07:40:45.956477Z",
          "iopub.status.idle": "2023-09-07T07:40:52.296593Z",
          "shell.execute_reply.started": "2023-09-07T07:40:45.956440Z",
          "shell.execute_reply": "2023-09-07T07:40:52.295576Z"
        },
        "trusted": true,
        "id": "oLnLzXjILhr4"
      },
      "execution_count": null,
      "outputs": []
    },
    {
      "cell_type": "markdown",
      "source": [
        "### 4.2 DNN Report\n",
        "\n",
        "Report the following and provide justification for the same.\n",
        "\n",
        "* Number of layers\n",
        "* Number of units in each layer\n",
        "* Total number of trainable parameters"
      ],
      "metadata": {
        "id": "4H6rG0ZtLhr5"
      }
    },
    {
      "cell_type": "markdown",
      "source": [
        "Number of Layers:\n",
        "For the Vision Encoder (ViTModel), there are 12 layers in the encoder stack. This is indicated by (0-11): 12 x ViTLayer.\n",
        "For the Text Decoder (TrOCRDecoderWrapper), there are also 12 layers in the decoder stack, as shown by (0-11): 12 x TrOCRDecoderLayer.\n",
        "So, the total number of layers in the model is 12 for both the encoder and decoder, making it a total of 24 layers.\n",
        "\n",
        "Number of Units in Each Layer:\n",
        "\n",
        "In the Vision Encoder, each layer of the ViTLayer has 768 units in its hidden layers. This is indicated by the size of the linear transformations, e.g., (query): Linear(in_features=768, out_features=768, bias=False) and (dense): Linear(in_features=3072, out_features=768, bias=True).\n",
        "\n",
        "In the Text Decoder, each layer of the TrOCRDecoderLayer has 1024 units in its hidden layers, as shown by (k_proj): Linear(in_features=1024, out_features=1024, bias=True).\n",
        "\n",
        "Total Trainable Parameters = 333921792(Sum of (Number of Weights + Number of Biases) for all layers)"
      ],
      "metadata": {
        "id": "KS1l9oSULhr5"
      }
    },
    {
      "cell_type": "code",
      "source": [
        "total_params = sum(p.numel() for p in model.parameters() if p.requires_grad)\n",
        "print(\"Total Trainable Parameters:\", total_params)\n"
      ],
      "metadata": {
        "execution": {
          "iopub.status.busy": "2023-09-07T07:40:52.298131Z",
          "iopub.execute_input": "2023-09-07T07:40:52.298492Z",
          "iopub.status.idle": "2023-09-07T07:40:52.306380Z",
          "shell.execute_reply.started": "2023-09-07T07:40:52.298459Z",
          "shell.execute_reply": "2023-09-07T07:40:52.305408Z"
        },
        "trusted": true,
        "id": "7uXa3VpNLhr6",
        "outputId": "60ea9807-a1ca-45bf-e6f9-ca5b306ad015"
      },
      "execution_count": null,
      "outputs": [
        {
          "name": "stdout",
          "text": "Total Trainable Parameters: 333921792\n",
          "output_type": "stream"
        }
      ]
    },
    {
      "cell_type": "markdown",
      "source": [
        "### 6. Test the model"
      ],
      "metadata": {
        "id": "_gomRnD7Lhr6"
      }
    },
    {
      "cell_type": "markdown",
      "source": [
        "### Fit/Train Model"
      ],
      "metadata": {
        "id": "dBZUOC6rLhr6"
      }
    },
    {
      "cell_type": "code",
      "source": [
        "train_results = trainer.train()"
      ],
      "metadata": {
        "execution": {
          "iopub.status.busy": "2023-09-07T07:40:52.307771Z",
          "iopub.execute_input": "2023-09-07T07:40:52.308407Z",
          "iopub.status.idle": "2023-09-07T13:57:23.810579Z",
          "shell.execute_reply.started": "2023-09-07T07:40:52.308360Z",
          "shell.execute_reply": "2023-09-07T13:57:23.807416Z"
        },
        "trusted": true,
        "id": "M7Vz9xJ2Lhr7",
        "outputId": "f4a344ef-857d-43b0-c280-6f638c9b73bc"
      },
      "execution_count": null,
      "outputs": [
        {
          "name": "stderr",
          "text": "\u001b[34m\u001b[1mwandb\u001b[0m: Logging into wandb.ai. (Learn how to deploy a W&B server locally: https://wandb.me/wandb-server)\n\u001b[34m\u001b[1mwandb\u001b[0m: You can find your API key in your browser here: https://wandb.ai/authorize\n\u001b[34m\u001b[1mwandb\u001b[0m: Paste an API key from your profile and hit enter, or press ctrl+c to quit:",
          "output_type": "stream"
        },
        {
          "output_type": "stream",
          "name": "stdin",
          "text": "  ········································\n"
        },
        {
          "name": "stderr",
          "text": "\u001b[34m\u001b[1mwandb\u001b[0m: Appending key for api.wandb.ai to your netrc file: /root/.netrc\n",
          "output_type": "stream"
        },
        {
          "output_type": "display_data",
          "data": {
            "text/plain": "<IPython.core.display.HTML object>",
            "text/html": "wandb version 0.15.10 is available!  To upgrade, please run:\n $ pip install wandb --upgrade"
          },
          "metadata": {}
        },
        {
          "output_type": "display_data",
          "data": {
            "text/plain": "<IPython.core.display.HTML object>",
            "text/html": "Tracking run with wandb version 0.15.5"
          },
          "metadata": {}
        },
        {
          "output_type": "display_data",
          "data": {
            "text/plain": "<IPython.core.display.HTML object>",
            "text/html": "Run data is saved locally in <code>/kaggle/working/wandb/run-20230907_074123-kpememqh</code>"
          },
          "metadata": {}
        },
        {
          "output_type": "display_data",
          "data": {
            "text/plain": "<IPython.core.display.HTML object>",
            "text/html": "Syncing run <strong><a href='https://wandb.ai/anand-awasthi/huggingface/runs/kpememqh' target=\"_blank\">solar-capybara-3</a></strong> to <a href='https://wandb.ai/anand-awasthi/huggingface' target=\"_blank\">Weights & Biases</a> (<a href='https://wandb.me/run' target=\"_blank\">docs</a>)<br/>"
          },
          "metadata": {}
        },
        {
          "output_type": "display_data",
          "data": {
            "text/plain": "<IPython.core.display.HTML object>",
            "text/html": " View project at <a href='https://wandb.ai/anand-awasthi/huggingface' target=\"_blank\">https://wandb.ai/anand-awasthi/huggingface</a>"
          },
          "metadata": {}
        },
        {
          "output_type": "display_data",
          "data": {
            "text/plain": "<IPython.core.display.HTML object>",
            "text/html": " View run at <a href='https://wandb.ai/anand-awasthi/huggingface/runs/kpememqh' target=\"_blank\">https://wandb.ai/anand-awasthi/huggingface/runs/kpememqh</a>"
          },
          "metadata": {}
        },
        {
          "output_type": "display_data",
          "data": {
            "text/plain": "<IPython.core.display.HTML object>",
            "text/html": "\n    <div>\n      \n      <progress value='3000' max='3000' style='width:300px; height:20px; vertical-align: middle;'></progress>\n      [3000/3000 6:15:12, Epoch 3/3]\n    </div>\n    <table border=\"1\" class=\"dataframe\">\n  <thead>\n <tr style=\"text-align: left;\">\n      <th>Step</th>\n      <th>Training Loss</th>\n      <th>Validation Loss</th>\n      <th>Cer</th>\n    </tr>\n  </thead>\n  <tbody>\n    <tr>\n      <td>200</td>\n      <td>0.415300</td>\n      <td>0.609433</td>\n      <td>0.107667</td>\n    </tr>\n    <tr>\n      <td>400</td>\n      <td>0.355000</td>\n      <td>0.363529</td>\n      <td>0.064792</td>\n    </tr>\n    <tr>\n      <td>600</td>\n      <td>0.229000</td>\n      <td>0.379312</td>\n      <td>0.057375</td>\n    </tr>\n    <tr>\n      <td>800</td>\n      <td>0.201500</td>\n      <td>0.296761</td>\n      <td>0.053292</td>\n    </tr>\n    <tr>\n      <td>1000</td>\n      <td>0.156900</td>\n      <td>0.283051</td>\n      <td>0.053208</td>\n    </tr>\n    <tr>\n      <td>1200</td>\n      <td>0.206400</td>\n      <td>0.259601</td>\n      <td>0.046333</td>\n    </tr>\n    <tr>\n      <td>1400</td>\n      <td>0.142500</td>\n      <td>0.203614</td>\n      <td>0.041792</td>\n    </tr>\n    <tr>\n      <td>1600</td>\n      <td>0.170800</td>\n      <td>0.196299</td>\n      <td>0.041542</td>\n    </tr>\n    <tr>\n      <td>1800</td>\n      <td>0.028600</td>\n      <td>0.184708</td>\n      <td>0.040583</td>\n    </tr>\n    <tr>\n      <td>2000</td>\n      <td>0.244100</td>\n      <td>0.171630</td>\n      <td>0.037458</td>\n    </tr>\n    <tr>\n      <td>2200</td>\n      <td>0.002400</td>\n      <td>0.169579</td>\n      <td>0.036625</td>\n    </tr>\n    <tr>\n      <td>2400</td>\n      <td>0.002200</td>\n      <td>0.163444</td>\n      <td>0.034667</td>\n    </tr>\n    <tr>\n      <td>2600</td>\n      <td>0.289000</td>\n      <td>0.158741</td>\n      <td>0.034292</td>\n    </tr>\n    <tr>\n      <td>2800</td>\n      <td>0.095300</td>\n      <td>0.153596</td>\n      <td>0.034750</td>\n    </tr>\n    <tr>\n      <td>3000</td>\n      <td>0.150700</td>\n      <td>0.151313</td>\n      <td>0.034250</td>\n    </tr>\n  </tbody>\n</table><p>"
          },
          "metadata": {}
        }
      ]
    },
    {
      "cell_type": "markdown",
      "source": [
        "### Save Model & Training Metrics"
      ],
      "metadata": {
        "id": "65ebY0lRLhr7"
      }
    },
    {
      "cell_type": "code",
      "source": [
        "trainer.save_model()\n",
        "trainer.log_metrics(\"train\", train_results.metrics)\n",
        "trainer.save_metrics(\"train\", train_results.metrics)\n",
        "trainer.save_state()"
      ],
      "metadata": {
        "execution": {
          "iopub.status.busy": "2023-09-07T13:57:23.818280Z",
          "iopub.execute_input": "2023-09-07T13:57:23.821642Z",
          "iopub.status.idle": "2023-09-07T13:57:29.583031Z",
          "shell.execute_reply.started": "2023-09-07T13:57:23.821595Z",
          "shell.execute_reply": "2023-09-07T13:57:29.581999Z"
        },
        "trusted": true,
        "id": "J2QL6uggLhr7",
        "outputId": "6fa56a35-886a-479b-c12b-be4e77f93cec"
      },
      "execution_count": null,
      "outputs": [
        {
          "name": "stdout",
          "text": "***** train metrics *****\n  epoch                    =           3.0\n  total_flos               = 33450954750GF\n  train_loss               =        0.2512\n  train_runtime            =    6:16:31.12\n  train_samples_per_second =         2.125\n  train_steps_per_second   =         0.133\n",
          "output_type": "stream"
        }
      ]
    },
    {
      "cell_type": "markdown",
      "source": [
        "### Evaluate Model"
      ],
      "metadata": {
        "id": "0sgLj8p_Lhr8"
      }
    },
    {
      "cell_type": "code",
      "source": [
        "metrics = trainer.evaluate()\n",
        "trainer.log_metrics(\"eval\", metrics)\n",
        "trainer.save_metrics(\"eval\", metrics)"
      ],
      "metadata": {
        "execution": {
          "iopub.status.busy": "2023-09-07T13:57:29.588109Z",
          "iopub.execute_input": "2023-09-07T13:57:29.590941Z",
          "iopub.status.idle": "2023-09-07T14:14:56.197296Z",
          "shell.execute_reply.started": "2023-09-07T13:57:29.590898Z",
          "shell.execute_reply": "2023-09-07T14:14:56.196304Z"
        },
        "trusted": true,
        "id": "S5MS5VUMLhr8",
        "outputId": "98cf590c-a2ae-4478-9f34-6ef012b1fe95"
      },
      "execution_count": null,
      "outputs": [
        {
          "output_type": "display_data",
          "data": {
            "text/plain": "<IPython.core.display.HTML object>",
            "text/html": "\n    <div>\n      \n      <progress value='250' max='250' style='width:300px; height:20px; vertical-align: middle;'></progress>\n      [250/250 17:22]\n    </div>\n    "
          },
          "metadata": {}
        },
        {
          "name": "stdout",
          "text": "***** eval metrics *****\n  epoch                   =        3.0\n  eval_cer                =     0.0343\n  eval_loss               =     0.1513\n  eval_runtime            = 0:17:26.59\n  eval_samples_per_second =      3.822\n  eval_steps_per_second   =      0.239\n",
          "output_type": "stream"
        }
      ]
    },
    {
      "cell_type": "markdown",
      "source": [
        "### 7. Report the result\n",
        "\n",
        "1. Plot the training and validation accuracy history.\n",
        "2. Plot the training and validation loss history.\n",
        "3. Report the testing accuracy and loss.\n",
        "4. Show Confusion Matrix for testing dataset.\n",
        "5. Report values for preformance study metrics like accuracy, precision, recall, F1 Score."
      ],
      "metadata": {
        "id": "6D1lfgmnLhr8"
      }
    },
    {
      "cell_type": "markdown",
      "source": [
        "![image.png](data:image/png;base64,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)"
      ],
      "metadata": {
        "id": "-pnnkNpfMRzx"
      }
    },
    {
      "cell_type": "markdown",
      "source": [
        "![image.png](data:image/png;base64,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)"
      ],
      "metadata": {
        "id": "xtbdRh4UMZO2"
      }
    },
    {
      "cell_type": "markdown",
      "source": [
        "![image.png](data:image/png;base64,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)"
      ],
      "metadata": {
        "id": "D2engnCpMoiW"
      }
    },
    {
      "cell_type": "markdown",
      "source": [
        "![image.png](data:image/png;base64,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)"
      ],
      "metadata": {
        "id": "1yOgWtsJM6k2"
      }
    },
    {
      "cell_type": "markdown",
      "source": [
        "![image.png](data:image/png;base64,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)"
      ],
      "metadata": {
        "id": "czKMJs8CM9FY"
      }
    },
    {
      "cell_type": "markdown",
      "source": [
        "### Inference"
      ],
      "metadata": {
        "id": "wB29r3tALhr9"
      }
    },
    {
      "cell_type": "code",
      "source": [
        "test_idx = 0\n",
        "test_processor = TrOCRProcessor.from_pretrained(\"microsoft/trocr-base-printed\")\n",
        "test_file_name = test_dataset['images'][test_idx]\n",
        "test_text = test_dataset['labels'][test_idx]\n",
        "# prepare image (i.e. resize + normalize)\n",
        "test_image = Image.open(test_file_name).convert(\"RGB\")\n",
        "test_pixel_values = test_processor(test_image, return_tensors=\"pt\").pixel_values"
      ],
      "metadata": {
        "execution": {
          "iopub.status.busy": "2023-09-07T14:14:56.198729Z",
          "iopub.execute_input": "2023-09-07T14:14:56.199299Z",
          "iopub.status.idle": "2023-09-07T14:14:56.796493Z",
          "shell.execute_reply.started": "2023-09-07T14:14:56.199264Z",
          "shell.execute_reply": "2023-09-07T14:14:56.792127Z"
        },
        "trusted": true,
        "id": "e1Fpv2ROLhr9",
        "outputId": "43cacaba-f34c-4400-c503-a368f4a6e82c"
      },
      "execution_count": null,
      "outputs": [
        {
          "name": "stderr",
          "text": "Could not find image processor class in the image processor config or the model config. Loading based on pattern matching with the model's feature extractor configuration.\n",
          "output_type": "stream"
        }
      ]
    },
    {
      "cell_type": "markdown",
      "source": [
        "### Inference Test Image"
      ],
      "metadata": {
        "id": "-hlgSx27Lhr-"
      }
    },
    {
      "cell_type": "code",
      "source": [
        "test_image"
      ],
      "metadata": {
        "execution": {
          "iopub.status.busy": "2023-09-07T14:14:56.804792Z",
          "iopub.execute_input": "2023-09-07T14:14:56.805237Z",
          "iopub.status.idle": "2023-09-07T14:14:56.840744Z",
          "shell.execute_reply.started": "2023-09-07T14:14:56.805194Z",
          "shell.execute_reply": "2023-09-07T14:14:56.838081Z"
        },
        "trusted": true,
        "id": "0GjAqyzGLhr-",
        "outputId": "000ddaf8-8f0a-44f4-b681-f4194bc7e5f9"
      },
      "execution_count": null,
      "outputs": [
        {
          "execution_count": 23,
          "output_type": "execute_result",
          "data": {
            "text/plain": "<PIL.Image.Image image mode=RGB size=143x67>",
            "image/png": "[encoded data removed]"
          },
          "metadata": {}
        }
      ]
    },
    {
      "cell_type": "markdown",
      "source": [
        "### Inference Test Image Dim"
      ],
      "metadata": {
        "id": "q09sXlieLhr-"
      }
    },
    {
      "cell_type": "code",
      "source": [
        "test_pixel_values.shape"
      ],
      "metadata": {
        "execution": {
          "iopub.status.busy": "2023-09-07T14:14:56.851085Z",
          "iopub.execute_input": "2023-09-07T14:14:56.854658Z",
          "iopub.status.idle": "2023-09-07T14:14:56.869441Z",
          "shell.execute_reply.started": "2023-09-07T14:14:56.854598Z",
          "shell.execute_reply": "2023-09-07T14:14:56.868129Z"
        },
        "trusted": true,
        "id": "Ha06QpHfLhr-",
        "outputId": "aef6ba31-57d7-4107-e35b-e719dbc301fd"
      },
      "execution_count": null,
      "outputs": [
        {
          "execution_count": 24,
          "output_type": "execute_result",
          "data": {
            "text/plain": "torch.Size([1, 3, 384, 384])"
          },
          "metadata": {}
        }
      ]
    },
    {
      "cell_type": "markdown",
      "source": [
        "### Load model from Output Dir."
      ],
      "metadata": {
        "id": "uY71QNpsLhr-"
      }
    },
    {
      "cell_type": "code",
      "source": [
        "test_model = VisionEncoderDecoderModel.from_pretrained(\"./\")"
      ],
      "metadata": {
        "execution": {
          "iopub.status.busy": "2023-09-07T14:14:56.871089Z",
          "iopub.execute_input": "2023-09-07T14:14:56.872038Z",
          "iopub.status.idle": "2023-09-07T14:15:04.957851Z",
          "shell.execute_reply.started": "2023-09-07T14:14:56.871996Z",
          "shell.execute_reply": "2023-09-07T14:15:04.956689Z"
        },
        "trusted": true,
        "id": "EyPtolcsLhr-"
      },
      "execution_count": null,
      "outputs": []
    },
    {
      "cell_type": "markdown",
      "source": [
        "### Inference Model Configuration"
      ],
      "metadata": {
        "id": "e_meQmHKLhr-"
      }
    },
    {
      "cell_type": "code",
      "source": [
        "test_model.config.decoder_start_token_id = test_processor.tokenizer.cls_token_id\n",
        "test_model.config.pad_token_id = test_processor.tokenizer.pad_token_id\n",
        "\n",
        "test_model.config.vocab_size = test_model.config.decoder.vocab_size\n",
        "\n",
        "test_model.config.eos_token_id = test_processor.tokenizer.sep_token_id\n",
        "test_model.config.max_length = 64\n",
        "test_model.config.early_stopping = True\n",
        "test_model.config.no_repeat_ngram_size = 3\n",
        "test_model.config.length_penalty = 2.0\n",
        "test_model.config.num_beams = 4"
      ],
      "metadata": {
        "execution": {
          "iopub.status.busy": "2023-09-07T14:15:04.959303Z",
          "iopub.execute_input": "2023-09-07T14:15:04.960001Z",
          "iopub.status.idle": "2023-09-07T14:15:04.973180Z",
          "shell.execute_reply.started": "2023-09-07T14:15:04.959962Z",
          "shell.execute_reply": "2023-09-07T14:15:04.971905Z"
        },
        "trusted": true,
        "id": "P074xXQOLhr_"
      },
      "execution_count": null,
      "outputs": []
    },
    {
      "cell_type": "markdown",
      "source": [
        "### Inference model prediction"
      ],
      "metadata": {
        "id": "WmDcHIdULhr_"
      }
    },
    {
      "cell_type": "code",
      "source": [
        "generated_ids = test_model.generate(test_pixel_values)\n",
        "generated_text = test_processor.batch_decode(generated_ids, skip_special_tokens=True)[0]\n",
        "print(generated_text)"
      ],
      "metadata": {
        "execution": {
          "iopub.status.busy": "2023-09-07T14:15:04.974843Z",
          "iopub.execute_input": "2023-09-07T14:15:04.975675Z",
          "iopub.status.idle": "2023-09-07T14:15:12.002313Z",
          "shell.execute_reply.started": "2023-09-07T14:15:04.975636Z",
          "shell.execute_reply": "2023-09-07T14:15:12.001124Z"
        },
        "trusted": true,
        "id": "sntpavbgLhr_",
        "outputId": "36c1bbd7-bb2a-41ab-b1f1-02b4beb2b6ae"
      },
      "execution_count": null,
      "outputs": [
        {
          "name": "stdout",
          "text": "X75106\n",
          "output_type": "stream"
        }
      ]
    }
  ]
}