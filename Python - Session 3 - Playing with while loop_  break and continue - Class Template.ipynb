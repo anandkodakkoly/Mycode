{
 "cells": [
  {
   "cell_type": "markdown",
   "metadata": {},
   "source": [
    "### A. While Loop"
   ]
  },
  {
   "cell_type": "markdown",
   "metadata": {},
   "source": [
    "How will you make a computer do a certain task until a condition is satisfied? For example, keep prompting an user for the password unless it matches."
   ]
  },
  {
   "cell_type": "code",
   "execution_count": null,
   "metadata": {},
   "outputs": [],
   "source": [
    "password = ''\n",
    "\n",
    "while password != \"abcde\":\n",
    "    password = input(\"Enter the password: \")"
   ]
  },
  {
   "cell_type": "code",
   "execution_count": null,
   "metadata": {},
   "outputs": [],
   "source": [
    "pwd=input(\"Enter Password : \")\n",
    "\n",
    "while pwd != '1234':\n",
    "    print(\"Incorrect password. Try agian\")\n",
    "    pwd=input(\"Enter Password : \")"
   ]
  },
  {
   "cell_type": "code",
   "execution_count": null,
   "metadata": {},
   "outputs": [],
   "source": [
    "password = ''\n",
    "count = 0\n",
    "while password != \"password\":\n",
    "    count+=1\n",
    "    if count>1:\n",
    "        print(\"Enter the correct password!\")\n",
    "    password = input(\"Enter the password: \")"
   ]
  },
  {
   "cell_type": "code",
   "execution_count": null,
   "metadata": {},
   "outputs": [],
   "source": []
  },
  {
   "cell_type": "markdown",
   "metadata": {},
   "source": [
    "** A Problem **"
   ]
  },
  {
   "cell_type": "markdown",
   "metadata": {},
   "source": [
    "Suppose that a player wants to play a game which requires him Rs. 1,000 to start. If the current balance in his account is less than Rs. 1,000 he needs to withdraw the extra money from his e-wallet.\n",
    "\n",
    "Note that if the sum of money in his courrent account and the amount withdrawn is greater than or equal to Rs. 1,000 then he can start playing the game. However if the sum is less than Rs. 1,000 then the program should keep displaying the user the message “You still do not have enough money to start playing.” and keep prompting the user to withdraw money unless it crosses Rs. 1,000. Once ready, i.e. if his current account balance crosses Rs. 1,000, it will display a message “Now, you are ready to play the game.” Your program should also display the account balance and the current amount in the e-wallet.\n",
    "\n",
    "(consider: initial account balance is Rs. 200 and money in the e-wallet is Rs. 5,000)\n",
    "\n",
    "(Do further improvement by checking if the e-wallet balance becomes NIL, etc.)"
   ]
  },
  {
   "cell_type": "code",
   "execution_count": 1,
   "metadata": {},
   "outputs": [
    {
     "name": "stdout",
     "output_type": "stream",
     "text": [
      "Enter amount to be withdrawn from e-wallet: 400\n",
      "You still do not have enough money to start playing.\n",
      "Enter amount to be withdrawn from e-wallet: 600\n",
      "Entered amount is greater than ewallet balance. The balance now is :  100\n",
      "You still do not have enough money to start playing.\n",
      "Enter amount to be withdrawn from e-wallet: 100\n",
      "Please update the ewallet amount first. You cant withdraw from ewallet as it is zero now.\n",
      "The balance in hand is :  700\n",
      "Now, you are ready to play the game.\n"
     ]
    }
   ],
   "source": [
    "ewallet=500\n",
    "bal=200\n",
    "count=0\n",
    "\n",
    "while bal < 1000:\n",
    "    if count>=1:\n",
    "        print(\"You still do not have enough money to start playing.\")\n",
    "    w = int(input(\"Enter amount to be withdrawn from e-wallet: \"))\n",
    "    count+=1\n",
    "    if w>ewallet:\n",
    "        print(\"Entered amount is greater than ewallet balance. The balance now is : \", ewallet)\n",
    "    else:\n",
    "        ewallet = ewallet-w\n",
    "        bal = bal+w\n",
    "    if ewallet == 0:\n",
    "            print(\"Please update the ewallet amount first. You cant withdraw from ewallet as it is zero now.\")\n",
    "            break\n",
    "            \n",
    "print(\"The balance in hand is : \", bal)\n",
    "print(\"Now, you are ready to play the game.\")\n",
    "        "
   ]
  },
  {
   "cell_type": "code",
   "execution_count": null,
   "metadata": {},
   "outputs": [],
   "source": [
    "wallet = 5000\n",
    "bal = 200\n",
    "count = 1\n",
    "\n",
    "while bal < 1000:\n",
    "    if count > 1:\n",
    "        print(\"\\nYou still do not have enough money to start playing.\")\n",
    "        \n",
    "    withdraw = int(input(\"Insufficient Balance. Withdraw money: \"))\n",
    "    bal = bal + withdraw\n",
    "    count += 1\n",
    "    wallet = wallet - withdraw\n",
    "    print(\"wallet:\", wallet)\n",
    "    print(\"Balance: \", bal)"
   ]
  },
  {
   "cell_type": "markdown",
   "metadata": {},
   "source": [
    "**Take a break**"
   ]
  },
  {
   "cell_type": "code",
   "execution_count": 3,
   "metadata": {},
   "outputs": [],
   "source": [
    "import webbrowser"
   ]
  },
  {
   "cell_type": "code",
   "execution_count": 4,
   "metadata": {},
   "outputs": [
    {
     "data": {
      "text/plain": [
       "True"
      ]
     },
     "execution_count": 4,
     "metadata": {},
     "output_type": "execute_result"
    }
   ],
   "source": [
    "webbrowser.open(\"https://www.youtube.com/watch?v=7mNu1DaTVDY\")"
   ]
  },
  {
   "cell_type": "code",
   "execution_count": 5,
   "metadata": {},
   "outputs": [
    {
     "data": {
      "text/plain": [
       "True"
      ]
     },
     "execution_count": 5,
     "metadata": {},
     "output_type": "execute_result"
    }
   ],
   "source": [
    "import time\n",
    "\n",
    "time.sleep(3)\n",
    "\n",
    "webbrowser.open(\"https://www.youtube.com/watch?v=7mNu1DaTVDY\")"
   ]
  },
  {
   "cell_type": "code",
   "execution_count": 7,
   "metadata": {},
   "outputs": [],
   "source": [
    "import time\n",
    "count = 1\n",
    "while count<=2:\n",
    "    webbrowser.open(\"https://www.youtube.com/watch?v=7mNu1DaTVDY\")\n",
    "    time.sleep(4)\n",
    "    count+=1"
   ]
  },
  {
   "cell_type": "code",
   "execution_count": null,
   "metadata": {},
   "outputs": [],
   "source": []
  },
  {
   "cell_type": "markdown",
   "metadata": {},
   "source": [
    "### B. Break and Continue"
   ]
  },
  {
   "cell_type": "markdown",
   "metadata": {},
   "source": [
    "**Recall the password problem**"
   ]
  },
  {
   "cell_type": "markdown",
   "metadata": {},
   "source": [
    "**Make an improvement**\n",
    "\n",
    "If the user fails to enter the password in 5 chances display a message “You have lost your 5 chances” and stop the program."
   ]
  },
  {
   "cell_type": "code",
   "execution_count": 6,
   "metadata": {},
   "outputs": [
    {
     "name": "stdout",
     "output_type": "stream",
     "text": [
      "Enter password: nknkn\n",
      "Invalid Password!\n",
      "Enter password: bkk\n",
      "Invalid Password!\n",
      "Enter password: hkhk\n",
      "Invalid Password!\n",
      "Enter password: vjfjj\n",
      "Invalid Password!\n",
      "Enter password: bukkgg\n",
      "Invalid Password!\n",
      "You have lost your 5 chances\n"
     ]
    }
   ],
   "source": [
    "password = ''\n",
    "count = 0\n",
    "\n",
    "while password != 'qwer':\n",
    "    count += 1\n",
    "    if count > 1:\n",
    "        print(\"Invalid Password!\")\n",
    "    password = input(\"Enter password: \")\n",
    "    if password == 'qwer':\n",
    "        print(\"Welcome to your profile!\")\n",
    "    if count == 5:\n",
    "        print(\"You have lost your 5 chances\")\n",
    "        break"
   ]
  },
  {
   "cell_type": "code",
   "execution_count": 7,
   "metadata": {},
   "outputs": [
    {
     "name": "stdout",
     "output_type": "stream",
     "text": [
      "Enter password: qwer\n"
     ]
    }
   ],
   "source": [
    "pwd = input(\"Enter password: \")\n",
    "count=0\n",
    "while pwd != 'qwer':\n",
    "    count+=1\n",
    "    if count>=1:\n",
    "        print(\"Enter the correct password. No of chances left: \", 4-count+1)\n",
    "    pwd =  input(\"Enter the correct password: \")\n",
    "    \n",
    "    if count == 4:\n",
    "        print (\"You have lost your 5 chances\")\n",
    "        break\n"
   ]
  },
  {
   "cell_type": "markdown",
   "metadata": {},
   "source": [
    "**Make another additional improvement**"
   ]
  },
  {
   "cell_type": "markdown",
   "metadata": {},
   "source": [
    "If the user enters “forgot password”, display a hint and again prompt for password. (But the user will get only 5 chances to enter the password)"
   ]
  },
  {
   "cell_type": "code",
   "execution_count": 7,
   "metadata": {},
   "outputs": [
    {
     "name": "stdout",
     "output_type": "stream",
     "text": [
      "Enter password: sdsdc\n",
      "Enter the correct password. No of chances left:  4\n",
      "Enter the correct password: sdsd\n",
      "Enter the correct password. No of chances left:  3\n",
      "Enter the correct password: qwer\n"
     ]
    }
   ],
   "source": [
    "pwd = input(\"Enter password: \")\n",
    "count=1\n",
    "while pwd != 'qwer':\n",
    "    \n",
    "    if pwd == 'forgot':\n",
    "        print(\"hint: 4 letters of qwerty keyboard\")\n",
    "        pwd =  input(\"Enter the correct password: \")\n",
    "        continue\n",
    "    \n",
    "    if count>=1:\n",
    "        print(\"Enter the correct password. No of chances left: \", 5-count)\n",
    "    pwd =  input(\"Enter the correct password: \")\n",
    "    \n",
    "    '''\n",
    "    if pwd == 'forgot':\n",
    "        print(\"hint: 4 letters of qwerty keyboard\")\n",
    "        continue\n",
    "        '''\n",
    "        \n",
    "    count+=1\n",
    "    \n",
    "    if count == 5:\n",
    "        print (\"You have lost your 5 chances\")\n",
    "        break\n"
   ]
  },
  {
   "cell_type": "code",
   "execution_count": 11,
   "metadata": {},
   "outputs": [
    {
     "name": "stdout",
     "output_type": "stream",
     "text": [
      "1 seconds remaininggtimeout\n"
     ]
    }
   ],
   "source": [
    "# code from stack overflow\n",
    "\n",
    "import sys\n",
    "import time\n",
    "for remain in range(10,-1,-1):\n",
    "    if remain ==0:\n",
    "        print(\"timeout\")\n",
    "        break\n",
    "    sys.stdout.write(\"\\r%d seconds remaining\" %remain) # !!! make sure to pass a value inside the string of \"anythin\" dont use  comma , \n",
    "    time.sleep(1)\n"
   ]
  },
  {
   "cell_type": "code",
   "execution_count": null,
   "metadata": {},
   "outputs": [],
   "source": []
  },
  {
   "cell_type": "code",
   "execution_count": null,
   "metadata": {},
   "outputs": [],
   "source": []
  },
  {
   "cell_type": "markdown",
   "metadata": {},
   "source": [
    "### D. Python functions"
   ]
  },
  {
   "cell_type": "markdown",
   "metadata": {},
   "source": [
    "**1. Some basic functions: min, max, len, sum **"
   ]
  },
  {
   "cell_type": "code",
   "execution_count": 17,
   "metadata": {},
   "outputs": [],
   "source": [
    "x = [1,3,4,2,6]"
   ]
  },
  {
   "cell_type": "code",
   "execution_count": 18,
   "metadata": {},
   "outputs": [
    {
     "data": {
      "text/plain": [
       "1"
      ]
     },
     "execution_count": 18,
     "metadata": {},
     "output_type": "execute_result"
    }
   ],
   "source": [
    "min(x)"
   ]
  },
  {
   "cell_type": "code",
   "execution_count": 19,
   "metadata": {},
   "outputs": [
    {
     "data": {
      "text/plain": [
       "6"
      ]
     },
     "execution_count": 19,
     "metadata": {},
     "output_type": "execute_result"
    }
   ],
   "source": [
    "max(x)"
   ]
  },
  {
   "cell_type": "code",
   "execution_count": 20,
   "metadata": {},
   "outputs": [
    {
     "data": {
      "text/plain": [
       "5"
      ]
     },
     "execution_count": 20,
     "metadata": {},
     "output_type": "execute_result"
    }
   ],
   "source": [
    "len(x)"
   ]
  },
  {
   "cell_type": "code",
   "execution_count": 21,
   "metadata": {},
   "outputs": [
    {
     "data": {
      "text/plain": [
       "16"
      ]
     },
     "execution_count": 21,
     "metadata": {},
     "output_type": "execute_result"
    }
   ],
   "source": [
    "sum(x)"
   ]
  },
  {
   "cell_type": "code",
   "execution_count": null,
   "metadata": {},
   "outputs": [],
   "source": []
  },
  {
   "cell_type": "code",
   "execution_count": 25,
   "metadata": {},
   "outputs": [
    {
     "data": {
      "text/plain": [
       "3.2"
      ]
     },
     "execution_count": 25,
     "metadata": {},
     "output_type": "execute_result"
    }
   ],
   "source": [
    "sum(x)/len(x) #avg"
   ]
  },
  {
   "cell_type": "markdown",
   "metadata": {},
   "source": [
    "**2. Type conversion functions: int, float, str**"
   ]
  },
  {
   "cell_type": "code",
   "execution_count": null,
   "metadata": {},
   "outputs": [],
   "source": [
    "str(1)"
   ]
  },
  {
   "cell_type": "markdown",
   "metadata": {},
   "source": [
    "**3. Some math functions: sum, sin, log10 **"
   ]
  },
  {
   "cell_type": "code",
   "execution_count": 23,
   "metadata": {},
   "outputs": [],
   "source": [
    "import math"
   ]
  },
  {
   "cell_type": "code",
   "execution_count": null,
   "metadata": {},
   "outputs": [],
   "source": [
    "math.log10(30)"
   ]
  },
  {
   "cell_type": "code",
   "execution_count": null,
   "metadata": {},
   "outputs": [],
   "source": [
    "math.tan(0.7853)"
   ]
  },
  {
   "cell_type": "markdown",
   "metadata": {},
   "source": [
    "** 4. Functions to generate random numbers:**"
   ]
  },
  {
   "cell_type": "code",
   "execution_count": 27,
   "metadata": {},
   "outputs": [],
   "source": [
    "import random"
   ]
  },
  {
   "cell_type": "code",
   "execution_count": 42,
   "metadata": {},
   "outputs": [
    {
     "data": {
      "text/plain": [
       "0.5135588499695021"
      ]
     },
     "execution_count": 42,
     "metadata": {},
     "output_type": "execute_result"
    }
   ],
   "source": [
    "#random.random\n",
    "random.random()"
   ]
  },
  {
   "cell_type": "code",
   "execution_count": 43,
   "metadata": {},
   "outputs": [
    {
     "data": {
      "text/plain": [
       "3"
      ]
     },
     "execution_count": 43,
     "metadata": {},
     "output_type": "execute_result"
    }
   ],
   "source": [
    "#random.randint\n",
    "random.randint(1,10)"
   ]
  },
  {
   "cell_type": "code",
   "execution_count": 45,
   "metadata": {},
   "outputs": [
    {
     "data": {
      "text/plain": [
       "6"
      ]
     },
     "execution_count": 45,
     "metadata": {},
     "output_type": "execute_result"
    }
   ],
   "source": [
    "#random.choice\n",
    "x = [1,3,4,2,6]\n",
    "random.choice(x)"
   ]
  },
  {
   "cell_type": "markdown",
   "metadata": {},
   "source": [
    "### E. Guess the number Game"
   ]
  },
  {
   "cell_type": "markdown",
   "metadata": {},
   "source": [
    "Guess a number is a game that prompts a player to guess a number between 0 and 9, which is randomly generated by the system. When the input given by the user matches the number generated by the system then the user wins. The game should go as follows:\n",
    "\t\n",
    "\tGuess the number: 5\n",
    "\tSorry, try again\n",
    "\tGuess the number: 3\n",
    "\tSorry, try again\n",
    "\tGuess the number: 8\n",
    "\tYou got it right! Congo!\n",
    "    \n",
    "    Guess the number: 5\n",
    "\tSorry, try again\n",
    "\tGuess the number: 3\n",
    "\tSorry, try again\n",
    "\tGuess the number: exit\n",
    "\tEnjoy your day!"
   ]
  },
  {
   "cell_type": "code",
   "execution_count": null,
   "metadata": {},
   "outputs": [],
   "source": []
  },
  {
   "cell_type": "code",
   "execution_count": null,
   "metadata": {},
   "outputs": [],
   "source": []
  }
 ],
 "metadata": {
  "kernelspec": {
   "display_name": "Python 3",
   "language": "python",
   "name": "python3"
  },
  "language_info": {
   "codemirror_mode": {
    "name": "ipython",
    "version": 3
   },
   "file_extension": ".py",
   "mimetype": "text/x-python",
   "name": "python",
   "nbconvert_exporter": "python",
   "pygments_lexer": "ipython3",
   "version": "3.6.5"
  }
 },
 "nbformat": 4,
 "nbformat_minor": 2
}
