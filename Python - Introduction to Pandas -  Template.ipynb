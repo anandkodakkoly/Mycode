{
 "cells": [
  {
   "cell_type": "markdown",
   "metadata": {},
   "source": [
    "## Introduction to Pandas"
   ]
  },
  {
   "cell_type": "markdown",
   "metadata": {},
   "source": [
    "#### 1. Reading a csv file"
   ]
  },
  {
   "cell_type": "code",
   "execution_count": 1,
   "metadata": {},
   "outputs": [
    {
     "data": {
      "text/plain": [
       "'C:\\\\Users\\\\PARTHI vs BHARATHI\\\\Downloads\\\\PRAXIS\\\\A Term 1\\\\Python'"
      ]
     },
     "execution_count": 1,
     "metadata": {},
     "output_type": "execute_result"
    }
   ],
   "source": [
    "# Check the current working directory\n",
    "import os\n",
    "os.getcwd()"
   ]
  },
  {
   "cell_type": "code",
   "execution_count": 2,
   "metadata": {},
   "outputs": [],
   "source": [
    "# Set the working directory\n",
    "#os.chdir(\"C:\\\\Users\\\\PARTHI vs BHARATHI\\\\Downloads\")\n",
    "\n",
    "#Read the cars.csv data\n",
    "import pandas as pd\n"
   ]
  },
  {
   "cell_type": "code",
   "execution_count": 3,
   "metadata": {},
   "outputs": [],
   "source": [
    "cars = pd.read_csv(\"cars.csv\")"
   ]
  },
  {
   "cell_type": "code",
   "execution_count": null,
   "metadata": {},
   "outputs": [],
   "source": [
    "#cars = pd.read_csv(\"C:\\\\Users\\\\PARTHI vs BHARATHI\\\\Downloads\\\\cars.csv\") - we can use this also."
   ]
  },
  {
   "cell_type": "code",
   "execution_count": 4,
   "metadata": {},
   "outputs": [
    {
     "data": {
      "text/plain": [
       "pandas.core.frame.DataFrame"
      ]
     },
     "execution_count": 4,
     "metadata": {},
     "output_type": "execute_result"
    }
   ],
   "source": [
    "type(cars) #diff data types is dataframe unlike the array in numpy."
   ]
  },
  {
   "cell_type": "code",
   "execution_count": 5,
   "metadata": {
    "scrolled": true
   },
   "outputs": [
    {
     "data": {
      "text/html": [
       "<div>\n",
       "<style scoped>\n",
       "    .dataframe tbody tr th:only-of-type {\n",
       "        vertical-align: middle;\n",
       "    }\n",
       "\n",
       "    .dataframe tbody tr th {\n",
       "        vertical-align: top;\n",
       "    }\n",
       "\n",
       "    .dataframe thead th {\n",
       "        text-align: right;\n",
       "    }\n",
       "</style>\n",
       "<table border=\"1\" class=\"dataframe\">\n",
       "  <thead>\n",
       "    <tr style=\"text-align: right;\">\n",
       "      <th></th>\n",
       "      <th>Car</th>\n",
       "      <th>MPG</th>\n",
       "      <th>Cylinders</th>\n",
       "      <th>Displacement</th>\n",
       "      <th>Horsepower</th>\n",
       "      <th>Weight</th>\n",
       "      <th>Acceleration</th>\n",
       "      <th>Model</th>\n",
       "      <th>Origin</th>\n",
       "    </tr>\n",
       "  </thead>\n",
       "  <tbody>\n",
       "    <tr>\n",
       "      <th>0</th>\n",
       "      <td>Chevrolet Chevelle Malibu</td>\n",
       "      <td>18.0</td>\n",
       "      <td>8</td>\n",
       "      <td>307.0</td>\n",
       "      <td>130</td>\n",
       "      <td>3504</td>\n",
       "      <td>12.0</td>\n",
       "      <td>70</td>\n",
       "      <td>US</td>\n",
       "    </tr>\n",
       "    <tr>\n",
       "      <th>1</th>\n",
       "      <td>Buick Skylark 320</td>\n",
       "      <td>15.0</td>\n",
       "      <td>8</td>\n",
       "      <td>350.0</td>\n",
       "      <td>165</td>\n",
       "      <td>3693</td>\n",
       "      <td>11.5</td>\n",
       "      <td>70</td>\n",
       "      <td>US</td>\n",
       "    </tr>\n",
       "    <tr>\n",
       "      <th>2</th>\n",
       "      <td>Plymouth Satellite</td>\n",
       "      <td>18.0</td>\n",
       "      <td>8</td>\n",
       "      <td>318.0</td>\n",
       "      <td>150</td>\n",
       "      <td>3436</td>\n",
       "      <td>11.0</td>\n",
       "      <td>70</td>\n",
       "      <td>US</td>\n",
       "    </tr>\n",
       "    <tr>\n",
       "      <th>3</th>\n",
       "      <td>AMC Rebel SST</td>\n",
       "      <td>16.0</td>\n",
       "      <td>8</td>\n",
       "      <td>304.0</td>\n",
       "      <td>150</td>\n",
       "      <td>3433</td>\n",
       "      <td>12.0</td>\n",
       "      <td>70</td>\n",
       "      <td>US</td>\n",
       "    </tr>\n",
       "    <tr>\n",
       "      <th>4</th>\n",
       "      <td>Ford Torino</td>\n",
       "      <td>17.0</td>\n",
       "      <td>8</td>\n",
       "      <td>302.0</td>\n",
       "      <td>140</td>\n",
       "      <td>3449</td>\n",
       "      <td>10.5</td>\n",
       "      <td>70</td>\n",
       "      <td>US</td>\n",
       "    </tr>\n",
       "  </tbody>\n",
       "</table>\n",
       "</div>"
      ],
      "text/plain": [
       "                         Car   MPG  Cylinders  Displacement  Horsepower  \\\n",
       "0  Chevrolet Chevelle Malibu  18.0          8         307.0         130   \n",
       "1          Buick Skylark 320  15.0          8         350.0         165   \n",
       "2         Plymouth Satellite  18.0          8         318.0         150   \n",
       "3              AMC Rebel SST  16.0          8         304.0         150   \n",
       "4                Ford Torino  17.0          8         302.0         140   \n",
       "\n",
       "   Weight  Acceleration  Model Origin  \n",
       "0    3504          12.0     70     US  \n",
       "1    3693          11.5     70     US  \n",
       "2    3436          11.0     70     US  \n",
       "3    3433          12.0     70     US  \n",
       "4    3449          10.5     70     US  "
      ]
     },
     "execution_count": 5,
     "metadata": {},
     "output_type": "execute_result"
    }
   ],
   "source": [
    "cars.head(n=5)"
   ]
  },
  {
   "cell_type": "markdown",
   "metadata": {},
   "source": [
    "#### 2. Some initial steps with data"
   ]
  },
  {
   "cell_type": "code",
   "execution_count": 6,
   "metadata": {},
   "outputs": [
    {
     "data": {
      "text/plain": [
       "(406, 9)"
      ]
     },
     "execution_count": 6,
     "metadata": {},
     "output_type": "execute_result"
    }
   ],
   "source": [
    "#A. Check the dimension of the data set\n",
    "cars.shape #return in a tuple"
   ]
  },
  {
   "cell_type": "code",
   "execution_count": 7,
   "metadata": {},
   "outputs": [
    {
     "data": {
      "text/plain": [
       "406"
      ]
     },
     "execution_count": 7,
     "metadata": {},
     "output_type": "execute_result"
    }
   ],
   "source": [
    "#B. Number of rows in the data set\n",
    "len(cars) #len always give rows count."
   ]
  },
  {
   "cell_type": "code",
   "execution_count": 8,
   "metadata": {},
   "outputs": [
    {
     "data": {
      "text/plain": [
       "406"
      ]
     },
     "execution_count": 8,
     "metadata": {},
     "output_type": "execute_result"
    }
   ],
   "source": [
    "#OR Simply\n",
    "cars.shape[0]"
   ]
  },
  {
   "cell_type": "code",
   "execution_count": 9,
   "metadata": {},
   "outputs": [
    {
     "data": {
      "text/plain": [
       "9"
      ]
     },
     "execution_count": 9,
     "metadata": {},
     "output_type": "execute_result"
    }
   ],
   "source": [
    "#C. Number of columns in the data set\n",
    "cars.shape[1]"
   ]
  },
  {
   "cell_type": "code",
   "execution_count": 10,
   "metadata": {},
   "outputs": [
    {
     "data": {
      "text/plain": [
       "9"
      ]
     },
     "execution_count": 10,
     "metadata": {},
     "output_type": "execute_result"
    }
   ],
   "source": [
    "len(cars.columns)"
   ]
  },
  {
   "cell_type": "code",
   "execution_count": 11,
   "metadata": {},
   "outputs": [
    {
     "data": {
      "text/plain": [
       "Index(['Car', 'MPG', 'Cylinders', 'Displacement', 'Horsepower', 'Weight',\n",
       "       'Acceleration', 'Model', 'Origin'],\n",
       "      dtype='object')"
      ]
     },
     "execution_count": 11,
     "metadata": {},
     "output_type": "execute_result"
    }
   ],
   "source": [
    "cars.columns #get the columns"
   ]
  },
  {
   "cell_type": "code",
   "execution_count": 12,
   "metadata": {},
   "outputs": [
    {
     "data": {
      "text/plain": [
       "RangeIndex(start=0, stop=406, step=1)"
      ]
     },
     "execution_count": 12,
     "metadata": {},
     "output_type": "execute_result"
    }
   ],
   "source": [
    "cars.index #get row indexes"
   ]
  },
  {
   "cell_type": "code",
   "execution_count": null,
   "metadata": {},
   "outputs": [],
   "source": []
  },
  {
   "cell_type": "code",
   "execution_count": 13,
   "metadata": {},
   "outputs": [
    {
     "data": {
      "text/plain": [
       "Car              object\n",
       "MPG             float64\n",
       "Cylinders         int64\n",
       "Displacement    float64\n",
       "Horsepower        int64\n",
       "Weight            int64\n",
       "Acceleration    float64\n",
       "Model             int64\n",
       "Origin           object\n",
       "dtype: object"
      ]
     },
     "execution_count": 13,
     "metadata": {},
     "output_type": "execute_result"
    }
   ],
   "source": [
    "#Studying the variable types\n",
    "cars.dtypes"
   ]
  },
  {
   "cell_type": "code",
   "execution_count": 14,
   "metadata": {},
   "outputs": [
    {
     "data": {
      "text/plain": [
       "['Car',\n",
       " 'MPG',\n",
       " 'Cylinders',\n",
       " 'Displacement',\n",
       " 'Horsepower',\n",
       " 'Weight',\n",
       " 'Acceleration',\n",
       " 'Model',\n",
       " 'Origin']"
      ]
     },
     "execution_count": 14,
     "metadata": {},
     "output_type": "execute_result"
    }
   ],
   "source": [
    "#D. Getting the variable names\n",
    "list(cars)"
   ]
  },
  {
   "cell_type": "code",
   "execution_count": 19,
   "metadata": {},
   "outputs": [
    {
     "data": {
      "text/plain": [
       "['Car',\n",
       " 'MPG',\n",
       " 'Cylinders',\n",
       " 'Displacement',\n",
       " 'Horsepower',\n",
       " 'Weight',\n",
       " 'Acceleration',\n",
       " 'Model',\n",
       " 'Origin']"
      ]
     },
     "execution_count": 19,
     "metadata": {},
     "output_type": "execute_result"
    }
   ],
   "source": [
    "#OR\n",
    "list(cars)"
   ]
  },
  {
   "cell_type": "code",
   "execution_count": 23,
   "metadata": {},
   "outputs": [
    {
     "data": {
      "text/html": [
       "<div>\n",
       "<style scoped>\n",
       "    .dataframe tbody tr th:only-of-type {\n",
       "        vertical-align: middle;\n",
       "    }\n",
       "\n",
       "    .dataframe tbody tr th {\n",
       "        vertical-align: top;\n",
       "    }\n",
       "\n",
       "    .dataframe thead th {\n",
       "        text-align: right;\n",
       "    }\n",
       "</style>\n",
       "<table border=\"1\" class=\"dataframe\">\n",
       "  <thead>\n",
       "    <tr style=\"text-align: right;\">\n",
       "      <th></th>\n",
       "      <th>Car</th>\n",
       "      <th>MPG</th>\n",
       "      <th>Cylinders</th>\n",
       "      <th>Displacement</th>\n",
       "      <th>Horsepower</th>\n",
       "      <th>Weight</th>\n",
       "      <th>Acceleration</th>\n",
       "      <th>Model</th>\n",
       "      <th>Origin</th>\n",
       "    </tr>\n",
       "  </thead>\n",
       "  <tbody>\n",
       "    <tr>\n",
       "      <th>0</th>\n",
       "      <td>Chevrolet Chevelle Malibu</td>\n",
       "      <td>18.0</td>\n",
       "      <td>8</td>\n",
       "      <td>307.0</td>\n",
       "      <td>130</td>\n",
       "      <td>3504</td>\n",
       "      <td>12.0</td>\n",
       "      <td>70</td>\n",
       "      <td>US</td>\n",
       "    </tr>\n",
       "    <tr>\n",
       "      <th>1</th>\n",
       "      <td>Buick Skylark 320</td>\n",
       "      <td>15.0</td>\n",
       "      <td>8</td>\n",
       "      <td>350.0</td>\n",
       "      <td>165</td>\n",
       "      <td>3693</td>\n",
       "      <td>11.5</td>\n",
       "      <td>70</td>\n",
       "      <td>US</td>\n",
       "    </tr>\n",
       "    <tr>\n",
       "      <th>2</th>\n",
       "      <td>Plymouth Satellite</td>\n",
       "      <td>18.0</td>\n",
       "      <td>8</td>\n",
       "      <td>318.0</td>\n",
       "      <td>150</td>\n",
       "      <td>3436</td>\n",
       "      <td>11.0</td>\n",
       "      <td>70</td>\n",
       "      <td>US</td>\n",
       "    </tr>\n",
       "    <tr>\n",
       "      <th>3</th>\n",
       "      <td>AMC Rebel SST</td>\n",
       "      <td>16.0</td>\n",
       "      <td>8</td>\n",
       "      <td>304.0</td>\n",
       "      <td>150</td>\n",
       "      <td>3433</td>\n",
       "      <td>12.0</td>\n",
       "      <td>70</td>\n",
       "      <td>US</td>\n",
       "    </tr>\n",
       "    <tr>\n",
       "      <th>4</th>\n",
       "      <td>Ford Torino</td>\n",
       "      <td>17.0</td>\n",
       "      <td>8</td>\n",
       "      <td>302.0</td>\n",
       "      <td>140</td>\n",
       "      <td>3449</td>\n",
       "      <td>10.5</td>\n",
       "      <td>70</td>\n",
       "      <td>US</td>\n",
       "    </tr>\n",
       "  </tbody>\n",
       "</table>\n",
       "</div>"
      ],
      "text/plain": [
       "                         Car   MPG  Cylinders  Displacement  Horsepower  \\\n",
       "0  Chevrolet Chevelle Malibu  18.0          8         307.0         130   \n",
       "1          Buick Skylark 320  15.0          8         350.0         165   \n",
       "2         Plymouth Satellite  18.0          8         318.0         150   \n",
       "3              AMC Rebel SST  16.0          8         304.0         150   \n",
       "4                Ford Torino  17.0          8         302.0         140   \n",
       "\n",
       "   Weight  Acceleration  Model Origin  \n",
       "0    3504          12.0     70     US  \n",
       "1    3693          11.5     70     US  \n",
       "2    3436          11.0     70     US  \n",
       "3    3433          12.0     70     US  \n",
       "4    3449          10.5     70     US  "
      ]
     },
     "execution_count": 23,
     "metadata": {},
     "output_type": "execute_result"
    }
   ],
   "source": [
    "#E. Printing the first 5 lines of the data set\n",
    "cars.head()"
   ]
  },
  {
   "cell_type": "code",
   "execution_count": 20,
   "metadata": {},
   "outputs": [
    {
     "data": {
      "text/html": [
       "<div>\n",
       "<style scoped>\n",
       "    .dataframe tbody tr th:only-of-type {\n",
       "        vertical-align: middle;\n",
       "    }\n",
       "\n",
       "    .dataframe tbody tr th {\n",
       "        vertical-align: top;\n",
       "    }\n",
       "\n",
       "    .dataframe thead th {\n",
       "        text-align: right;\n",
       "    }\n",
       "</style>\n",
       "<table border=\"1\" class=\"dataframe\">\n",
       "  <thead>\n",
       "    <tr style=\"text-align: right;\">\n",
       "      <th></th>\n",
       "      <th>Car</th>\n",
       "      <th>MPG</th>\n",
       "      <th>Cylinders</th>\n",
       "      <th>Displacement</th>\n",
       "      <th>Horsepower</th>\n",
       "      <th>Weight</th>\n",
       "      <th>Acceleration</th>\n",
       "      <th>Model</th>\n",
       "      <th>Origin</th>\n",
       "    </tr>\n",
       "  </thead>\n",
       "  <tbody>\n",
       "    <tr>\n",
       "      <th>0</th>\n",
       "      <td>Chevrolet Chevelle Malibu</td>\n",
       "      <td>18.0</td>\n",
       "      <td>8</td>\n",
       "      <td>307.0</td>\n",
       "      <td>130</td>\n",
       "      <td>3504</td>\n",
       "      <td>12.0</td>\n",
       "      <td>70</td>\n",
       "      <td>US</td>\n",
       "    </tr>\n",
       "    <tr>\n",
       "      <th>1</th>\n",
       "      <td>Buick Skylark 320</td>\n",
       "      <td>15.0</td>\n",
       "      <td>8</td>\n",
       "      <td>350.0</td>\n",
       "      <td>165</td>\n",
       "      <td>3693</td>\n",
       "      <td>11.5</td>\n",
       "      <td>70</td>\n",
       "      <td>US</td>\n",
       "    </tr>\n",
       "    <tr>\n",
       "      <th>2</th>\n",
       "      <td>Plymouth Satellite</td>\n",
       "      <td>18.0</td>\n",
       "      <td>8</td>\n",
       "      <td>318.0</td>\n",
       "      <td>150</td>\n",
       "      <td>3436</td>\n",
       "      <td>11.0</td>\n",
       "      <td>70</td>\n",
       "      <td>US</td>\n",
       "    </tr>\n",
       "    <tr>\n",
       "      <th>3</th>\n",
       "      <td>AMC Rebel SST</td>\n",
       "      <td>16.0</td>\n",
       "      <td>8</td>\n",
       "      <td>304.0</td>\n",
       "      <td>150</td>\n",
       "      <td>3433</td>\n",
       "      <td>12.0</td>\n",
       "      <td>70</td>\n",
       "      <td>US</td>\n",
       "    </tr>\n",
       "    <tr>\n",
       "      <th>4</th>\n",
       "      <td>Ford Torino</td>\n",
       "      <td>17.0</td>\n",
       "      <td>8</td>\n",
       "      <td>302.0</td>\n",
       "      <td>140</td>\n",
       "      <td>3449</td>\n",
       "      <td>10.5</td>\n",
       "      <td>70</td>\n",
       "      <td>US</td>\n",
       "    </tr>\n",
       "    <tr>\n",
       "      <th>5</th>\n",
       "      <td>Ford Galaxie 500</td>\n",
       "      <td>15.0</td>\n",
       "      <td>8</td>\n",
       "      <td>429.0</td>\n",
       "      <td>198</td>\n",
       "      <td>4341</td>\n",
       "      <td>10.0</td>\n",
       "      <td>70</td>\n",
       "      <td>US</td>\n",
       "    </tr>\n",
       "    <tr>\n",
       "      <th>6</th>\n",
       "      <td>Chevrolet Impala</td>\n",
       "      <td>14.0</td>\n",
       "      <td>8</td>\n",
       "      <td>454.0</td>\n",
       "      <td>220</td>\n",
       "      <td>4354</td>\n",
       "      <td>9.0</td>\n",
       "      <td>70</td>\n",
       "      <td>US</td>\n",
       "    </tr>\n",
       "    <tr>\n",
       "      <th>7</th>\n",
       "      <td>Plymouth Fury iii</td>\n",
       "      <td>14.0</td>\n",
       "      <td>8</td>\n",
       "      <td>440.0</td>\n",
       "      <td>215</td>\n",
       "      <td>4312</td>\n",
       "      <td>8.5</td>\n",
       "      <td>70</td>\n",
       "      <td>US</td>\n",
       "    </tr>\n",
       "    <tr>\n",
       "      <th>8</th>\n",
       "      <td>Pontiac Catalina</td>\n",
       "      <td>14.0</td>\n",
       "      <td>8</td>\n",
       "      <td>455.0</td>\n",
       "      <td>225</td>\n",
       "      <td>4425</td>\n",
       "      <td>10.0</td>\n",
       "      <td>70</td>\n",
       "      <td>US</td>\n",
       "    </tr>\n",
       "    <tr>\n",
       "      <th>9</th>\n",
       "      <td>AMC Ambassador DPL</td>\n",
       "      <td>15.0</td>\n",
       "      <td>8</td>\n",
       "      <td>390.0</td>\n",
       "      <td>190</td>\n",
       "      <td>3850</td>\n",
       "      <td>8.5</td>\n",
       "      <td>70</td>\n",
       "      <td>US</td>\n",
       "    </tr>\n",
       "  </tbody>\n",
       "</table>\n",
       "</div>"
      ],
      "text/plain": [
       "                         Car   MPG  Cylinders  Displacement  Horsepower  \\\n",
       "0  Chevrolet Chevelle Malibu  18.0          8         307.0         130   \n",
       "1          Buick Skylark 320  15.0          8         350.0         165   \n",
       "2         Plymouth Satellite  18.0          8         318.0         150   \n",
       "3              AMC Rebel SST  16.0          8         304.0         150   \n",
       "4                Ford Torino  17.0          8         302.0         140   \n",
       "5           Ford Galaxie 500  15.0          8         429.0         198   \n",
       "6           Chevrolet Impala  14.0          8         454.0         220   \n",
       "7          Plymouth Fury iii  14.0          8         440.0         215   \n",
       "8           Pontiac Catalina  14.0          8         455.0         225   \n",
       "9         AMC Ambassador DPL  15.0          8         390.0         190   \n",
       "\n",
       "   Weight  Acceleration  Model Origin  \n",
       "0    3504          12.0     70     US  \n",
       "1    3693          11.5     70     US  \n",
       "2    3436          11.0     70     US  \n",
       "3    3433          12.0     70     US  \n",
       "4    3449          10.5     70     US  \n",
       "5    4341          10.0     70     US  \n",
       "6    4354           9.0     70     US  \n",
       "7    4312           8.5     70     US  \n",
       "8    4425          10.0     70     US  \n",
       "9    3850           8.5     70     US  "
      ]
     },
     "execution_count": 20,
     "metadata": {},
     "output_type": "execute_result"
    }
   ],
   "source": [
    "#F. Printing the first 10 lines of the data set\n",
    "cars.head(10)"
   ]
  },
  {
   "cell_type": "code",
   "execution_count": 25,
   "metadata": {},
   "outputs": [
    {
     "data": {
      "text/html": [
       "<div>\n",
       "<style scoped>\n",
       "    .dataframe tbody tr th:only-of-type {\n",
       "        vertical-align: middle;\n",
       "    }\n",
       "\n",
       "    .dataframe tbody tr th {\n",
       "        vertical-align: top;\n",
       "    }\n",
       "\n",
       "    .dataframe thead th {\n",
       "        text-align: right;\n",
       "    }\n",
       "</style>\n",
       "<table border=\"1\" class=\"dataframe\">\n",
       "  <thead>\n",
       "    <tr style=\"text-align: right;\">\n",
       "      <th></th>\n",
       "      <th>Car</th>\n",
       "      <th>MPG</th>\n",
       "      <th>Cylinders</th>\n",
       "      <th>Displacement</th>\n",
       "      <th>Horsepower</th>\n",
       "      <th>Weight</th>\n",
       "      <th>Acceleration</th>\n",
       "      <th>Model</th>\n",
       "      <th>Origin</th>\n",
       "    </tr>\n",
       "  </thead>\n",
       "  <tbody>\n",
       "    <tr>\n",
       "      <th>401</th>\n",
       "      <td>Ford Mustang GL</td>\n",
       "      <td>27.0</td>\n",
       "      <td>4</td>\n",
       "      <td>140.0</td>\n",
       "      <td>86</td>\n",
       "      <td>2790</td>\n",
       "      <td>15.6</td>\n",
       "      <td>82</td>\n",
       "      <td>US</td>\n",
       "    </tr>\n",
       "    <tr>\n",
       "      <th>402</th>\n",
       "      <td>Volkswagen Pickup</td>\n",
       "      <td>44.0</td>\n",
       "      <td>4</td>\n",
       "      <td>97.0</td>\n",
       "      <td>52</td>\n",
       "      <td>2130</td>\n",
       "      <td>24.6</td>\n",
       "      <td>82</td>\n",
       "      <td>Europe</td>\n",
       "    </tr>\n",
       "    <tr>\n",
       "      <th>403</th>\n",
       "      <td>Dodge Rampage</td>\n",
       "      <td>32.0</td>\n",
       "      <td>4</td>\n",
       "      <td>135.0</td>\n",
       "      <td>84</td>\n",
       "      <td>2295</td>\n",
       "      <td>11.6</td>\n",
       "      <td>82</td>\n",
       "      <td>US</td>\n",
       "    </tr>\n",
       "    <tr>\n",
       "      <th>404</th>\n",
       "      <td>Ford Ranger</td>\n",
       "      <td>28.0</td>\n",
       "      <td>4</td>\n",
       "      <td>120.0</td>\n",
       "      <td>79</td>\n",
       "      <td>2625</td>\n",
       "      <td>18.6</td>\n",
       "      <td>82</td>\n",
       "      <td>US</td>\n",
       "    </tr>\n",
       "    <tr>\n",
       "      <th>405</th>\n",
       "      <td>Chevy S-10</td>\n",
       "      <td>31.0</td>\n",
       "      <td>4</td>\n",
       "      <td>119.0</td>\n",
       "      <td>82</td>\n",
       "      <td>2720</td>\n",
       "      <td>19.4</td>\n",
       "      <td>82</td>\n",
       "      <td>US</td>\n",
       "    </tr>\n",
       "  </tbody>\n",
       "</table>\n",
       "</div>"
      ],
      "text/plain": [
       "                   Car   MPG  Cylinders  Displacement  Horsepower  Weight  \\\n",
       "401    Ford Mustang GL  27.0          4         140.0          86    2790   \n",
       "402  Volkswagen Pickup  44.0          4          97.0          52    2130   \n",
       "403      Dodge Rampage  32.0          4         135.0          84    2295   \n",
       "404        Ford Ranger  28.0          4         120.0          79    2625   \n",
       "405         Chevy S-10  31.0          4         119.0          82    2720   \n",
       "\n",
       "     Acceleration  Model  Origin  \n",
       "401          15.6     82      US  \n",
       "402          24.6     82  Europe  \n",
       "403          11.6     82      US  \n",
       "404          18.6     82      US  \n",
       "405          19.4     82      US  "
      ]
     },
     "execution_count": 25,
     "metadata": {},
     "output_type": "execute_result"
    }
   ],
   "source": [
    "#G. Printing the last 5 lines of the data set\n",
    "cars.tail()"
   ]
  },
  {
   "cell_type": "code",
   "execution_count": 21,
   "metadata": {},
   "outputs": [
    {
     "data": {
      "text/html": [
       "<div>\n",
       "<style scoped>\n",
       "    .dataframe tbody tr th:only-of-type {\n",
       "        vertical-align: middle;\n",
       "    }\n",
       "\n",
       "    .dataframe tbody tr th {\n",
       "        vertical-align: top;\n",
       "    }\n",
       "\n",
       "    .dataframe thead th {\n",
       "        text-align: right;\n",
       "    }\n",
       "</style>\n",
       "<table border=\"1\" class=\"dataframe\">\n",
       "  <thead>\n",
       "    <tr style=\"text-align: right;\">\n",
       "      <th></th>\n",
       "      <th>Car</th>\n",
       "      <th>MPG</th>\n",
       "      <th>Cylinders</th>\n",
       "      <th>Displacement</th>\n",
       "      <th>Horsepower</th>\n",
       "      <th>Weight</th>\n",
       "      <th>Acceleration</th>\n",
       "      <th>Model</th>\n",
       "      <th>Origin</th>\n",
       "    </tr>\n",
       "  </thead>\n",
       "  <tbody>\n",
       "    <tr>\n",
       "      <th>140</th>\n",
       "      <td>Chevrolet Chevelle Malibu Classic</td>\n",
       "      <td>16.0</td>\n",
       "      <td>6</td>\n",
       "      <td>250.0</td>\n",
       "      <td>100</td>\n",
       "      <td>3781</td>\n",
       "      <td>17.0</td>\n",
       "      <td>74</td>\n",
       "      <td>US</td>\n",
       "    </tr>\n",
       "    <tr>\n",
       "      <th>221</th>\n",
       "      <td>Ford F108</td>\n",
       "      <td>13.0</td>\n",
       "      <td>8</td>\n",
       "      <td>302.0</td>\n",
       "      <td>130</td>\n",
       "      <td>3870</td>\n",
       "      <td>15.0</td>\n",
       "      <td>76</td>\n",
       "      <td>US</td>\n",
       "    </tr>\n",
       "    <tr>\n",
       "      <th>19</th>\n",
       "      <td>Buick Estate Wagon (sw)</td>\n",
       "      <td>14.0</td>\n",
       "      <td>8</td>\n",
       "      <td>455.0</td>\n",
       "      <td>225</td>\n",
       "      <td>3086</td>\n",
       "      <td>10.0</td>\n",
       "      <td>70</td>\n",
       "      <td>US</td>\n",
       "    </tr>\n",
       "    <tr>\n",
       "      <th>392</th>\n",
       "      <td>Honda Civic (auto)</td>\n",
       "      <td>32.0</td>\n",
       "      <td>4</td>\n",
       "      <td>91.0</td>\n",
       "      <td>67</td>\n",
       "      <td>1965</td>\n",
       "      <td>15.7</td>\n",
       "      <td>82</td>\n",
       "      <td>Japan</td>\n",
       "    </tr>\n",
       "    <tr>\n",
       "      <th>151</th>\n",
       "      <td>Toyota Corolla</td>\n",
       "      <td>31.0</td>\n",
       "      <td>4</td>\n",
       "      <td>76.0</td>\n",
       "      <td>52</td>\n",
       "      <td>1649</td>\n",
       "      <td>16.5</td>\n",
       "      <td>74</td>\n",
       "      <td>Japan</td>\n",
       "    </tr>\n",
       "  </tbody>\n",
       "</table>\n",
       "</div>"
      ],
      "text/plain": [
       "                                   Car   MPG  Cylinders  Displacement  \\\n",
       "140  Chevrolet Chevelle Malibu Classic  16.0          6         250.0   \n",
       "221                          Ford F108  13.0          8         302.0   \n",
       "19             Buick Estate Wagon (sw)  14.0          8         455.0   \n",
       "392                 Honda Civic (auto)  32.0          4          91.0   \n",
       "151                     Toyota Corolla  31.0          4          76.0   \n",
       "\n",
       "     Horsepower  Weight  Acceleration  Model Origin  \n",
       "140         100    3781          17.0     74     US  \n",
       "221         130    3870          15.0     76     US  \n",
       "19          225    3086          10.0     70     US  \n",
       "392          67    1965          15.7     82  Japan  \n",
       "151          52    1649          16.5     74  Japan  "
      ]
     },
     "execution_count": 21,
     "metadata": {},
     "output_type": "execute_result"
    }
   ],
   "source": [
    "#H. Printing the random sample of data\n",
    "cars.sample(5)"
   ]
  },
  {
   "cell_type": "code",
   "execution_count": 22,
   "metadata": {
    "scrolled": true
   },
   "outputs": [
    {
     "data": {
      "text/html": [
       "<div>\n",
       "<style scoped>\n",
       "    .dataframe tbody tr th:only-of-type {\n",
       "        vertical-align: middle;\n",
       "    }\n",
       "\n",
       "    .dataframe tbody tr th {\n",
       "        vertical-align: top;\n",
       "    }\n",
       "\n",
       "    .dataframe thead th {\n",
       "        text-align: right;\n",
       "    }\n",
       "</style>\n",
       "<table border=\"1\" class=\"dataframe\">\n",
       "  <thead>\n",
       "    <tr style=\"text-align: right;\">\n",
       "      <th></th>\n",
       "      <th>Car</th>\n",
       "      <th>MPG</th>\n",
       "      <th>Cylinders</th>\n",
       "      <th>Displacement</th>\n",
       "      <th>Horsepower</th>\n",
       "      <th>Weight</th>\n",
       "      <th>Acceleration</th>\n",
       "      <th>Model</th>\n",
       "      <th>Origin</th>\n",
       "    </tr>\n",
       "  </thead>\n",
       "  <tbody>\n",
       "    <tr>\n",
       "      <th>0</th>\n",
       "      <td>Chevrolet Chevelle Malibu</td>\n",
       "      <td>18.0</td>\n",
       "      <td>8</td>\n",
       "      <td>307.0</td>\n",
       "      <td>130</td>\n",
       "      <td>3504</td>\n",
       "      <td>12.0</td>\n",
       "      <td>70</td>\n",
       "      <td>US</td>\n",
       "    </tr>\n",
       "    <tr>\n",
       "      <th>1</th>\n",
       "      <td>Buick Skylark 320</td>\n",
       "      <td>15.0</td>\n",
       "      <td>8</td>\n",
       "      <td>350.0</td>\n",
       "      <td>165</td>\n",
       "      <td>3693</td>\n",
       "      <td>11.5</td>\n",
       "      <td>70</td>\n",
       "      <td>US</td>\n",
       "    </tr>\n",
       "    <tr>\n",
       "      <th>2</th>\n",
       "      <td>Plymouth Satellite</td>\n",
       "      <td>18.0</td>\n",
       "      <td>8</td>\n",
       "      <td>318.0</td>\n",
       "      <td>150</td>\n",
       "      <td>3436</td>\n",
       "      <td>11.0</td>\n",
       "      <td>70</td>\n",
       "      <td>US</td>\n",
       "    </tr>\n",
       "    <tr>\n",
       "      <th>3</th>\n",
       "      <td>AMC Rebel SST</td>\n",
       "      <td>16.0</td>\n",
       "      <td>8</td>\n",
       "      <td>304.0</td>\n",
       "      <td>150</td>\n",
       "      <td>3433</td>\n",
       "      <td>12.0</td>\n",
       "      <td>70</td>\n",
       "      <td>US</td>\n",
       "    </tr>\n",
       "    <tr>\n",
       "      <th>4</th>\n",
       "      <td>Ford Torino</td>\n",
       "      <td>17.0</td>\n",
       "      <td>8</td>\n",
       "      <td>302.0</td>\n",
       "      <td>140</td>\n",
       "      <td>3449</td>\n",
       "      <td>10.5</td>\n",
       "      <td>70</td>\n",
       "      <td>US</td>\n",
       "    </tr>\n",
       "    <tr>\n",
       "      <th>5</th>\n",
       "      <td>Ford Galaxie 500</td>\n",
       "      <td>15.0</td>\n",
       "      <td>8</td>\n",
       "      <td>429.0</td>\n",
       "      <td>198</td>\n",
       "      <td>4341</td>\n",
       "      <td>10.0</td>\n",
       "      <td>70</td>\n",
       "      <td>US</td>\n",
       "    </tr>\n",
       "    <tr>\n",
       "      <th>6</th>\n",
       "      <td>Chevrolet Impala</td>\n",
       "      <td>14.0</td>\n",
       "      <td>8</td>\n",
       "      <td>454.0</td>\n",
       "      <td>220</td>\n",
       "      <td>4354</td>\n",
       "      <td>9.0</td>\n",
       "      <td>70</td>\n",
       "      <td>US</td>\n",
       "    </tr>\n",
       "    <tr>\n",
       "      <th>7</th>\n",
       "      <td>Plymouth Fury iii</td>\n",
       "      <td>14.0</td>\n",
       "      <td>8</td>\n",
       "      <td>440.0</td>\n",
       "      <td>215</td>\n",
       "      <td>4312</td>\n",
       "      <td>8.5</td>\n",
       "      <td>70</td>\n",
       "      <td>US</td>\n",
       "    </tr>\n",
       "    <tr>\n",
       "      <th>8</th>\n",
       "      <td>Pontiac Catalina</td>\n",
       "      <td>14.0</td>\n",
       "      <td>8</td>\n",
       "      <td>455.0</td>\n",
       "      <td>225</td>\n",
       "      <td>4425</td>\n",
       "      <td>10.0</td>\n",
       "      <td>70</td>\n",
       "      <td>US</td>\n",
       "    </tr>\n",
       "    <tr>\n",
       "      <th>9</th>\n",
       "      <td>AMC Ambassador DPL</td>\n",
       "      <td>15.0</td>\n",
       "      <td>8</td>\n",
       "      <td>390.0</td>\n",
       "      <td>190</td>\n",
       "      <td>3850</td>\n",
       "      <td>8.5</td>\n",
       "      <td>70</td>\n",
       "      <td>US</td>\n",
       "    </tr>\n",
       "    <tr>\n",
       "      <th>10</th>\n",
       "      <td>Citroen DS-21 Pallas</td>\n",
       "      <td>0.0</td>\n",
       "      <td>4</td>\n",
       "      <td>133.0</td>\n",
       "      <td>115</td>\n",
       "      <td>3090</td>\n",
       "      <td>17.5</td>\n",
       "      <td>70</td>\n",
       "      <td>Europe</td>\n",
       "    </tr>\n",
       "    <tr>\n",
       "      <th>11</th>\n",
       "      <td>Chevrolet Chevelle Concours (sw)</td>\n",
       "      <td>0.0</td>\n",
       "      <td>8</td>\n",
       "      <td>350.0</td>\n",
       "      <td>165</td>\n",
       "      <td>4142</td>\n",
       "      <td>11.5</td>\n",
       "      <td>70</td>\n",
       "      <td>US</td>\n",
       "    </tr>\n",
       "    <tr>\n",
       "      <th>12</th>\n",
       "      <td>Ford Torino (sw)</td>\n",
       "      <td>0.0</td>\n",
       "      <td>8</td>\n",
       "      <td>351.0</td>\n",
       "      <td>153</td>\n",
       "      <td>4034</td>\n",
       "      <td>11.0</td>\n",
       "      <td>70</td>\n",
       "      <td>US</td>\n",
       "    </tr>\n",
       "    <tr>\n",
       "      <th>13</th>\n",
       "      <td>Plymouth Satellite (sw)</td>\n",
       "      <td>0.0</td>\n",
       "      <td>8</td>\n",
       "      <td>383.0</td>\n",
       "      <td>175</td>\n",
       "      <td>4166</td>\n",
       "      <td>10.5</td>\n",
       "      <td>70</td>\n",
       "      <td>US</td>\n",
       "    </tr>\n",
       "    <tr>\n",
       "      <th>14</th>\n",
       "      <td>AMC Rebel SST (sw)</td>\n",
       "      <td>0.0</td>\n",
       "      <td>8</td>\n",
       "      <td>360.0</td>\n",
       "      <td>175</td>\n",
       "      <td>3850</td>\n",
       "      <td>11.0</td>\n",
       "      <td>70</td>\n",
       "      <td>US</td>\n",
       "    </tr>\n",
       "    <tr>\n",
       "      <th>15</th>\n",
       "      <td>Dodge Challenger SE</td>\n",
       "      <td>15.0</td>\n",
       "      <td>8</td>\n",
       "      <td>383.0</td>\n",
       "      <td>170</td>\n",
       "      <td>3563</td>\n",
       "      <td>10.0</td>\n",
       "      <td>70</td>\n",
       "      <td>US</td>\n",
       "    </tr>\n",
       "    <tr>\n",
       "      <th>16</th>\n",
       "      <td>Plymouth 'Cuda 340</td>\n",
       "      <td>14.0</td>\n",
       "      <td>8</td>\n",
       "      <td>340.0</td>\n",
       "      <td>160</td>\n",
       "      <td>3609</td>\n",
       "      <td>8.0</td>\n",
       "      <td>70</td>\n",
       "      <td>US</td>\n",
       "    </tr>\n",
       "    <tr>\n",
       "      <th>17</th>\n",
       "      <td>Ford Mustang Boss 302</td>\n",
       "      <td>0.0</td>\n",
       "      <td>8</td>\n",
       "      <td>302.0</td>\n",
       "      <td>140</td>\n",
       "      <td>3353</td>\n",
       "      <td>8.0</td>\n",
       "      <td>70</td>\n",
       "      <td>US</td>\n",
       "    </tr>\n",
       "    <tr>\n",
       "      <th>18</th>\n",
       "      <td>Chevrolet Monte Carlo</td>\n",
       "      <td>15.0</td>\n",
       "      <td>8</td>\n",
       "      <td>400.0</td>\n",
       "      <td>150</td>\n",
       "      <td>3761</td>\n",
       "      <td>9.5</td>\n",
       "      <td>70</td>\n",
       "      <td>US</td>\n",
       "    </tr>\n",
       "    <tr>\n",
       "      <th>19</th>\n",
       "      <td>Buick Estate Wagon (sw)</td>\n",
       "      <td>14.0</td>\n",
       "      <td>8</td>\n",
       "      <td>455.0</td>\n",
       "      <td>225</td>\n",
       "      <td>3086</td>\n",
       "      <td>10.0</td>\n",
       "      <td>70</td>\n",
       "      <td>US</td>\n",
       "    </tr>\n",
       "    <tr>\n",
       "      <th>20</th>\n",
       "      <td>Toyota Corolla Mark ii</td>\n",
       "      <td>24.0</td>\n",
       "      <td>4</td>\n",
       "      <td>113.0</td>\n",
       "      <td>95</td>\n",
       "      <td>2372</td>\n",
       "      <td>15.0</td>\n",
       "      <td>70</td>\n",
       "      <td>Japan</td>\n",
       "    </tr>\n",
       "    <tr>\n",
       "      <th>21</th>\n",
       "      <td>Plymouth Duster</td>\n",
       "      <td>22.0</td>\n",
       "      <td>6</td>\n",
       "      <td>198.0</td>\n",
       "      <td>95</td>\n",
       "      <td>2833</td>\n",
       "      <td>15.5</td>\n",
       "      <td>70</td>\n",
       "      <td>US</td>\n",
       "    </tr>\n",
       "    <tr>\n",
       "      <th>22</th>\n",
       "      <td>AMC Hornet</td>\n",
       "      <td>18.0</td>\n",
       "      <td>6</td>\n",
       "      <td>199.0</td>\n",
       "      <td>97</td>\n",
       "      <td>2774</td>\n",
       "      <td>15.5</td>\n",
       "      <td>70</td>\n",
       "      <td>US</td>\n",
       "    </tr>\n",
       "    <tr>\n",
       "      <th>23</th>\n",
       "      <td>Ford Maverick</td>\n",
       "      <td>21.0</td>\n",
       "      <td>6</td>\n",
       "      <td>200.0</td>\n",
       "      <td>85</td>\n",
       "      <td>2587</td>\n",
       "      <td>16.0</td>\n",
       "      <td>70</td>\n",
       "      <td>US</td>\n",
       "    </tr>\n",
       "    <tr>\n",
       "      <th>24</th>\n",
       "      <td>Datsun PL510</td>\n",
       "      <td>27.0</td>\n",
       "      <td>4</td>\n",
       "      <td>97.0</td>\n",
       "      <td>88</td>\n",
       "      <td>2130</td>\n",
       "      <td>14.5</td>\n",
       "      <td>70</td>\n",
       "      <td>Japan</td>\n",
       "    </tr>\n",
       "    <tr>\n",
       "      <th>25</th>\n",
       "      <td>Volkswagen 1131 Deluxe Sedan</td>\n",
       "      <td>26.0</td>\n",
       "      <td>4</td>\n",
       "      <td>97.0</td>\n",
       "      <td>46</td>\n",
       "      <td>1835</td>\n",
       "      <td>20.5</td>\n",
       "      <td>70</td>\n",
       "      <td>Europe</td>\n",
       "    </tr>\n",
       "    <tr>\n",
       "      <th>26</th>\n",
       "      <td>Peugeot 504</td>\n",
       "      <td>25.0</td>\n",
       "      <td>4</td>\n",
       "      <td>110.0</td>\n",
       "      <td>87</td>\n",
       "      <td>2672</td>\n",
       "      <td>17.5</td>\n",
       "      <td>70</td>\n",
       "      <td>Europe</td>\n",
       "    </tr>\n",
       "    <tr>\n",
       "      <th>27</th>\n",
       "      <td>Audi 100 LS</td>\n",
       "      <td>24.0</td>\n",
       "      <td>4</td>\n",
       "      <td>107.0</td>\n",
       "      <td>90</td>\n",
       "      <td>2430</td>\n",
       "      <td>14.5</td>\n",
       "      <td>70</td>\n",
       "      <td>Europe</td>\n",
       "    </tr>\n",
       "    <tr>\n",
       "      <th>28</th>\n",
       "      <td>Saab 99e</td>\n",
       "      <td>25.0</td>\n",
       "      <td>4</td>\n",
       "      <td>104.0</td>\n",
       "      <td>95</td>\n",
       "      <td>2375</td>\n",
       "      <td>17.5</td>\n",
       "      <td>70</td>\n",
       "      <td>Europe</td>\n",
       "    </tr>\n",
       "    <tr>\n",
       "      <th>29</th>\n",
       "      <td>BMW 2002</td>\n",
       "      <td>26.0</td>\n",
       "      <td>4</td>\n",
       "      <td>121.0</td>\n",
       "      <td>113</td>\n",
       "      <td>2234</td>\n",
       "      <td>12.5</td>\n",
       "      <td>70</td>\n",
       "      <td>Europe</td>\n",
       "    </tr>\n",
       "    <tr>\n",
       "      <th>...</th>\n",
       "      <td>...</td>\n",
       "      <td>...</td>\n",
       "      <td>...</td>\n",
       "      <td>...</td>\n",
       "      <td>...</td>\n",
       "      <td>...</td>\n",
       "      <td>...</td>\n",
       "      <td>...</td>\n",
       "      <td>...</td>\n",
       "    </tr>\n",
       "    <tr>\n",
       "      <th>376</th>\n",
       "      <td>Chevrolet Cavalier Wagon</td>\n",
       "      <td>27.0</td>\n",
       "      <td>4</td>\n",
       "      <td>112.0</td>\n",
       "      <td>88</td>\n",
       "      <td>2640</td>\n",
       "      <td>18.6</td>\n",
       "      <td>82</td>\n",
       "      <td>US</td>\n",
       "    </tr>\n",
       "    <tr>\n",
       "      <th>377</th>\n",
       "      <td>Chevrolet Cavalier 2-door</td>\n",
       "      <td>34.0</td>\n",
       "      <td>4</td>\n",
       "      <td>112.0</td>\n",
       "      <td>88</td>\n",
       "      <td>2395</td>\n",
       "      <td>18.0</td>\n",
       "      <td>82</td>\n",
       "      <td>US</td>\n",
       "    </tr>\n",
       "    <tr>\n",
       "      <th>378</th>\n",
       "      <td>Pontiac J2000 SE Hatchback</td>\n",
       "      <td>31.0</td>\n",
       "      <td>4</td>\n",
       "      <td>112.0</td>\n",
       "      <td>85</td>\n",
       "      <td>2575</td>\n",
       "      <td>16.2</td>\n",
       "      <td>82</td>\n",
       "      <td>US</td>\n",
       "    </tr>\n",
       "    <tr>\n",
       "      <th>379</th>\n",
       "      <td>Dodge Aries SE</td>\n",
       "      <td>29.0</td>\n",
       "      <td>4</td>\n",
       "      <td>135.0</td>\n",
       "      <td>84</td>\n",
       "      <td>2525</td>\n",
       "      <td>16.0</td>\n",
       "      <td>82</td>\n",
       "      <td>US</td>\n",
       "    </tr>\n",
       "    <tr>\n",
       "      <th>380</th>\n",
       "      <td>Pontiac Phoenix</td>\n",
       "      <td>27.0</td>\n",
       "      <td>4</td>\n",
       "      <td>151.0</td>\n",
       "      <td>90</td>\n",
       "      <td>2735</td>\n",
       "      <td>18.0</td>\n",
       "      <td>82</td>\n",
       "      <td>US</td>\n",
       "    </tr>\n",
       "    <tr>\n",
       "      <th>381</th>\n",
       "      <td>Ford Fairmont Futura</td>\n",
       "      <td>24.0</td>\n",
       "      <td>4</td>\n",
       "      <td>140.0</td>\n",
       "      <td>92</td>\n",
       "      <td>2865</td>\n",
       "      <td>16.4</td>\n",
       "      <td>82</td>\n",
       "      <td>US</td>\n",
       "    </tr>\n",
       "    <tr>\n",
       "      <th>382</th>\n",
       "      <td>AMC Concord DL</td>\n",
       "      <td>23.0</td>\n",
       "      <td>4</td>\n",
       "      <td>151.0</td>\n",
       "      <td>0</td>\n",
       "      <td>3035</td>\n",
       "      <td>20.5</td>\n",
       "      <td>82</td>\n",
       "      <td>US</td>\n",
       "    </tr>\n",
       "    <tr>\n",
       "      <th>383</th>\n",
       "      <td>Volkswagen Rabbit l</td>\n",
       "      <td>36.0</td>\n",
       "      <td>4</td>\n",
       "      <td>105.0</td>\n",
       "      <td>74</td>\n",
       "      <td>1980</td>\n",
       "      <td>15.3</td>\n",
       "      <td>82</td>\n",
       "      <td>Europe</td>\n",
       "    </tr>\n",
       "    <tr>\n",
       "      <th>384</th>\n",
       "      <td>Mazda GLC Custom l</td>\n",
       "      <td>37.0</td>\n",
       "      <td>4</td>\n",
       "      <td>91.0</td>\n",
       "      <td>68</td>\n",
       "      <td>2025</td>\n",
       "      <td>18.2</td>\n",
       "      <td>82</td>\n",
       "      <td>Japan</td>\n",
       "    </tr>\n",
       "    <tr>\n",
       "      <th>385</th>\n",
       "      <td>Mazda GLC Custom</td>\n",
       "      <td>31.0</td>\n",
       "      <td>4</td>\n",
       "      <td>91.0</td>\n",
       "      <td>68</td>\n",
       "      <td>1970</td>\n",
       "      <td>17.6</td>\n",
       "      <td>82</td>\n",
       "      <td>Japan</td>\n",
       "    </tr>\n",
       "    <tr>\n",
       "      <th>386</th>\n",
       "      <td>Plymouth Horizon Miser</td>\n",
       "      <td>38.0</td>\n",
       "      <td>4</td>\n",
       "      <td>105.0</td>\n",
       "      <td>63</td>\n",
       "      <td>2125</td>\n",
       "      <td>14.7</td>\n",
       "      <td>82</td>\n",
       "      <td>US</td>\n",
       "    </tr>\n",
       "    <tr>\n",
       "      <th>387</th>\n",
       "      <td>Mercury Lynx l</td>\n",
       "      <td>36.0</td>\n",
       "      <td>4</td>\n",
       "      <td>98.0</td>\n",
       "      <td>70</td>\n",
       "      <td>2125</td>\n",
       "      <td>17.3</td>\n",
       "      <td>82</td>\n",
       "      <td>US</td>\n",
       "    </tr>\n",
       "    <tr>\n",
       "      <th>388</th>\n",
       "      <td>Nissan Stanza XE</td>\n",
       "      <td>36.0</td>\n",
       "      <td>4</td>\n",
       "      <td>120.0</td>\n",
       "      <td>88</td>\n",
       "      <td>2160</td>\n",
       "      <td>14.5</td>\n",
       "      <td>82</td>\n",
       "      <td>Japan</td>\n",
       "    </tr>\n",
       "    <tr>\n",
       "      <th>389</th>\n",
       "      <td>Honda Accord</td>\n",
       "      <td>36.0</td>\n",
       "      <td>4</td>\n",
       "      <td>107.0</td>\n",
       "      <td>75</td>\n",
       "      <td>2205</td>\n",
       "      <td>14.5</td>\n",
       "      <td>82</td>\n",
       "      <td>Japan</td>\n",
       "    </tr>\n",
       "    <tr>\n",
       "      <th>390</th>\n",
       "      <td>Toyota Corolla</td>\n",
       "      <td>34.0</td>\n",
       "      <td>4</td>\n",
       "      <td>108.0</td>\n",
       "      <td>70</td>\n",
       "      <td>2245</td>\n",
       "      <td>16.9</td>\n",
       "      <td>82</td>\n",
       "      <td>Japan</td>\n",
       "    </tr>\n",
       "    <tr>\n",
       "      <th>391</th>\n",
       "      <td>Honda Civic</td>\n",
       "      <td>38.0</td>\n",
       "      <td>4</td>\n",
       "      <td>91.0</td>\n",
       "      <td>67</td>\n",
       "      <td>1965</td>\n",
       "      <td>15.0</td>\n",
       "      <td>82</td>\n",
       "      <td>Japan</td>\n",
       "    </tr>\n",
       "    <tr>\n",
       "      <th>392</th>\n",
       "      <td>Honda Civic (auto)</td>\n",
       "      <td>32.0</td>\n",
       "      <td>4</td>\n",
       "      <td>91.0</td>\n",
       "      <td>67</td>\n",
       "      <td>1965</td>\n",
       "      <td>15.7</td>\n",
       "      <td>82</td>\n",
       "      <td>Japan</td>\n",
       "    </tr>\n",
       "    <tr>\n",
       "      <th>393</th>\n",
       "      <td>Datsun 310 GX</td>\n",
       "      <td>38.0</td>\n",
       "      <td>4</td>\n",
       "      <td>91.0</td>\n",
       "      <td>67</td>\n",
       "      <td>1995</td>\n",
       "      <td>16.2</td>\n",
       "      <td>82</td>\n",
       "      <td>Japan</td>\n",
       "    </tr>\n",
       "    <tr>\n",
       "      <th>394</th>\n",
       "      <td>Buick Century Limited</td>\n",
       "      <td>25.0</td>\n",
       "      <td>6</td>\n",
       "      <td>181.0</td>\n",
       "      <td>110</td>\n",
       "      <td>2945</td>\n",
       "      <td>16.4</td>\n",
       "      <td>82</td>\n",
       "      <td>US</td>\n",
       "    </tr>\n",
       "    <tr>\n",
       "      <th>395</th>\n",
       "      <td>Oldsmobile Cutlass Ciera (diesel)</td>\n",
       "      <td>38.0</td>\n",
       "      <td>6</td>\n",
       "      <td>262.0</td>\n",
       "      <td>85</td>\n",
       "      <td>3015</td>\n",
       "      <td>17.0</td>\n",
       "      <td>82</td>\n",
       "      <td>US</td>\n",
       "    </tr>\n",
       "    <tr>\n",
       "      <th>396</th>\n",
       "      <td>Chrysler Lebaron Medallion</td>\n",
       "      <td>26.0</td>\n",
       "      <td>4</td>\n",
       "      <td>156.0</td>\n",
       "      <td>92</td>\n",
       "      <td>2585</td>\n",
       "      <td>14.5</td>\n",
       "      <td>82</td>\n",
       "      <td>US</td>\n",
       "    </tr>\n",
       "    <tr>\n",
       "      <th>397</th>\n",
       "      <td>Ford Grenada l</td>\n",
       "      <td>22.0</td>\n",
       "      <td>6</td>\n",
       "      <td>232.0</td>\n",
       "      <td>112</td>\n",
       "      <td>2835</td>\n",
       "      <td>14.7</td>\n",
       "      <td>82</td>\n",
       "      <td>US</td>\n",
       "    </tr>\n",
       "    <tr>\n",
       "      <th>398</th>\n",
       "      <td>Toyota Celica GT</td>\n",
       "      <td>32.0</td>\n",
       "      <td>4</td>\n",
       "      <td>144.0</td>\n",
       "      <td>96</td>\n",
       "      <td>2665</td>\n",
       "      <td>13.9</td>\n",
       "      <td>82</td>\n",
       "      <td>Japan</td>\n",
       "    </tr>\n",
       "    <tr>\n",
       "      <th>399</th>\n",
       "      <td>Dodge Charger 2.2</td>\n",
       "      <td>36.0</td>\n",
       "      <td>4</td>\n",
       "      <td>135.0</td>\n",
       "      <td>84</td>\n",
       "      <td>2370</td>\n",
       "      <td>13.0</td>\n",
       "      <td>82</td>\n",
       "      <td>US</td>\n",
       "    </tr>\n",
       "    <tr>\n",
       "      <th>400</th>\n",
       "      <td>Chevrolet Camaro</td>\n",
       "      <td>27.0</td>\n",
       "      <td>4</td>\n",
       "      <td>151.0</td>\n",
       "      <td>90</td>\n",
       "      <td>2950</td>\n",
       "      <td>17.3</td>\n",
       "      <td>82</td>\n",
       "      <td>US</td>\n",
       "    </tr>\n",
       "    <tr>\n",
       "      <th>401</th>\n",
       "      <td>Ford Mustang GL</td>\n",
       "      <td>27.0</td>\n",
       "      <td>4</td>\n",
       "      <td>140.0</td>\n",
       "      <td>86</td>\n",
       "      <td>2790</td>\n",
       "      <td>15.6</td>\n",
       "      <td>82</td>\n",
       "      <td>US</td>\n",
       "    </tr>\n",
       "    <tr>\n",
       "      <th>402</th>\n",
       "      <td>Volkswagen Pickup</td>\n",
       "      <td>44.0</td>\n",
       "      <td>4</td>\n",
       "      <td>97.0</td>\n",
       "      <td>52</td>\n",
       "      <td>2130</td>\n",
       "      <td>24.6</td>\n",
       "      <td>82</td>\n",
       "      <td>Europe</td>\n",
       "    </tr>\n",
       "    <tr>\n",
       "      <th>403</th>\n",
       "      <td>Dodge Rampage</td>\n",
       "      <td>32.0</td>\n",
       "      <td>4</td>\n",
       "      <td>135.0</td>\n",
       "      <td>84</td>\n",
       "      <td>2295</td>\n",
       "      <td>11.6</td>\n",
       "      <td>82</td>\n",
       "      <td>US</td>\n",
       "    </tr>\n",
       "    <tr>\n",
       "      <th>404</th>\n",
       "      <td>Ford Ranger</td>\n",
       "      <td>28.0</td>\n",
       "      <td>4</td>\n",
       "      <td>120.0</td>\n",
       "      <td>79</td>\n",
       "      <td>2625</td>\n",
       "      <td>18.6</td>\n",
       "      <td>82</td>\n",
       "      <td>US</td>\n",
       "    </tr>\n",
       "    <tr>\n",
       "      <th>405</th>\n",
       "      <td>Chevy S-10</td>\n",
       "      <td>31.0</td>\n",
       "      <td>4</td>\n",
       "      <td>119.0</td>\n",
       "      <td>82</td>\n",
       "      <td>2720</td>\n",
       "      <td>19.4</td>\n",
       "      <td>82</td>\n",
       "      <td>US</td>\n",
       "    </tr>\n",
       "  </tbody>\n",
       "</table>\n",
       "<p>406 rows × 9 columns</p>\n",
       "</div>"
      ],
      "text/plain": [
       "                                   Car   MPG  Cylinders  Displacement  \\\n",
       "0            Chevrolet Chevelle Malibu  18.0          8         307.0   \n",
       "1                    Buick Skylark 320  15.0          8         350.0   \n",
       "2                   Plymouth Satellite  18.0          8         318.0   \n",
       "3                        AMC Rebel SST  16.0          8         304.0   \n",
       "4                          Ford Torino  17.0          8         302.0   \n",
       "5                     Ford Galaxie 500  15.0          8         429.0   \n",
       "6                     Chevrolet Impala  14.0          8         454.0   \n",
       "7                    Plymouth Fury iii  14.0          8         440.0   \n",
       "8                     Pontiac Catalina  14.0          8         455.0   \n",
       "9                   AMC Ambassador DPL  15.0          8         390.0   \n",
       "10                Citroen DS-21 Pallas   0.0          4         133.0   \n",
       "11    Chevrolet Chevelle Concours (sw)   0.0          8         350.0   \n",
       "12                    Ford Torino (sw)   0.0          8         351.0   \n",
       "13             Plymouth Satellite (sw)   0.0          8         383.0   \n",
       "14                  AMC Rebel SST (sw)   0.0          8         360.0   \n",
       "15                 Dodge Challenger SE  15.0          8         383.0   \n",
       "16                  Plymouth 'Cuda 340  14.0          8         340.0   \n",
       "17               Ford Mustang Boss 302   0.0          8         302.0   \n",
       "18               Chevrolet Monte Carlo  15.0          8         400.0   \n",
       "19             Buick Estate Wagon (sw)  14.0          8         455.0   \n",
       "20              Toyota Corolla Mark ii  24.0          4         113.0   \n",
       "21                     Plymouth Duster  22.0          6         198.0   \n",
       "22                          AMC Hornet  18.0          6         199.0   \n",
       "23                       Ford Maverick  21.0          6         200.0   \n",
       "24                        Datsun PL510  27.0          4          97.0   \n",
       "25        Volkswagen 1131 Deluxe Sedan  26.0          4          97.0   \n",
       "26                         Peugeot 504  25.0          4         110.0   \n",
       "27                         Audi 100 LS  24.0          4         107.0   \n",
       "28                            Saab 99e  25.0          4         104.0   \n",
       "29                            BMW 2002  26.0          4         121.0   \n",
       "..                                 ...   ...        ...           ...   \n",
       "376           Chevrolet Cavalier Wagon  27.0          4         112.0   \n",
       "377          Chevrolet Cavalier 2-door  34.0          4         112.0   \n",
       "378         Pontiac J2000 SE Hatchback  31.0          4         112.0   \n",
       "379                     Dodge Aries SE  29.0          4         135.0   \n",
       "380                    Pontiac Phoenix  27.0          4         151.0   \n",
       "381               Ford Fairmont Futura  24.0          4         140.0   \n",
       "382                     AMC Concord DL  23.0          4         151.0   \n",
       "383                Volkswagen Rabbit l  36.0          4         105.0   \n",
       "384                 Mazda GLC Custom l  37.0          4          91.0   \n",
       "385                   Mazda GLC Custom  31.0          4          91.0   \n",
       "386             Plymouth Horizon Miser  38.0          4         105.0   \n",
       "387                     Mercury Lynx l  36.0          4          98.0   \n",
       "388                   Nissan Stanza XE  36.0          4         120.0   \n",
       "389                       Honda Accord  36.0          4         107.0   \n",
       "390                     Toyota Corolla  34.0          4         108.0   \n",
       "391                        Honda Civic  38.0          4          91.0   \n",
       "392                 Honda Civic (auto)  32.0          4          91.0   \n",
       "393                      Datsun 310 GX  38.0          4          91.0   \n",
       "394              Buick Century Limited  25.0          6         181.0   \n",
       "395  Oldsmobile Cutlass Ciera (diesel)  38.0          6         262.0   \n",
       "396         Chrysler Lebaron Medallion  26.0          4         156.0   \n",
       "397                     Ford Grenada l  22.0          6         232.0   \n",
       "398                   Toyota Celica GT  32.0          4         144.0   \n",
       "399                  Dodge Charger 2.2  36.0          4         135.0   \n",
       "400                   Chevrolet Camaro  27.0          4         151.0   \n",
       "401                    Ford Mustang GL  27.0          4         140.0   \n",
       "402                  Volkswagen Pickup  44.0          4          97.0   \n",
       "403                      Dodge Rampage  32.0          4         135.0   \n",
       "404                        Ford Ranger  28.0          4         120.0   \n",
       "405                         Chevy S-10  31.0          4         119.0   \n",
       "\n",
       "     Horsepower  Weight  Acceleration  Model  Origin  \n",
       "0           130    3504          12.0     70      US  \n",
       "1           165    3693          11.5     70      US  \n",
       "2           150    3436          11.0     70      US  \n",
       "3           150    3433          12.0     70      US  \n",
       "4           140    3449          10.5     70      US  \n",
       "5           198    4341          10.0     70      US  \n",
       "6           220    4354           9.0     70      US  \n",
       "7           215    4312           8.5     70      US  \n",
       "8           225    4425          10.0     70      US  \n",
       "9           190    3850           8.5     70      US  \n",
       "10          115    3090          17.5     70  Europe  \n",
       "11          165    4142          11.5     70      US  \n",
       "12          153    4034          11.0     70      US  \n",
       "13          175    4166          10.5     70      US  \n",
       "14          175    3850          11.0     70      US  \n",
       "15          170    3563          10.0     70      US  \n",
       "16          160    3609           8.0     70      US  \n",
       "17          140    3353           8.0     70      US  \n",
       "18          150    3761           9.5     70      US  \n",
       "19          225    3086          10.0     70      US  \n",
       "20           95    2372          15.0     70   Japan  \n",
       "21           95    2833          15.5     70      US  \n",
       "22           97    2774          15.5     70      US  \n",
       "23           85    2587          16.0     70      US  \n",
       "24           88    2130          14.5     70   Japan  \n",
       "25           46    1835          20.5     70  Europe  \n",
       "26           87    2672          17.5     70  Europe  \n",
       "27           90    2430          14.5     70  Europe  \n",
       "28           95    2375          17.5     70  Europe  \n",
       "29          113    2234          12.5     70  Europe  \n",
       "..          ...     ...           ...    ...     ...  \n",
       "376          88    2640          18.6     82      US  \n",
       "377          88    2395          18.0     82      US  \n",
       "378          85    2575          16.2     82      US  \n",
       "379          84    2525          16.0     82      US  \n",
       "380          90    2735          18.0     82      US  \n",
       "381          92    2865          16.4     82      US  \n",
       "382           0    3035          20.5     82      US  \n",
       "383          74    1980          15.3     82  Europe  \n",
       "384          68    2025          18.2     82   Japan  \n",
       "385          68    1970          17.6     82   Japan  \n",
       "386          63    2125          14.7     82      US  \n",
       "387          70    2125          17.3     82      US  \n",
       "388          88    2160          14.5     82   Japan  \n",
       "389          75    2205          14.5     82   Japan  \n",
       "390          70    2245          16.9     82   Japan  \n",
       "391          67    1965          15.0     82   Japan  \n",
       "392          67    1965          15.7     82   Japan  \n",
       "393          67    1995          16.2     82   Japan  \n",
       "394         110    2945          16.4     82      US  \n",
       "395          85    3015          17.0     82      US  \n",
       "396          92    2585          14.5     82      US  \n",
       "397         112    2835          14.7     82      US  \n",
       "398          96    2665          13.9     82   Japan  \n",
       "399          84    2370          13.0     82      US  \n",
       "400          90    2950          17.3     82      US  \n",
       "401          86    2790          15.6     82      US  \n",
       "402          52    2130          24.6     82  Europe  \n",
       "403          84    2295          11.6     82      US  \n",
       "404          79    2625          18.6     82      US  \n",
       "405          82    2720          19.4     82      US  \n",
       "\n",
       "[406 rows x 9 columns]"
      ]
     },
     "execution_count": 22,
     "metadata": {},
     "output_type": "execute_result"
    }
   ],
   "source": [
    "#full data\n",
    "cars"
   ]
  },
  {
   "cell_type": "markdown",
   "metadata": {},
   "source": [
    "#### 3. Choosing a single variable"
   ]
  },
  {
   "cell_type": "code",
   "execution_count": 29,
   "metadata": {},
   "outputs": [
    {
     "data": {
      "text/plain": [
       "0    18.0\n",
       "1    15.0\n",
       "2    18.0\n",
       "3    16.0\n",
       "4    17.0\n",
       "Name: MPG, dtype: float64"
      ]
     },
     "execution_count": 29,
     "metadata": {},
     "output_type": "execute_result"
    }
   ],
   "source": [
    "#Method1 - Use Square brackets\n",
    "cars[\"MPG\"].head()"
   ]
  },
  {
   "cell_type": "code",
   "execution_count": 30,
   "metadata": {},
   "outputs": [
    {
     "data": {
      "text/plain": [
       "0    8\n",
       "1    8\n",
       "2    8\n",
       "3    8\n",
       "4    8\n",
       "Name: Cylinders, dtype: int64"
      ]
     },
     "execution_count": 30,
     "metadata": {},
     "output_type": "execute_result"
    }
   ],
   "source": [
    "cars[\"Cylinders\"].head()"
   ]
  },
  {
   "cell_type": "code",
   "execution_count": 31,
   "metadata": {
    "scrolled": true
   },
   "outputs": [
    {
     "data": {
      "text/plain": [
       "0      70\n",
       "1      70\n",
       "2      70\n",
       "3      70\n",
       "4      70\n",
       "5      70\n",
       "6      70\n",
       "7      70\n",
       "8      70\n",
       "9      70\n",
       "10     70\n",
       "11     70\n",
       "12     70\n",
       "13     70\n",
       "14     70\n",
       "15     70\n",
       "16     70\n",
       "17     70\n",
       "18     70\n",
       "19     70\n",
       "20     70\n",
       "21     70\n",
       "22     70\n",
       "23     70\n",
       "24     70\n",
       "25     70\n",
       "26     70\n",
       "27     70\n",
       "28     70\n",
       "29     70\n",
       "       ..\n",
       "376    82\n",
       "377    82\n",
       "378    82\n",
       "379    82\n",
       "380    82\n",
       "381    82\n",
       "382    82\n",
       "383    82\n",
       "384    82\n",
       "385    82\n",
       "386    82\n",
       "387    82\n",
       "388    82\n",
       "389    82\n",
       "390    82\n",
       "391    82\n",
       "392    82\n",
       "393    82\n",
       "394    82\n",
       "395    82\n",
       "396    82\n",
       "397    82\n",
       "398    82\n",
       "399    82\n",
       "400    82\n",
       "401    82\n",
       "402    82\n",
       "403    82\n",
       "404    82\n",
       "405    82\n",
       "Name: Model, Length: 406, dtype: int64"
      ]
     },
     "execution_count": 31,
     "metadata": {},
     "output_type": "execute_result"
    }
   ],
   "source": [
    "cars[\"Model\"]"
   ]
  },
  {
   "cell_type": "code",
   "execution_count": 32,
   "metadata": {
    "scrolled": true
   },
   "outputs": [
    {
     "data": {
      "text/plain": [
       "0      12.0\n",
       "1      11.5\n",
       "2      11.0\n",
       "3      12.0\n",
       "4      10.5\n",
       "5      10.0\n",
       "6       9.0\n",
       "7       8.5\n",
       "8      10.0\n",
       "9       8.5\n",
       "10     17.5\n",
       "11     11.5\n",
       "12     11.0\n",
       "13     10.5\n",
       "14     11.0\n",
       "15     10.0\n",
       "16      8.0\n",
       "17      8.0\n",
       "18      9.5\n",
       "19     10.0\n",
       "20     15.0\n",
       "21     15.5\n",
       "22     15.5\n",
       "23     16.0\n",
       "24     14.5\n",
       "25     20.5\n",
       "26     17.5\n",
       "27     14.5\n",
       "28     17.5\n",
       "29     12.5\n",
       "       ... \n",
       "376    18.6\n",
       "377    18.0\n",
       "378    16.2\n",
       "379    16.0\n",
       "380    18.0\n",
       "381    16.4\n",
       "382    20.5\n",
       "383    15.3\n",
       "384    18.2\n",
       "385    17.6\n",
       "386    14.7\n",
       "387    17.3\n",
       "388    14.5\n",
       "389    14.5\n",
       "390    16.9\n",
       "391    15.0\n",
       "392    15.7\n",
       "393    16.2\n",
       "394    16.4\n",
       "395    17.0\n",
       "396    14.5\n",
       "397    14.7\n",
       "398    13.9\n",
       "399    13.0\n",
       "400    17.3\n",
       "401    15.6\n",
       "402    24.6\n",
       "403    11.6\n",
       "404    18.6\n",
       "405    19.4\n",
       "Name: Acceleration, Length: 406, dtype: float64"
      ]
     },
     "execution_count": 32,
     "metadata": {},
     "output_type": "execute_result"
    }
   ],
   "source": [
    "#Method2 - Use dot (.)\n",
    "cars.Acceleration"
   ]
  },
  {
   "cell_type": "code",
   "execution_count": 26,
   "metadata": {},
   "outputs": [
    {
     "data": {
      "text/plain": [
       "0    70\n",
       "1    70\n",
       "2    70\n",
       "Name: Model, dtype: int64"
      ]
     },
     "execution_count": 26,
     "metadata": {},
     "output_type": "execute_result"
    }
   ],
   "source": [
    "cars.Model.head(3)"
   ]
  },
  {
   "cell_type": "code",
   "execution_count": 24,
   "metadata": {},
   "outputs": [
    {
     "data": {
      "text/plain": [
       "0    8\n",
       "1    8\n",
       "2    8\n",
       "3    8\n",
       "4    8\n",
       "Name: Cylinders, dtype: int64"
      ]
     },
     "execution_count": 24,
     "metadata": {},
     "output_type": "execute_result"
    }
   ],
   "source": [
    "cars.Cylinders.head()"
   ]
  },
  {
   "cell_type": "code",
   "execution_count": null,
   "metadata": {},
   "outputs": [],
   "source": []
  },
  {
   "cell_type": "markdown",
   "metadata": {},
   "source": [
    "#### 4. Some Basic Statistical Functions"
   ]
  },
  {
   "cell_type": "code",
   "execution_count": 37,
   "metadata": {},
   "outputs": [
    {
     "data": {
      "text/plain": [
       "pandas.core.series.Series"
      ]
     },
     "execution_count": 37,
     "metadata": {},
     "output_type": "execute_result"
    }
   ],
   "source": [
    "type(cars.MPG) #variable/column is a series."
   ]
  },
  {
   "cell_type": "code",
   "execution_count": 29,
   "metadata": {},
   "outputs": [
    {
     "data": {
      "text/plain": [
       "Car             Chevrolet Chevelle MalibuBuick Skylark 320Plym...\n",
       "MPG                                                        9358.8\n",
       "Cylinders                                                    2223\n",
       "Displacement                                              79080.5\n",
       "Horsepower                                                  42033\n",
       "Weight                                                    1209642\n",
       "Acceleration                                                 6301\n",
       "Model                                                       30824\n",
       "Origin          USUSUSUSUSUSUSUSUSUSEuropeUSUSUSUSUSUSUSUSUSJa...\n",
       "dtype: object"
      ]
     },
     "execution_count": 29,
     "metadata": {},
     "output_type": "execute_result"
    }
   ],
   "source": [
    "#sum\n",
    "cars.sum() "
   ]
  },
  {
   "cell_type": "code",
   "execution_count": 31,
   "metadata": {},
   "outputs": [
    {
     "data": {
      "text/plain": [
       "9358.8"
      ]
     },
     "execution_count": 31,
     "metadata": {},
     "output_type": "execute_result"
    }
   ],
   "source": [
    "cars.MPG.sum()"
   ]
  },
  {
   "cell_type": "code",
   "execution_count": 40,
   "metadata": {
    "scrolled": true
   },
   "outputs": [
    {
     "data": {
      "text/plain": [
       "\"Chevrolet Chevelle MalibuBuick Skylark 320Plymouth SatelliteAMC Rebel SSTFord TorinoFord Galaxie 500Chevrolet ImpalaPlymouth Fury iiiPontiac CatalinaAMC Ambassador DPLCitroen DS-21 PallasChevrolet Chevelle Concours (sw)Ford Torino (sw)Plymouth Satellite (sw)AMC Rebel SST (sw)Dodge Challenger SEPlymouth 'Cuda 340Ford Mustang Boss 302Chevrolet Monte CarloBuick Estate Wagon (sw)Toyota Corolla Mark iiPlymouth DusterAMC HornetFord MaverickDatsun PL510Volkswagen 1131 Deluxe SedanPeugeot 504Audi 100 LSSaab 99eBMW 2002AMC GremlinFord F250Chevy C20Dodge D200Hi 1200DDatsun PL510Chevrolet Vega 2300Toyota CorollaFord PintoVolkswagen Super Beetle 117AMC GremlinPlymouth Satellite CustomChevrolet Chevelle MalibuFord Torino 500AMC MatadorChevrolet ImpalaPontiac Catalina BroughamFord Galaxie 500Plymouth Fury iiiDodge Monaco (sw)Ford Country Squire (sw)Pontiac Safari (sw)AMC Hornet Sportabout (sw)Chevrolet Vega (sw)Pontiac FirebirdFord MustangMercury Capri 2000Opel 1900Peugeot 304Fiat 124BToyota Corolla 1200Datsun 1200Volkswagen Model 111Plymouth CricketToyota Corolla HardtopDodge Colt HardtopVolkswagen Type 3Chevrolet VegaFord Pinto RunaboutChevrolet ImpalaPontiac CatalinaPlymouth Fury IIIFord Galaxie 500AMC Ambassador SSTMercury MarquisBuick LeSabre CustomOldsmobile Delta 88 RoyaleChrysler Newport RoyalMazda RX2 CoupeAMC Matador (sw)Chevrolet Chevelle Concours (sw)Ford Gran Torino (sw)Plymouth Satellite Custom (sw)Volvo 145e (sw)Volkswagen 411 (sw)Peugeot 504 (sw)Renault 12 (sw)Ford Pinto (sw)Datsun 510 (sw)Toyota Corolla Mark II (sw)Dodge Colt (sw)Toyota Corolla 1600 (sw)Buick Century 350AMC MatadorChevrolet MalibuFord Gran TorinoDodge Coronet CustomMercury Marquis BroughamChevrolet Caprice ClassicFord LTDPlymouth Fury Gran SedanChrysler New Yorker BroughamBuick Electra 225 CustomAMC Ambassador BroughamPlymouth ValiantChevrolet Nova CustomAMC HornetFord MaverickPlymouth DusterVolkswagen Super BeetleChevrolet ImpalaFord CountryPlymouth Custom SuburbOldsmobile Vista CruiserAMC GremlinToyota CamryChevrolet VegaDatsun 610Mazda RX3Ford PintoMercury Capri v6Fiat 124 Sport CoupeChevrolet Monte Carlo SPontiac Grand PrixFiat 128Opel MantaAudi 100LSVolvo 144eaDodge Dart CustomSaab 99leToyota Mark IIOldsmobile OmegaPlymouth DusterFord MaverickAMC HornetChevrolet NovaDatsun B210Ford PintoToyota Corolla 1200Chevrolet VegaChevrolet Chevelle Malibu ClassicAMC MatadorPlymouth Satellite SebringFord Gran TorinoBuick Century Luxus (sw)Dodge Coronet Custom (sw)Ford Gran Torino (sw)AMC Matador (sw)Audi FoxVolkswagen DasherOpel MantaToyota CorollaDatsun 710Dodge ColtFiat 128Fiat 124 TCHonda CivicSubaruFiat x1.9Plymouth Valiant CustomChevrolet NovaMercury MonarchFord MaverickPontiac CatalinaChevrolet Bel AirPlymouth Grand FuryFord LTDBuick CenturyChevrolete Chevelle MalibuAMC MatadorPlymouth FuryBuick SkyhawkChevrolet Monza 2+2Ford Mustang IIToyota CorollaFord PintoAMC GremlinPontiac AstroToyota CorollaVolkswagen DasherDatsun 710Ford PintoVolkswagen RabbitAMC PacerAudi 100LSPeugeot 504Volvo 244DLSaab 99LEHonda Civic CVCCFiat 131Opel 1900Capri iiDodge ColtRenault 12tlChevrolet Chevelle Malibu ClassicDodge Coronet BroughamAMC MatadorFord Gran TorinoPlymouth ValiantChevrolet NovaFord MaverickAMC HornetChevrolet ChevetteChevrolet WoodyVolkswagen RabbitHonda CivicDodge Aspen SEFord Grenada ghiaPontiac Ventura SJAMC Pacer d/lVolkswagen RabbitDatsun B-210Toyota CorollaFord PintoVolvo 245Plymouth Volare Premier v8Peugeot 504Toyota Mark IIMercedes-Benz 280sCadillac SevilleChevrolet C10Ford F108Dodge D100Honda Accord CVCCBuick Opel Isuzu DeluxeRenault 5 GTLPlymouth Arrow GSDatsun F-10 HatchbackChevrolet Caprice ClassicOldsmobile Cutlass SupremeDodge Monaco BroughamMercury Cougar BroughamChevrolet ConcoursBuick SkylarkPlymouth Volare CustomFord GrenadaPontiac Grand Prix LJChevrolet Monte Carlo LandauChrysler CordobaFord ThunderbirdVolkswagen Rabbit CustomPontiac Sunbird CoupeToyota Corolla LiftbackFord Mustang II 2+2Chevrolet ChevetteDodge Colt m/mSubaru DLVolkswagen DasherDatsun 810BMW 320iMazda RX-4Volkswagen Rabbit Custom DieselFord FiestaMazda GLC DeluxeDatsun B210 GXHonda Civic CVCCOldsmobile Cutlass Salon BroughamDodge DiplomatMercury Monarch ghiaPontiac Phoenix LJChevrolet MalibuFord Fairmont (auto)Ford Fairmont (man)Plymouth VolareAMC ConcordBuick Century SpecialMercury ZephyrDodge AspenAMC Concord d/lChevrolet Monte Carlo LandauBuick Regal Sport Coupe (turbo)Ford FuturaDodge Magnum XEChevrolet ChevetteToyota CorollaDatsun 510Dodge OmniToyota Celica GT LiftbackPlymouth SapporoOldsmobile Starfire SXDatsun 200-SXAudi 5000Volvo 264glSaab 99glePeugeot 604slVolkswagen SciroccoHonda Accord LXPontiac Lemans V6Mercury Zephyr 6Ford Fairmont 4AMC Concord DL 6Dodge Aspen 6Chevrolet Caprice ClassicFord LTD LandauMercury Grand MarquisDodge St. RegisBuick Estate Wagon (sw)Ford Country Squire (sw)Chevrolet Malibu Classic (sw)Chrysler Lebaron Town @ Country (sw)Volkswagen Rabbit CustomMazda GLC DeluxeDodge Colt Hatchback CustomAMC Spirit DLMercedes Benz 300dCadillac EldoradoPeugeot 504Oldsmobile Cutlass Salon BroughamPlymouth HorizonPlymouth Horizon TC3Datsun 210Fiat Strada CustomBuick Skylark LimitedChevrolet CitationOldsmobile Omega BroughamPontiac PhoenixVolkswagen RabbitToyota Corolla TercelChevrolet ChevetteDatsun 310Chevrolet CitationFord FairmontAMC ConcordDodge AspenAudi 4000Toyota Corolla LiftbackMazda 626Datsun 510 HatchbackToyota CorollaMazda GLCDodge ColtDatsun 210Volkswagen Rabbit C (Diesel)Volkswagen Dasher (diesel)Audi 5000s (diesel)Mercedes-Benz 240dHonda Civic 1500 glRenault Lecar DeluxeSubaru DLVolkswagen RabbitDatsun 280-ZXMazda RX-7 GSTriumph TR7 CoupeFord Mustang CobraHonda AccordPlymouth ReliantBuick SkylarkDodge Aries Wagon (sw)Chevrolet CitationPlymouth ReliantToyota StarletPlymouth ChampHonda Civic 1300SubaruDatsun 210 MPGToyota TercelMazda GLC 4Plymouth Horizon 4Ford Escort 4WFord Escort 2HVolkswagen JettaRenault 18iHonda PreludeToyota CorollaDatsun 200SXMazda 626Peugeot 505s Turbo DieselSaab 900sVolvo DieselToyota CressidaDatsun 810 MaximaBuick CenturyOldsmobile Cutlass LSFord Grenada glChrysler Lebaron SalonChevrolet CavalierChevrolet Cavalier WagonChevrolet Cavalier 2-doorPontiac J2000 SE HatchbackDodge Aries SEPontiac PhoenixFord Fairmont FuturaAMC Concord DLVolkswagen Rabbit lMazda GLC Custom lMazda GLC CustomPlymouth Horizon MiserMercury Lynx lNissan Stanza XEHonda AccordToyota CorollaHonda CivicHonda Civic (auto)Datsun 310 GXBuick Century LimitedOldsmobile Cutlass Ciera (diesel)Chrysler Lebaron MedallionFord Grenada lToyota Celica GTDodge Charger 2.2Chevrolet CamaroFord Mustang GLVolkswagen PickupDodge RampageFord RangerChevy S-10\""
      ]
     },
     "execution_count": 40,
     "metadata": {},
     "output_type": "execute_result"
    }
   ],
   "source": [
    "cars.Car.sum()"
   ]
  },
  {
   "cell_type": "code",
   "execution_count": 41,
   "metadata": {},
   "outputs": [
    {
     "data": {
      "text/plain": [
       "23.051231527093602"
      ]
     },
     "execution_count": 41,
     "metadata": {},
     "output_type": "execute_result"
    }
   ],
   "source": [
    "#mean\n",
    "cars.MPG.mean()"
   ]
  },
  {
   "cell_type": "code",
   "execution_count": 42,
   "metadata": {},
   "outputs": [
    {
     "data": {
      "text/plain": [
       "22.35"
      ]
     },
     "execution_count": 42,
     "metadata": {},
     "output_type": "execute_result"
    }
   ],
   "source": [
    "#median\n",
    "cars.MPG.median()"
   ]
  },
  {
   "cell_type": "code",
   "execution_count": 43,
   "metadata": {},
   "outputs": [
    {
     "data": {
      "text/plain": [
       "8.40177735227059"
      ]
     },
     "execution_count": 43,
     "metadata": {},
     "output_type": "execute_result"
    }
   ],
   "source": [
    "#standard deviation\n",
    "cars.MPG.std()"
   ]
  },
  {
   "cell_type": "code",
   "execution_count": 44,
   "metadata": {},
   "outputs": [
    {
     "data": {
      "text/plain": [
       "70.58986267712702"
      ]
     },
     "execution_count": 44,
     "metadata": {},
     "output_type": "execute_result"
    }
   ],
   "source": [
    "#variance\n",
    "cars.MPG.var()"
   ]
  },
  {
   "cell_type": "code",
   "execution_count": 45,
   "metadata": {},
   "outputs": [
    {
     "data": {
      "text/plain": [
       "0.0"
      ]
     },
     "execution_count": 45,
     "metadata": {},
     "output_type": "execute_result"
    }
   ],
   "source": [
    "#minimum\n",
    "cars.MPG.min()"
   ]
  },
  {
   "cell_type": "code",
   "execution_count": 47,
   "metadata": {},
   "outputs": [
    {
     "data": {
      "text/plain": [
       "46.6"
      ]
     },
     "execution_count": 47,
     "metadata": {},
     "output_type": "execute_result"
    }
   ],
   "source": [
    "#Maximum\n",
    "cars.MPG.max()"
   ]
  },
  {
   "cell_type": "code",
   "execution_count": 32,
   "metadata": {},
   "outputs": [
    {
     "data": {
      "text/plain": [
       "17.0"
      ]
     },
     "execution_count": 32,
     "metadata": {},
     "output_type": "execute_result"
    }
   ],
   "source": [
    "#25th quantile\n",
    "cars.MPG.quantile(.25)"
   ]
  },
  {
   "cell_type": "code",
   "execution_count": 33,
   "metadata": {},
   "outputs": [
    {
     "data": {
      "text/plain": [
       "34.25"
      ]
     },
     "execution_count": 33,
     "metadata": {},
     "output_type": "execute_result"
    }
   ],
   "source": [
    "#90th quantile\n",
    "cars.MPG.quantile(0.9)"
   ]
  },
  {
   "cell_type": "code",
   "execution_count": 34,
   "metadata": {},
   "outputs": [
    {
     "data": {
      "text/plain": [
       "0.90    34.250\n",
       "0.95    37.000\n",
       "0.99    43.385\n",
       "Name: MPG, dtype: float64"
      ]
     },
     "execution_count": 34,
     "metadata": {},
     "output_type": "execute_result"
    }
   ],
   "source": [
    "#90th, 95th and 99th percentile\n",
    "cars.MPG.quantile([0.9,0.95,0.99])"
   ]
  },
  {
   "cell_type": "code",
   "execution_count": 53,
   "metadata": {},
   "outputs": [
    {
     "data": {
      "text/plain": [
       "12.0"
      ]
     },
     "execution_count": 53,
     "metadata": {},
     "output_type": "execute_result"
    }
   ],
   "source": [
    "#Inter-quartile range\n",
    "cars.MPG.quantile(0.75) - cars.MPG.quantile(0.25)"
   ]
  },
  {
   "cell_type": "code",
   "execution_count": 59,
   "metadata": {},
   "outputs": [],
   "source": [
    "#OR create a function\n",
    "def IQR(x):\n",
    "    return(x.quantile(0.75) - x.quantile(0.25))\n"
   ]
  },
  {
   "cell_type": "code",
   "execution_count": 60,
   "metadata": {},
   "outputs": [
    {
     "data": {
      "text/plain": [
       "3.474999999999998"
      ]
     },
     "execution_count": 60,
     "metadata": {},
     "output_type": "execute_result"
    }
   ],
   "source": [
    "IQR(cars.Acceleration)"
   ]
  },
  {
   "cell_type": "code",
   "execution_count": null,
   "metadata": {},
   "outputs": [],
   "source": []
  },
  {
   "cell_type": "code",
   "execution_count": 40,
   "metadata": {
    "scrolled": true
   },
   "outputs": [
    {
     "data": {
      "text/plain": [
       "count    406.000000\n",
       "mean      23.051232\n",
       "std        8.401777\n",
       "min        0.000000\n",
       "25%       17.000000\n",
       "50%       22.350000\n",
       "75%       29.000000\n",
       "max       46.600000\n",
       "Name: MPG, dtype: float64"
      ]
     },
     "execution_count": 40,
     "metadata": {},
     "output_type": "execute_result"
    }
   ],
   "source": [
    "#describe\n",
    "cars.MPG.describe()"
   ]
  },
  {
   "cell_type": "code",
   "execution_count": null,
   "metadata": {},
   "outputs": [],
   "source": []
  },
  {
   "cell_type": "markdown",
   "metadata": {},
   "source": [
    "### Some Functions and their Descriptions\n",
    "\n",
    "    Function\tDescription\n",
    "---------------------------------------------\n",
    "       count\tNumber of non-null observations\n",
    "         sum\tSum of values\n",
    "        mean\tMean of values\n",
    "         mad\tMean absolute deviation\n",
    "      median\tArithmetic median of values\n",
    "         min\tMinimum\n",
    "         max\tMaximum\n",
    "        mode\tMode\n",
    "         abs\tAbsolute Value\n",
    "        prod\tProduct of values\n",
    "         std\tUnbiased standard deviation\n",
    "         var\tUnbiased variance\n",
    "         sem\tUnbiased standard error of the mean\n",
    "        skew\tUnbiased skewness (3rd moment)\n",
    "        kurt\tUnbiased kurtosis (4th moment)\n",
    "    quantile\tSample quantile (value at %)\n",
    "      cumsum\tCumulative sum\n",
    "     cumprod\tCumulative product\n",
    "      cummax\tCumulative maximum\n",
    "      cummin\tCumulative minimum"
   ]
  },
  {
   "cell_type": "code",
   "execution_count": 64,
   "metadata": {
    "scrolled": true
   },
   "outputs": [
    {
     "data": {
      "text/plain": [
       "<bound method NDFrame.describe of 0      18.0\n",
       "1      15.0\n",
       "2      18.0\n",
       "3      16.0\n",
       "4      17.0\n",
       "5      15.0\n",
       "6      14.0\n",
       "7      14.0\n",
       "8      14.0\n",
       "9      15.0\n",
       "10      0.0\n",
       "11      0.0\n",
       "12      0.0\n",
       "13      0.0\n",
       "14      0.0\n",
       "15     15.0\n",
       "16     14.0\n",
       "17      0.0\n",
       "18     15.0\n",
       "19     14.0\n",
       "20     24.0\n",
       "21     22.0\n",
       "22     18.0\n",
       "23     21.0\n",
       "24     27.0\n",
       "25     26.0\n",
       "26     25.0\n",
       "27     24.0\n",
       "28     25.0\n",
       "29     26.0\n",
       "       ... \n",
       "376    27.0\n",
       "377    34.0\n",
       "378    31.0\n",
       "379    29.0\n",
       "380    27.0\n",
       "381    24.0\n",
       "382    23.0\n",
       "383    36.0\n",
       "384    37.0\n",
       "385    31.0\n",
       "386    38.0\n",
       "387    36.0\n",
       "388    36.0\n",
       "389    36.0\n",
       "390    34.0\n",
       "391    38.0\n",
       "392    32.0\n",
       "393    38.0\n",
       "394    25.0\n",
       "395    38.0\n",
       "396    26.0\n",
       "397    22.0\n",
       "398    32.0\n",
       "399    36.0\n",
       "400    27.0\n",
       "401    27.0\n",
       "402    44.0\n",
       "403    32.0\n",
       "404    28.0\n",
       "405    31.0\n",
       "Name: MPG, Length: 406, dtype: float64>"
      ]
     },
     "execution_count": 64,
     "metadata": {},
     "output_type": "execute_result"
    }
   ],
   "source": [
    "cars.MPG.describe"
   ]
  },
  {
   "cell_type": "code",
   "execution_count": null,
   "metadata": {},
   "outputs": [],
   "source": []
  }
 ],
 "metadata": {
  "kernelspec": {
   "display_name": "Python 3",
   "language": "python",
   "name": "python3"
  },
  "language_info": {
   "codemirror_mode": {
    "name": "ipython",
    "version": 3
   },
   "file_extension": ".py",
   "mimetype": "text/x-python",
   "name": "python",
   "nbconvert_exporter": "python",
   "pygments_lexer": "ipython3",
   "version": "3.6.5"
  }
 },
 "nbformat": 4,
 "nbformat_minor": 2
}
