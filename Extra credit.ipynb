{
 "cells": [
  {
   "cell_type": "code",
   "execution_count": 1,
   "metadata": {},
   "outputs": [
    {
     "name": "stdout",
     "output_type": "stream",
     "text": [
      "Enter the e-wallet amount (eg., 5000, 1000, etc.): 5000\n",
      "Enter the balance amount with you (eg., 100, 200, etc.) : 4000\n",
      "Guess the number between 0 and 9: 5\n",
      "Too low\n",
      "Guess the number between 0 and 9: 6\n",
      "Too low\n",
      "Guess the number between 0 and 9: 7\n",
      "You got it right! Congo\n",
      "\n",
      "Your balance: Rs.  4000.0\n",
      "\n",
      "\n",
      "The balance in hand is :  4000.0\n",
      "The e-wallet amount is :  5000.0\n",
      "Would you like to play one more time? (Yes/No) : No\n",
      "Have a wonderful day!\n"
     ]
    }
   ],
   "source": [
    "import random\n",
    "\n",
    "try:\n",
    "    ewallet = float(input(\"Enter the e-wallet amount (eg., 5000, 1000, etc.): \"))\n",
    "    cash = float(input(\"Enter the balance amount with you (eg., 100, 200, etc.) : \"))\n",
    "except:\n",
    "    print(\"Please enter numerical value only for e-wallet and balance amounts.\")\n",
    "\n",
    "#Function to withdraw money from the wallet to start the game\n",
    "def wallet2balance ():\n",
    "    count2 = 0\n",
    "    global ewallet\n",
    "    global cash\n",
    "    \n",
    "    while cash<500:\n",
    "        \n",
    "        if count2>=1:\n",
    "            print(\"You still do not have enough money to start the game.\")\n",
    "        withdrwl = float(input(\"Enter amount to be withdrawn from e-wallet: \"))\n",
    "        count2+=1\n",
    "        \n",
    "        if withdrwl > ewallet:\n",
    "            print(\"Entered amount is greater than ewallet balance. The balance now is : \", ewallet)\n",
    "        else:\n",
    "            ewallet = ewallet-withdrwl\n",
    "            cash = cash+withdrwl\n",
    "        if ewallet == 0:\n",
    "            print(\"Please update the ewallet amount first. You cant withdraw from ewallet as it is zero now.\")\n",
    "            break\n",
    "    print(\"\\n\") \n",
    "    print(\"The balance in hand is : \", cash)\n",
    "    print(\"Now, you are ready to play the game.\\n\")\n",
    "\n",
    "#Guess the game function\n",
    "def game ():\n",
    "    global cash\n",
    "    num = 0\n",
    "    count = 1\n",
    "    win = 0\n",
    "    orig_num = random.randint(0,9)\n",
    "    \n",
    "    while True:\n",
    "        try:\n",
    "            num = int(input(\"Guess the number between 0 and 9: \"))\n",
    "        except:\n",
    "            print(\"Guess only the number between 0 to 9.\")\n",
    "        if num == orig_num:\n",
    "            print(\"You got it right! Congo\")\n",
    "            if count == 1:\n",
    "                print(\"You have just won Rs. 5,000\")\n",
    "                win = 5000\n",
    "            elif count == 2:\n",
    "                print(\"You have just won Rs. 1,000\")\n",
    "                win = 1000\n",
    "            cash = cash+win\n",
    "            print(\"\\nYour balance: Rs. \", cash)\n",
    "            break\n",
    "        else:\n",
    "            if num<orig_num and count<3:\n",
    "                print(\"Too low\")\n",
    "                count+=1\n",
    "                continue\n",
    "            elif num>orig_num and count<3:\n",
    "                print(\"Too high\")\n",
    "                count+=1\n",
    "                continue\n",
    "            else:\n",
    "                print(\"Sorry, you Lost!\")\n",
    "                win = -500\n",
    "                cash = cash+win\n",
    "                print(\"Your balance: Rs. \", cash)\n",
    "                break\n",
    "\n",
    "\n",
    "\n",
    "game_count = 0\n",
    "\n",
    "if cash>=500:\n",
    "    game()\n",
    "    game_count+=1\n",
    "else:\n",
    "    wallet2balance()\n",
    "    game()\n",
    "    game_count+=1\n",
    "\n",
    "\n",
    "print(\"\\n\")\n",
    "print(\"The balance in hand is : \", cash)\n",
    "print(\"The e-wallet amount is : \", ewallet)\n",
    "\n",
    "replay = input(\"Would you like to play one more time? (Yes/No) : \")\n",
    "while replay.lower() != 'no':\n",
    "    if cash>=500:\n",
    "        game()\n",
    "        print(\"The balance in hand is : \", cash)\n",
    "        print(\"The e-wallet amount is : \", ewallet)\n",
    "        replay = input(\"Would you like to play one more time? (Yes/No) : \")\n",
    "        continue\n",
    "    else:\n",
    "        wallet2balance()\n",
    "        game()\n",
    "        print(\"The balance in hand is : \", cash)\n",
    "        print(\"The e-wallet amount is : \", ewallet)\n",
    "        replay = input(\"Would you like to play one more time? (Yes/No) : \")\n",
    "        continue\n",
    "    break\n",
    "\n",
    "print(\"Have a wonderful day!\")\n"
   ]
  },
  {
   "cell_type": "code",
   "execution_count": null,
   "metadata": {},
   "outputs": [],
   "source": []
  },
  {
   "cell_type": "code",
   "execution_count": 1,
   "metadata": {},
   "outputs": [
    {
     "name": "stdout",
     "output_type": "stream",
     "text": [
      "hi\n"
     ]
    }
   ],
   "source": [
    "print('hi')"
   ]
  },
  {
   "cell_type": "code",
   "execution_count": null,
   "metadata": {},
   "outputs": [],
   "source": []
  },
  {
   "cell_type": "code",
   "execution_count": null,
   "metadata": {},
   "outputs": [],
   "source": []
  },
  {
   "cell_type": "code",
   "execution_count": null,
   "metadata": {},
   "outputs": [],
   "source": []
  }
 ],
 "metadata": {
  "kernelspec": {
   "display_name": "Python 3",
   "language": "python",
   "name": "python3"
  },
  "language_info": {
   "codemirror_mode": {
    "name": "ipython",
    "version": 3
   },
   "file_extension": ".py",
   "mimetype": "text/x-python",
   "name": "python",
   "nbconvert_exporter": "python",
   "pygments_lexer": "ipython3",
   "version": "3.6.5"
  }
 },
 "nbformat": 4,
 "nbformat_minor": 2
}
