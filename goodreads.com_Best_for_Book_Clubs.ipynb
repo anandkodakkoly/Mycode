{
 "cells": [
  {
   "cell_type": "code",
   "execution_count": 1,
   "metadata": {},
   "outputs": [],
   "source": [
    "# https://www.goodreads.com/list/show/19.Best_for_Book_Clubs"
   ]
  },
  {
   "cell_type": "code",
   "execution_count": 13,
   "metadata": {},
   "outputs": [],
   "source": [
    "import pandas as pd\n",
    "import numpy as np\n",
    "from tqdm import tqdm\n",
    "from bs4 import BeautifulSoup\n",
    "import requests\n",
    "import re"
   ]
  },
  {
   "cell_type": "code",
   "execution_count": 53,
   "metadata": {},
   "outputs": [
    {
     "name": "stderr",
     "output_type": "stream",
     "text": [
      "100%|██████████████████████████████████████████████████████████████████████████████████| 11/11 [00:56<00:00,  5.14s/it]\n"
     ]
    }
   ],
   "source": [
    "def book_info(url):\n",
    "    req = requests.get(url).text\n",
    "    ip = BeautifulSoup(req)\n",
    "    ratings_users = [[re.split(' [\\D]*' , i.text)[1] , re.split(' [\\D]*' , i.text)[2]] for i in ip.find_all('span' , class_ = 'minirating')]\n",
    "    book_title = [i.text.strip() for i in ip.find_all('span',itemprop = 'name' , role = 'heading')]\n",
    "    author_name = [ i.text.strip() for i in ip.find_all('a' , class_ = 'authorName')]\n",
    "    df = pd.DataFrame()\n",
    "    df['Book Name'] = book_title\n",
    "    df['Author Name'] = author_name\n",
    "    df['Ratings'] = [i[0] for i in ratings_users ]\n",
    "    df['No Of Users Rated'] = [i[1] for i in ratings_users ]\n",
    "    return df\n",
    "    \n",
    "master_dict = {}\n",
    "url = 'https://www.goodreads.com/list/show/19.Best_for_Book_Clubs?page={}'\n",
    "for i in tqdm(range(1,12)):\n",
    "    df = book_info(url.format(i))\n",
    "    master_dict[i] = df\n"
   ]
  },
  {
   "cell_type": "code",
   "execution_count": null,
   "metadata": {},
   "outputs": [],
   "source": [
    "master_dict[2]"
   ]
  },
  {
   "cell_type": "code",
   "execution_count": 57,
   "metadata": {},
   "outputs": [],
   "source": [
    "master_dataframe = pd.concat( master_dict[i] for i in master_dict )"
   ]
  },
  {
   "cell_type": "code",
   "execution_count": 88,
   "metadata": {},
   "outputs": [
    {
     "data": {
      "text/html": [
       "<div>\n",
       "<style scoped>\n",
       "    .dataframe tbody tr th:only-of-type {\n",
       "        vertical-align: middle;\n",
       "    }\n",
       "\n",
       "    .dataframe tbody tr th {\n",
       "        vertical-align: top;\n",
       "    }\n",
       "\n",
       "    .dataframe thead th {\n",
       "        text-align: right;\n",
       "    }\n",
       "</style>\n",
       "<table border=\"1\" class=\"dataframe\">\n",
       "  <thead>\n",
       "    <tr style=\"text-align: right;\">\n",
       "      <th></th>\n",
       "      <th>Book Name</th>\n",
       "      <th>Author Name</th>\n",
       "      <th>Ratings</th>\n",
       "      <th>No Of Users Rated</th>\n",
       "    </tr>\n",
       "  </thead>\n",
       "  <tbody>\n",
       "    <tr>\n",
       "      <th>28</th>\n",
       "      <td>Middlesex</td>\n",
       "      <td>Jeffrey Eugenides</td>\n",
       "      <td>4.00</td>\n",
       "      <td>555,747</td>\n",
       "    </tr>\n",
       "  </tbody>\n",
       "</table>\n",
       "</div>"
      ],
      "text/plain": [
       "    Book Name        Author Name Ratings No Of Users Rated\n",
       "28  Middlesex  Jeffrey Eugenides    4.00           555,747"
      ]
     },
     "execution_count": 88,
     "metadata": {},
     "output_type": "execute_result"
    }
   ],
   "source": [
    "master_dataframe [ master_dataframe['Book Name'] == 'Middlesex' ]"
   ]
  },
  {
   "cell_type": "code",
   "execution_count": 67,
   "metadata": {},
   "outputs": [
    {
     "data": {
      "text/plain": [
       "[' 4.46', 'vg', 'ating', ' 1,917,397', 'atings']"
      ]
     },
     "execution_count": 67,
     "metadata": {},
     "output_type": "execute_result"
    }
   ],
   "source": [
    "[re.split(' [\\D]' , i.text) for i in ip.find_all('span' , class_ = 'minirating')][0]"
   ]
  },
  {
   "cell_type": "code",
   "execution_count": 63,
   "metadata": {},
   "outputs": [
    {
     "data": {
      "text/plain": [
       "' 4.46 avg rating — 1,917,397 ratings'"
      ]
     },
     "execution_count": 63,
     "metadata": {},
     "output_type": "execute_result"
    }
   ],
   "source": [
    "[ i.text for i in ip.find_all('span' , class_ = 'minirating')][0]"
   ]
  },
  {
   "cell_type": "code",
   "execution_count": 68,
   "metadata": {},
   "outputs": [
    {
     "data": {
      "text/plain": [
       "['4.46', 'avg', 'rating', '—', '1,917,397', 'ratings']"
      ]
     },
     "execution_count": 68,
     "metadata": {},
     "output_type": "execute_result"
    }
   ],
   "source": [
    "[ i.text.split() for i in ip.find_all('span' , class_ = 'minirating')][0]"
   ]
  },
  {
   "cell_type": "code",
   "execution_count": 103,
   "metadata": {},
   "outputs": [
    {
     "data": {
      "text/plain": [
       "'4.46 1,917,397'"
      ]
     },
     "execution_count": 103,
     "metadata": {},
     "output_type": "execute_result"
    }
   ],
   "source": [
    "[ re.sub( '#{2,}' ,' ', '#'.join( re.findall( r'\\b([\\d.,]*)\\b' ,i.text) ) ).strip() for i in ip.find_all('span' , class_ = 'minirating')][0]"
   ]
  },
  {
   "cell_type": "code",
   "execution_count": 114,
   "metadata": {},
   "outputs": [
    {
     "data": {
      "text/plain": [
       "['The Help',\n",
       " 'The Kite Runner',\n",
       " 'Water for Elephants',\n",
       " 'The Book Thief',\n",
       " 'To Kill a Mockingbird (To Kill a Mockingbird, #1)']"
      ]
     },
     "execution_count": 114,
     "metadata": {},
     "output_type": "execute_result"
    }
   ],
   "source": [
    "[ i.text.strip() for i in ip.find_all('a' , class_ = 'bookTitle')][ : 5]"
   ]
  },
  {
   "cell_type": "code",
   "execution_count": 117,
   "metadata": {},
   "outputs": [
    {
     "data": {
      "text/plain": [
       "['The Help',\n",
       " 'The Kite Runner',\n",
       " 'Water for Elephants',\n",
       " 'The Book Thief',\n",
       " 'To Kill a Mockingbird (To Kill a Mockingbird, #1)']"
      ]
     },
     "execution_count": 117,
     "metadata": {},
     "output_type": "execute_result"
    }
   ],
   "source": [
    "[ i.text.strip() for i in ip.find_all('span' , attrs = { 'itemprop' : 'name' , 'role' : 'heading' } )][ : 5]"
   ]
  },
  {
   "cell_type": "code",
   "execution_count": null,
   "metadata": {},
   "outputs": [],
   "source": []
  },
  {
   "cell_type": "code",
   "execution_count": 126,
   "metadata": {},
   "outputs": [
    {
     "data": {
      "text/plain": [
       "'score: 213,334'"
      ]
     },
     "execution_count": 126,
     "metadata": {},
     "output_type": "execute_result"
    }
   ],
   "source": [
    "[list(i.children)[1].text for i in ip.find_all('span' , class_ = 'smallText uitext')][0]"
   ]
  },
  {
   "cell_type": "code",
   "execution_count": 130,
   "metadata": {},
   "outputs": [
    {
     "data": {
      "text/plain": [
       "['2,175 people voted',\n",
       " '1,614 people voted',\n",
       " '1,560 people voted',\n",
       " '1,289 people voted',\n",
       " '1,189 people voted',\n",
       " '993 people voted',\n",
       " '954 people voted',\n",
       " '927 people voted',\n",
       " '867 people voted',\n",
       " '835 people voted',\n",
       " '809 people voted',\n",
       " '758 people voted',\n",
       " '758 people voted',\n",
       " '684 people voted',\n",
       " '647 people voted',\n",
       " '601 people voted',\n",
       " '579 people voted',\n",
       " '553 people voted',\n",
       " '544 people voted',\n",
       " '543 people voted',\n",
       " '499 people voted',\n",
       " '487 people voted',\n",
       " '439 people voted',\n",
       " '446 people voted',\n",
       " '444 people voted',\n",
       " '433 people voted',\n",
       " '430 people voted',\n",
       " '422 people voted',\n",
       " '405 people voted',\n",
       " '399 people voted',\n",
       " '380 people voted',\n",
       " '383 people voted',\n",
       " '371 people voted',\n",
       " '364 people voted',\n",
       " '346 people voted',\n",
       " '339 people voted',\n",
       " '319 people voted',\n",
       " '333 people voted',\n",
       " '328 people voted',\n",
       " '331 people voted',\n",
       " '326 people voted',\n",
       " '306 people voted',\n",
       " '297 people voted',\n",
       " '279 people voted',\n",
       " '283 people voted',\n",
       " '278 people voted',\n",
       " '272 people voted',\n",
       " '263 people voted',\n",
       " '266 people voted',\n",
       " '272 people voted',\n",
       " '271 people voted',\n",
       " '268 people voted',\n",
       " '259 people voted',\n",
       " '257 people voted',\n",
       " '250 people voted',\n",
       " '248 people voted',\n",
       " '235 people voted',\n",
       " '247 people voted',\n",
       " '234 people voted',\n",
       " '241 people voted',\n",
       " '228 people voted',\n",
       " '219 people voted',\n",
       " '204 people voted',\n",
       " '217 people voted',\n",
       " '219 people voted',\n",
       " '201 people voted',\n",
       " '206 people voted',\n",
       " '210 people voted',\n",
       " '200 people voted',\n",
       " '201 people voted',\n",
       " '195 people voted',\n",
       " '191 people voted',\n",
       " '190 people voted',\n",
       " '192 people voted',\n",
       " '188 people voted',\n",
       " '178 people voted',\n",
       " '188 people voted',\n",
       " '178 people voted',\n",
       " '180 people voted',\n",
       " '170 people voted',\n",
       " '179 people voted',\n",
       " '179 people voted',\n",
       " '169 people voted',\n",
       " '170 people voted',\n",
       " '163 people voted',\n",
       " '146 people voted',\n",
       " '175 people voted',\n",
       " '164 people voted',\n",
       " '151 people voted',\n",
       " '167 people voted',\n",
       " '148 people voted',\n",
       " '149 people voted',\n",
       " '148 people voted',\n",
       " '141 people voted',\n",
       " '136 people voted',\n",
       " '136 people voted',\n",
       " '140 people voted',\n",
       " '137 people voted',\n",
       " '130 people voted',\n",
       " '125 people voted']"
      ]
     },
     "execution_count": 130,
     "metadata": {},
     "output_type": "execute_result"
    }
   ],
   "source": [
    "[list(i.children)[5].text for i in ip.find_all('span' , class_ = 'smallText uitext')]"
   ]
  },
  {
   "cell_type": "code",
   "execution_count": null,
   "metadata": {},
   "outputs": [],
   "source": []
  },
  {
   "cell_type": "code",
   "execution_count": null,
   "metadata": {},
   "outputs": [],
   "source": []
  },
  {
   "cell_type": "code",
   "execution_count": null,
   "metadata": {},
   "outputs": [],
   "source": [
    "\n"
   ]
  },
  {
   "cell_type": "code",
   "execution_count": null,
   "metadata": {},
   "outputs": [],
   "source": []
  }
 ],
 "metadata": {
  "kernelspec": {
   "display_name": "Python 3",
   "language": "python",
   "name": "python3"
  },
  "language_info": {
   "codemirror_mode": {
    "name": "ipython",
    "version": 3
   },
   "file_extension": ".py",
   "mimetype": "text/x-python",
   "name": "python",
   "nbconvert_exporter": "python",
   "pygments_lexer": "ipython3",
   "version": "3.7.6"
  }
 },
 "nbformat": 4,
 "nbformat_minor": 2
}
