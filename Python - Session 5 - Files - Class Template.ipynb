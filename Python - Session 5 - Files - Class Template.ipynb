{
 "cells": [
  {
   "cell_type": "markdown",
   "metadata": {},
   "source": [
    "### A. Text Files and Lines"
   ]
  },
  {
   "cell_type": "markdown",
   "metadata": {},
   "source": [
    "Recall that a Python string can be thought of as a sequence of characters. In a similar way, a text file can be thought of as a sequence of lines"
   ]
  },
  {
   "cell_type": "markdown",
   "metadata": {},
   "source": [
    "For example, consider the following sample of a text file\n",
    "\n",
    "    From stephen.marquard@uct.ac.za Sat Jan 5 09:14:16 2008\n",
    "    Return-Path: <postmaster@collab.sakaiproject.org>\n",
    "    Date: Sat, 5 Jan 2008 09:12:18 -0500\n",
    "    To: source@collab.sakaiproject.org\n",
    "    From: stephen.marquard@uct.ac.za\n",
    "    Subject: [sakai] svn commit: r39772 - content/branches/\n",
    "    Details: http://source.sakaiproject.org/viewsvn/?view=rev&rev=39772"
   ]
  },
  {
   "cell_type": "markdown",
   "metadata": {},
   "source": [
    "These files are in a standard format for a file containing multiple mail messages. The lines which start with “From ” separate the messages and the lines which start with “From:” are part of the messages. For more information about the mbox format, see en.wikipedia.org/wiki/Mbox."
   ]
  },
  {
   "cell_type": "markdown",
   "metadata": {},
   "source": [
    "To break the file into lines, there is a special character that represents the “end of the line” called the newline character."
   ]
  },
  {
   "cell_type": "markdown",
   "metadata": {},
   "source": [
    "### B. Newline"
   ]
  },
  {
   "cell_type": "markdown",
   "metadata": {},
   "source": [
    "In Python, the newline character is represented by \\n"
   ]
  },
  {
   "cell_type": "markdown",
   "metadata": {},
   "source": [
    "*(Even though this looks like two characters, it is actually a single character.)*"
   ]
  },
  {
   "cell_type": "code",
   "execution_count": 1,
   "metadata": {},
   "outputs": [
    {
     "name": "stdout",
     "output_type": "stream",
     "text": [
      "A\n",
      "B\n"
     ]
    }
   ],
   "source": [
    "mystr = \"A\\nB\"\n",
    "print(mystr)"
   ]
  },
  {
   "cell_type": "code",
   "execution_count": 2,
   "metadata": {},
   "outputs": [
    {
     "data": {
      "text/plain": [
       "3"
      ]
     },
     "execution_count": 2,
     "metadata": {},
     "output_type": "execute_result"
    }
   ],
   "source": [
    "len(mystr)"
   ]
  },
  {
   "cell_type": "code",
   "execution_count": 3,
   "metadata": {},
   "outputs": [
    {
     "data": {
      "text/plain": [
       "'A\\nB'"
      ]
     },
     "execution_count": 3,
     "metadata": {},
     "output_type": "execute_result"
    }
   ],
   "source": [
    "mystr"
   ]
  },
  {
   "cell_type": "code",
   "execution_count": 7,
   "metadata": {
    "scrolled": true
   },
   "outputs": [
    {
     "name": "stdout",
     "output_type": "stream",
     "text": [
      "Help on built-in function open in module io:\n",
      "\n",
      "open(file, mode='r', buffering=-1, encoding=None, errors=None, newline=None, closefd=True, opener=None)\n",
      "    Open file and return a stream.  Raise IOError upon failure.\n",
      "    \n",
      "    file is either a text or byte string giving the name (and the path\n",
      "    if the file isn't in the current working directory) of the file to\n",
      "    be opened or an integer file descriptor of the file to be\n",
      "    wrapped. (If a file descriptor is given, it is closed when the\n",
      "    returned I/O object is closed, unless closefd is set to False.)\n",
      "    \n",
      "    mode is an optional string that specifies the mode in which the file\n",
      "    is opened. It defaults to 'r' which means open for reading in text\n",
      "    mode.  Other common values are 'w' for writing (truncating the file if\n",
      "    it already exists), 'x' for creating and writing to a new file, and\n",
      "    'a' for appending (which on some Unix systems, means that all writes\n",
      "    append to the end of the file regardless of the current seek position).\n",
      "    In text mode, if encoding is not specified the encoding used is platform\n",
      "    dependent: locale.getpreferredencoding(False) is called to get the\n",
      "    current locale encoding. (For reading and writing raw bytes use binary\n",
      "    mode and leave encoding unspecified.) The available modes are:\n",
      "    \n",
      "    ========= ===============================================================\n",
      "    Character Meaning\n",
      "    --------- ---------------------------------------------------------------\n",
      "    'r'       open for reading (default)\n",
      "    'w'       open for writing, truncating the file first\n",
      "    'x'       create a new file and open it for writing\n",
      "    'a'       open for writing, appending to the end of the file if it exists\n",
      "    'b'       binary mode\n",
      "    't'       text mode (default)\n",
      "    '+'       open a disk file for updating (reading and writing)\n",
      "    'U'       universal newline mode (deprecated)\n",
      "    ========= ===============================================================\n",
      "    \n",
      "    The default mode is 'rt' (open for reading text). For binary random\n",
      "    access, the mode 'w+b' opens and truncates the file to 0 bytes, while\n",
      "    'r+b' opens the file without truncation. The 'x' mode implies 'w' and\n",
      "    raises an `FileExistsError` if the file already exists.\n",
      "    \n",
      "    Python distinguishes between files opened in binary and text modes,\n",
      "    even when the underlying operating system doesn't. Files opened in\n",
      "    binary mode (appending 'b' to the mode argument) return contents as\n",
      "    bytes objects without any decoding. In text mode (the default, or when\n",
      "    't' is appended to the mode argument), the contents of the file are\n",
      "    returned as strings, the bytes having been first decoded using a\n",
      "    platform-dependent encoding or using the specified encoding if given.\n",
      "    \n",
      "    'U' mode is deprecated and will raise an exception in future versions\n",
      "    of Python.  It has no effect in Python 3.  Use newline to control\n",
      "    universal newlines mode.\n",
      "    \n",
      "    buffering is an optional integer used to set the buffering policy.\n",
      "    Pass 0 to switch buffering off (only allowed in binary mode), 1 to select\n",
      "    line buffering (only usable in text mode), and an integer > 1 to indicate\n",
      "    the size of a fixed-size chunk buffer.  When no buffering argument is\n",
      "    given, the default buffering policy works as follows:\n",
      "    \n",
      "    * Binary files are buffered in fixed-size chunks; the size of the buffer\n",
      "      is chosen using a heuristic trying to determine the underlying device's\n",
      "      \"block size\" and falling back on `io.DEFAULT_BUFFER_SIZE`.\n",
      "      On many systems, the buffer will typically be 4096 or 8192 bytes long.\n",
      "    \n",
      "    * \"Interactive\" text files (files for which isatty() returns True)\n",
      "      use line buffering.  Other text files use the policy described above\n",
      "      for binary files.\n",
      "    \n",
      "    encoding is the name of the encoding used to decode or encode the\n",
      "    file. This should only be used in text mode. The default encoding is\n",
      "    platform dependent, but any encoding supported by Python can be\n",
      "    passed.  See the codecs module for the list of supported encodings.\n",
      "    \n",
      "    errors is an optional string that specifies how encoding errors are to\n",
      "    be handled---this argument should not be used in binary mode. Pass\n",
      "    'strict' to raise a ValueError exception if there is an encoding error\n",
      "    (the default of None has the same effect), or pass 'ignore' to ignore\n",
      "    errors. (Note that ignoring encoding errors can lead to data loss.)\n",
      "    See the documentation for codecs.register or run 'help(codecs.Codec)'\n",
      "    for a list of the permitted encoding error strings.\n",
      "    \n",
      "    newline controls how universal newlines works (it only applies to text\n",
      "    mode). It can be None, '', '\\n', '\\r', and '\\r\\n'.  It works as\n",
      "    follows:\n",
      "    \n",
      "    * On input, if newline is None, universal newlines mode is\n",
      "      enabled. Lines in the input can end in '\\n', '\\r', or '\\r\\n', and\n",
      "      these are translated into '\\n' before being returned to the\n",
      "      caller. If it is '', universal newline mode is enabled, but line\n",
      "      endings are returned to the caller untranslated. If it has any of\n",
      "      the other legal values, input lines are only terminated by the given\n",
      "      string, and the line ending is returned to the caller untranslated.\n",
      "    \n",
      "    * On output, if newline is None, any '\\n' characters written are\n",
      "      translated to the system default line separator, os.linesep. If\n",
      "      newline is '' or '\\n', no translation takes place. If newline is any\n",
      "      of the other legal values, any '\\n' characters written are translated\n",
      "      to the given string.\n",
      "    \n",
      "    If closefd is False, the underlying file descriptor will be kept open\n",
      "    when the file is closed. This does not work when a file name is given\n",
      "    and must be True in that case.\n",
      "    \n",
      "    A custom opener can be used by passing a callable as *opener*. The\n",
      "    underlying file descriptor for the file object is then obtained by\n",
      "    calling *opener* with (*file*, *flags*). *opener* must return an open\n",
      "    file descriptor (passing os.open as *opener* results in functionality\n",
      "    similar to passing None).\n",
      "    \n",
      "    open() returns a file object whose type depends on the mode, and\n",
      "    through which the standard file operations such as reading and writing\n",
      "    are performed. When open() is used to open a file in a text mode ('w',\n",
      "    'r', 'wt', 'rt', etc.), it returns a TextIOWrapper. When used to open\n",
      "    a file in a binary mode, the returned class varies: in read binary\n",
      "    mode, it returns a BufferedReader; in write binary and append binary\n",
      "    modes, it returns a BufferedWriter, and in read/write mode, it returns\n",
      "    a BufferedRandom.\n",
      "    \n",
      "    It is also possible to use a string or bytearray as a file for both\n",
      "    reading and writing. For strings StringIO can be used like a file\n",
      "    opened in a text mode, and for bytes a BytesIO can be used like a file\n",
      "    opened in a binary mode.\n",
      "\n"
     ]
    }
   ],
   "source": [
    "help(open)"
   ]
  },
  {
   "cell_type": "code",
   "execution_count": 9,
   "metadata": {},
   "outputs": [],
   "source": [
    "f = open(\"myfile0.txt\", \"w\")"
   ]
  },
  {
   "cell_type": "code",
   "execution_count": 10,
   "metadata": {},
   "outputs": [
    {
     "data": {
      "text/plain": [
       "17"
      ]
     },
     "execution_count": 10,
     "metadata": {},
     "output_type": "execute_result"
    }
   ],
   "source": [
    "f.write('This is 1st line\\n')"
   ]
  },
  {
   "cell_type": "code",
   "execution_count": 11,
   "metadata": {},
   "outputs": [
    {
     "data": {
      "text/plain": [
       "9"
      ]
     },
     "execution_count": 11,
     "metadata": {},
     "output_type": "execute_result"
    }
   ],
   "source": [
    "f.write(\"2nd line\\n\")"
   ]
  },
  {
   "cell_type": "code",
   "execution_count": 12,
   "metadata": {},
   "outputs": [
    {
     "data": {
      "text/plain": [
       "3"
      ]
     },
     "execution_count": 12,
     "metadata": {},
     "output_type": "execute_result"
    }
   ],
   "source": [
    "f.write('3rd')"
   ]
  },
  {
   "cell_type": "code",
   "execution_count": 13,
   "metadata": {},
   "outputs": [],
   "source": [
    "f.close()"
   ]
  },
  {
   "cell_type": "code",
   "execution_count": 30,
   "metadata": {},
   "outputs": [],
   "source": [
    "fr = open(\"myfile0.txt\", 'r')"
   ]
  },
  {
   "cell_type": "code",
   "execution_count": 27,
   "metadata": {},
   "outputs": [
    {
     "name": "stdout",
     "output_type": "stream",
     "text": [
      "This is 1st line\n",
      "2nd line\n",
      "3rd"
     ]
    }
   ],
   "source": [
    "for i in fr:\n",
    "    print(i, end='')"
   ]
  },
  {
   "cell_type": "code",
   "execution_count": 28,
   "metadata": {},
   "outputs": [
    {
     "data": {
      "text/plain": [
       "''"
      ]
     },
     "execution_count": 28,
     "metadata": {},
     "output_type": "execute_result"
    }
   ],
   "source": [
    "fr.read()"
   ]
  },
  {
   "cell_type": "code",
   "execution_count": 32,
   "metadata": {},
   "outputs": [],
   "source": [
    "fr.close()"
   ]
  },
  {
   "cell_type": "code",
   "execution_count": 1,
   "metadata": {},
   "outputs": [
    {
     "ename": "NameError",
     "evalue": "name 'fr' is not defined",
     "output_type": "error",
     "traceback": [
      "\u001b[1;31m---------------------------------------------------------------------------\u001b[0m",
      "\u001b[1;31mNameError\u001b[0m                                 Traceback (most recent call last)",
      "\u001b[1;32m<ipython-input-1-5b689f37bcad>\u001b[0m in \u001b[0;36m<module>\u001b[1;34m()\u001b[0m\n\u001b[1;32m----> 1\u001b[1;33m \u001b[0mtype\u001b[0m\u001b[1;33m(\u001b[0m\u001b[0mfr\u001b[0m\u001b[1;33m)\u001b[0m\u001b[1;33m\u001b[0m\u001b[0m\n\u001b[0m",
      "\u001b[1;31mNameError\u001b[0m: name 'fr' is not defined"
     ]
    }
   ],
   "source": [
    "type(fr)"
   ]
  },
  {
   "cell_type": "code",
   "execution_count": null,
   "metadata": {},
   "outputs": [],
   "source": []
  },
  {
   "cell_type": "code",
   "execution_count": null,
   "metadata": {},
   "outputs": [],
   "source": []
  },
  {
   "cell_type": "markdown",
   "metadata": {},
   "source": [
    "**Note:** \n",
    "*So when we look at the lines in a file, we need to imagine that there is a special invisible character called the newline at the end of each line that marks the end of the line.*"
   ]
  },
  {
   "cell_type": "markdown",
   "metadata": {},
   "source": [
    "### C. Reading Files"
   ]
  },
  {
   "cell_type": "code",
   "execution_count": 2,
   "metadata": {},
   "outputs": [],
   "source": [
    "import os"
   ]
  },
  {
   "cell_type": "code",
   "execution_count": 3,
   "metadata": {},
   "outputs": [
    {
     "data": {
      "text/plain": [
       "'C:\\\\Users\\\\PARTHI vs BHARATHI\\\\Downloads\\\\PRAXIS\\\\A Term 1\\\\Python'"
      ]
     },
     "execution_count": 3,
     "metadata": {},
     "output_type": "execute_result"
    }
   ],
   "source": [
    "pwd"
   ]
  },
  {
   "cell_type": "code",
   "execution_count": 4,
   "metadata": {},
   "outputs": [],
   "source": [
    "#os.chdir('C:\\\\Users\\\\PARTHI vs BHARATHI\\\\Downloads')"
   ]
  },
  {
   "cell_type": "code",
   "execution_count": 9,
   "metadata": {},
   "outputs": [],
   "source": [
    "#File handle\n",
    "fhand = open(\"mbox-short.txt\")"
   ]
  },
  {
   "cell_type": "code",
   "execution_count": 10,
   "metadata": {
    "scrolled": true
   },
   "outputs": [
    {
     "data": {
      "text/plain": [
       "<_io.TextIOWrapper name='mbox-short.txt' mode='r' encoding='cp1252'>"
      ]
     },
     "execution_count": 10,
     "metadata": {},
     "output_type": "execute_result"
    }
   ],
   "source": [
    "fhand"
   ]
  },
  {
   "cell_type": "markdown",
   "metadata": {},
   "source": [
    "**Note:**\n",
    "*File handle does not contain the data for the file*"
   ]
  },
  {
   "cell_type": "markdown",
   "metadata": {},
   "source": [
    "**1. Reading the data using a loop**\n",
    "\n",
    "We can easily construct a for loop to read through and count each of the lines in a file:"
   ]
  },
  {
   "cell_type": "code",
   "execution_count": null,
   "metadata": {},
   "outputs": [],
   "source": []
  },
  {
   "cell_type": "code",
   "execution_count": 8,
   "metadata": {},
   "outputs": [],
   "source": [
    "#Reading all lines:\n",
    "for i in fhand:\n",
    "    print(i)"
   ]
  },
  {
   "cell_type": "code",
   "execution_count": 42,
   "metadata": {
    "collapsed": true
   },
   "outputs": [
    {
     "name": "stdout",
     "output_type": "stream",
     "text": [
      "From stephen.marquard@uct.ac.za Sat Jan  5 09:14:16 2008\n",
      "\n",
      "Return-Path: <postmaster@collab.sakaiproject.org>\n",
      "\n",
      "Received: from murder (mail.umich.edu [141.211.14.90])\n",
      "\n",
      "\t by frankenstein.mail.umich.edu (Cyrus v2.3.8) with LMTPA;\n",
      "\n",
      "\t Sat, 05 Jan 2008 09:14:16 -0500\n",
      "\n",
      "X-Sieve: CMU Sieve 2.3\n",
      "\n",
      "Received: from murder ([unix socket])\n",
      "\n",
      "\t by mail.umich.edu (Cyrus v2.2.12) with LMTPA;\n",
      "\n",
      "\t Sat, 05 Jan 2008 09:14:16 -0500\n",
      "\n",
      "Received: from holes.mr.itd.umich.edu (holes.mr.itd.umich.edu [141.211.14.79])\n",
      "\n"
     ]
    }
   ],
   "source": [
    "#only 10 lines present in the file:\n",
    "count = 0\n",
    "for line in fhand:\n",
    "    print(line)\n",
    "    count+=1\n",
    "    if count == 10:\n",
    "        break"
   ]
  },
  {
   "cell_type": "code",
   "execution_count": 14,
   "metadata": {
    "scrolled": true
   },
   "outputs": [
    {
     "data": {
      "text/plain": [
       "['From stephen.marquard@uct.ac.za Sat Jan  5 09:14:16 2008\\n',\n",
       " 'Return-Path: <postmaster@collab.sakaiproject.org>\\n',\n",
       " 'Received: from murder (mail.umich.edu [141.211.14.90])\\n',\n",
       " '\\t by frankenstein.mail.umich.edu (Cyrus v2.3.8) with LMTPA;\\n',\n",
       " '\\t Sat, 05 Jan 2008 09:14:16 -0500\\n',\n",
       " 'X-Sieve: CMU Sieve 2.3\\n',\n",
       " 'Received: from murder ([unix socket])\\n',\n",
       " '\\t by mail.umich.edu (Cyrus v2.2.12) with LMTPA;\\n',\n",
       " '\\t Sat, 05 Jan 2008 09:14:16 -0500\\n',\n",
       " 'Received: from holes.mr.itd.umich.edu (holes.mr.itd.umich.edu [141.211.14.79])\\n',\n",
       " '\\tby flawless.mail.umich.edu () with ESMTP id m05EEFR1013674;\\n',\n",
       " '\\tSat, 5 Jan 2008 09:14:15 -0500\\n',\n",
       " 'Received: FROM paploo.uhi.ac.uk (app1.prod.collab.uhi.ac.uk [194.35.219.184])\\n',\n",
       " '\\tBY holes.mr.itd.umich.edu ID 477F90B0.2DB2F.12494 ; \\n',\n",
       " '\\t 5 Jan 2008 09:14:10 -0500\\n',\n",
       " 'Received: from paploo.uhi.ac.uk (localhost [127.0.0.1])\\n',\n",
       " '\\tby paploo.uhi.ac.uk (Postfix) with ESMTP id 5F919BC2F2;\\n',\n",
       " '\\tSat,  5 Jan 2008 14:10:05 +0000 (GMT)\\n',\n",
       " 'Message-ID: <200801051412.m05ECIaH010327@nakamura.uits.iupui.edu>\\n',\n",
       " 'Mime-Version: 1.0\\n',\n",
       " 'Content-Transfer-Encoding: 7bit\\n',\n",
       " 'Received: from prod.collab.uhi.ac.uk ([194.35.219.182])\\n',\n",
       " '          by paploo.uhi.ac.uk (JAMES SMTP Server 2.1.3) with SMTP ID 899\\n',\n",
       " '          for <source@collab.sakaiproject.org>;\\n',\n",
       " '          Sat, 5 Jan 2008 14:09:50 +0000 (GMT)\\n',\n",
       " 'Received: from nakamura.uits.iupui.edu (nakamura.uits.iupui.edu [134.68.220.122])\\n',\n",
       " '\\tby shmi.uhi.ac.uk (Postfix) with ESMTP id A215243002\\n',\n",
       " '\\tfor <source@collab.sakaiproject.org>; Sat,  5 Jan 2008 14:13:33 +0000 (GMT)\\n',\n",
       " 'Received: from nakamura.uits.iupui.edu (localhost [127.0.0.1])\\n',\n",
       " '\\tby nakamura.uits.iupui.edu (8.12.11.20060308/8.12.11) with ESMTP id m05ECJVp010329\\n',\n",
       " '\\tfor <source@collab.sakaiproject.org>; Sat, 5 Jan 2008 09:12:19 -0500\\n',\n",
       " 'Received: (from apache@localhost)\\n',\n",
       " '\\tby nakamura.uits.iupui.edu (8.12.11.20060308/8.12.11/Submit) id m05ECIaH010327\\n',\n",
       " '\\tfor source@collab.sakaiproject.org; Sat, 5 Jan 2008 09:12:18 -0500\\n',\n",
       " 'Date: Sat, 5 Jan 2008 09:12:18 -0500\\n',\n",
       " 'X-Authentication-Warning: nakamura.uits.iupui.edu: apache set sender to stephen.marquard@uct.ac.za using -f\\n',\n",
       " 'To: source@collab.sakaiproject.org\\n',\n",
       " 'From: stephen.marquard@uct.ac.za\\n',\n",
       " 'Subject: [sakai] svn commit: r39772 - content/branches/sakai_2-5-x/content-impl/impl/src/java/org/sakaiproject/content/impl\\n',\n",
       " 'X-Content-Type-Outer-Envelope: text/plain; charset=UTF-8\\n',\n",
       " 'X-Content-Type-Message-Body: text/plain; charset=UTF-8\\n',\n",
       " 'Content-Type: text/plain; charset=UTF-8\\n',\n",
       " 'X-DSPAM-Result: Innocent\\n',\n",
       " 'X-DSPAM-Processed: Sat Jan  5 09:14:16 2008\\n',\n",
       " 'X-DSPAM-Confidence: 0.8475\\n',\n",
       " 'X-DSPAM-Probability: 0.0000\\n',\n",
       " '\\n',\n",
       " 'Details: http://source.sakaiproject.org/viewsvn/?view=rev&rev=39772\\n',\n",
       " '\\n',\n",
       " 'Author: stephen.marquard@uct.ac.za\\n',\n",
       " 'Date: 2008-01-05 09:12:07 -0500 (Sat, 05 Jan 2008)\\n',\n",
       " 'New Revision: 39772\\n',\n",
       " '\\n',\n",
       " 'Modified:\\n',\n",
       " 'content/branches/sakai_2-5-x/content-impl/impl/src/java/org/sakaiproject/content/impl/ContentServiceSqlOracle.java\\n',\n",
       " 'content/branches/sakai_2-5-x/content-impl/impl/src/java/org/sakaiproject/content/impl/DbContentService.java\\n',\n",
       " 'Log:\\n',\n",
       " 'SAK-12501 merge to 2-5-x: r39622, r39624:5, r39632:3 (resolve conflict from differing linebreaks for r39622)\\n',\n",
       " '\\n',\n",
       " '----------------------\\n',\n",
       " 'This automatic notification message was sent by Sakai Collab (https://collab.sakaiproject.org/portal) from the Source site.\\n',\n",
       " 'You can modify how you receive notifications at My Workspace > Preferences.\\n',\n",
       " '\\n',\n",
       " '\\n',\n",
       " '\\n',\n",
       " 'From louis@media.berkeley.edu Fri Jan  4 18:10:48 2008\\n',\n",
       " 'Return-Path: <postmaster@collab.sakaiproject.org>\\n',\n",
       " 'Received: from murder (mail.umich.edu [141.211.14.97])\\n',\n",
       " '\\t by frankenstein.mail.umich.edu (Cyrus v2.3.8) with LMTPA;\\n',\n",
       " '\\t Fri, 04 Jan 2008 18:10:48 -0500\\n',\n",
       " 'X-Sieve: CMU Sieve 2.3\\n',\n",
       " 'Received: from murder ([unix socket])\\n',\n",
       " '\\t by mail.umich.edu (Cyrus v2.2.12) with LMTPA;\\n',\n",
       " '\\t Fri, 04 Jan 2008 18:10:48 -0500\\n',\n",
       " 'Received: from icestorm.mr.itd.umich.edu (icestorm.mr.itd.umich.edu [141.211.93.149])\\n',\n",
       " '\\tby sleepers.mail.umich.edu () with ESMTP id m04NAbGa029441;\\n',\n",
       " '\\tFri, 4 Jan 2008 18:10:37 -0500\\n',\n",
       " 'Received: FROM paploo.uhi.ac.uk (app1.prod.collab.uhi.ac.uk [194.35.219.184])\\n',\n",
       " '\\tBY icestorm.mr.itd.umich.edu ID 477EBCE3.161BB.4320 ; \\n',\n",
       " '\\t 4 Jan 2008 18:10:31 -0500\\n',\n",
       " 'Received: from paploo.uhi.ac.uk (localhost [127.0.0.1])\\n',\n",
       " '\\tby paploo.uhi.ac.uk (Postfix) with ESMTP id 07969BB706;\\n',\n",
       " '\\tFri,  4 Jan 2008 23:10:33 +0000 (GMT)\\n',\n",
       " 'Message-ID: <200801042308.m04N8v6O008125@nakamura.uits.iupui.edu>\\n',\n",
       " 'Mime-Version: 1.0\\n',\n",
       " 'Content-Transfer-Encoding: 7bit\\n',\n",
       " 'Received: from prod.collab.uhi.ac.uk ([194.35.219.182])\\n',\n",
       " '          by paploo.uhi.ac.uk (JAMES SMTP Server 2.1.3) with SMTP ID 710\\n',\n",
       " '          for <source@collab.sakaiproject.org>;\\n',\n",
       " '          Fri, 4 Jan 2008 23:10:10 +0000 (GMT)\\n',\n",
       " 'Received: from nakamura.uits.iupui.edu (nakamura.uits.iupui.edu [134.68.220.122])\\n',\n",
       " '\\tby shmi.uhi.ac.uk (Postfix) with ESMTP id 4BA2F42F57\\n',\n",
       " '\\tfor <source@collab.sakaiproject.org>; Fri,  4 Jan 2008 23:10:10 +0000 (GMT)\\n',\n",
       " 'Received: from nakamura.uits.iupui.edu (localhost [127.0.0.1])\\n',\n",
       " '\\tby nakamura.uits.iupui.edu (8.12.11.20060308/8.12.11) with ESMTP id m04N8vHG008127\\n',\n",
       " '\\tfor <source@collab.sakaiproject.org>; Fri, 4 Jan 2008 18:08:57 -0500\\n',\n",
       " 'Received: (from apache@localhost)\\n',\n",
       " '\\tby nakamura.uits.iupui.edu (8.12.11.20060308/8.12.11/Submit) id m04N8v6O008125\\n',\n",
       " '\\tfor source@collab.sakaiproject.org; Fri, 4 Jan 2008 18:08:57 -0500\\n',\n",
       " 'Date: Fri, 4 Jan 2008 18:08:57 -0500\\n',\n",
       " 'X-Authentication-Warning: nakamura.uits.iupui.edu: apache set sender to louis@media.berkeley.edu using -f\\n',\n",
       " 'To: source@collab.sakaiproject.org\\n',\n",
       " 'From: louis@media.berkeley.edu\\n',\n",
       " 'Subject: [sakai] svn commit: r39771 - in bspace/site-manage/sakai_2-4-x/site-manage-tool/tool/src: bundle java/org/sakaiproject/site/tool\\n',\n",
       " 'X-Content-Type-Outer-Envelope: text/plain; charset=UTF-8\\n',\n",
       " 'X-Content-Type-Message-Body: text/plain; charset=UTF-8\\n',\n",
       " 'Content-Type: text/plain; charset=UTF-8\\n',\n",
       " 'X-DSPAM-Result: Innocent\\n',\n",
       " 'X-DSPAM-Processed: Fri Jan  4 18:10:48 2008\\n',\n",
       " 'X-DSPAM-Confidence: 0.6178\\n',\n",
       " 'X-DSPAM-Probability: 0.0000\\n',\n",
       " '\\n',\n",
       " 'Details: http://source.sakaiproject.org/viewsvn/?view=rev&rev=39771\\n',\n",
       " '\\n',\n",
       " 'Author: louis@media.berkeley.edu\\n',\n",
       " 'Date: 2008-01-04 18:08:50 -0500 (Fri, 04 Jan 2008)\\n',\n",
       " 'New Revision: 39771\\n',\n",
       " '\\n',\n",
       " 'Modified:\\n',\n",
       " 'bspace/site-manage/sakai_2-4-x/site-manage-tool/tool/src/bundle/sitesetupgeneric.properties\\n',\n",
       " 'bspace/site-manage/sakai_2-4-x/site-manage-tool/tool/src/java/org/sakaiproject/site/tool/SiteAction.java\\n',\n",
       " 'Log:\\n',\n",
       " 'BSP-1415 New (Guest) user Notification\\n',\n",
       " '\\n',\n",
       " '----------------------\\n',\n",
       " 'This automatic notification message was sent by Sakai Collab (https://collab.sakaiproject.org/portal) from the Source site.\\n',\n",
       " 'You can modify how you receive notifications at My Workspace > Preferences.\\n',\n",
       " '\\n',\n",
       " '\\n',\n",
       " '\\n',\n",
       " 'From zqian@umich.edu Fri Jan  4 16:10:39 2008\\n',\n",
       " 'Return-Path: <postmaster@collab.sakaiproject.org>\\n',\n",
       " 'Received: from murder (mail.umich.edu [141.211.14.25])\\n',\n",
       " '\\t by frankenstein.mail.umich.edu (Cyrus v2.3.8) with LMTPA;\\n',\n",
       " '\\t Fri, 04 Jan 2008 16:10:39 -0500\\n',\n",
       " 'X-Sieve: CMU Sieve 2.3\\n',\n",
       " 'Received: from murder ([unix socket])\\n',\n",
       " '\\t by mail.umich.edu (Cyrus v2.2.12) with LMTPA;\\n',\n",
       " '\\t Fri, 04 Jan 2008 16:10:39 -0500\\n',\n",
       " 'Received: from ghostbusters.mr.itd.umich.edu (ghostbusters.mr.itd.umich.edu [141.211.93.144])\\n',\n",
       " '\\tby panther.mail.umich.edu () with ESMTP id m04LAcZw014275;\\n',\n",
       " '\\tFri, 4 Jan 2008 16:10:38 -0500\\n',\n",
       " 'Received: FROM paploo.uhi.ac.uk (app1.prod.collab.uhi.ac.uk [194.35.219.184])\\n',\n",
       " '\\tBY ghostbusters.mr.itd.umich.edu ID 477EA0C6.A0214.25480 ; \\n',\n",
       " '\\t 4 Jan 2008 16:10:33 -0500\\n',\n",
       " 'Received: from paploo.uhi.ac.uk (localhost [127.0.0.1])\\n',\n",
       " '\\tby paploo.uhi.ac.uk (Postfix) with ESMTP id C48CDBB490;\\n',\n",
       " '\\tFri,  4 Jan 2008 21:10:31 +0000 (GMT)\\n',\n",
       " 'Message-ID: <200801042109.m04L92hb007923@nakamura.uits.iupui.edu>\\n',\n",
       " 'Mime-Version: 1.0\\n',\n",
       " 'Content-Transfer-Encoding: 7bit\\n',\n",
       " 'Received: from prod.collab.uhi.ac.uk ([194.35.219.182])\\n',\n",
       " '          by paploo.uhi.ac.uk (JAMES SMTP Server 2.1.3) with SMTP ID 906\\n',\n",
       " '          for <source@collab.sakaiproject.org>;\\n',\n",
       " '          Fri, 4 Jan 2008 21:10:18 +0000 (GMT)\\n',\n",
       " 'Received: from nakamura.uits.iupui.edu (nakamura.uits.iupui.edu [134.68.220.122])\\n',\n",
       " '\\tby shmi.uhi.ac.uk (Postfix) with ESMTP id 7D13042F71\\n',\n",
       " '\\tfor <source@collab.sakaiproject.org>; Fri,  4 Jan 2008 21:10:14 +0000 (GMT)\\n',\n",
       " 'Received: from nakamura.uits.iupui.edu (localhost [127.0.0.1])\\n',\n",
       " '\\tby nakamura.uits.iupui.edu (8.12.11.20060308/8.12.11) with ESMTP id m04L927E007925\\n',\n",
       " '\\tfor <source@collab.sakaiproject.org>; Fri, 4 Jan 2008 16:09:02 -0500\\n',\n",
       " 'Received: (from apache@localhost)\\n',\n",
       " '\\tby nakamura.uits.iupui.edu (8.12.11.20060308/8.12.11/Submit) id m04L92hb007923\\n',\n",
       " '\\tfor source@collab.sakaiproject.org; Fri, 4 Jan 2008 16:09:02 -0500\\n',\n",
       " 'Date: Fri, 4 Jan 2008 16:09:02 -0500\\n',\n",
       " 'X-Authentication-Warning: nakamura.uits.iupui.edu: apache set sender to zqian@umich.edu using -f\\n',\n",
       " 'To: source@collab.sakaiproject.org\\n',\n",
       " 'From: zqian@umich.edu\\n',\n",
       " 'Subject: [sakai] svn commit: r39770 - site-manage/branches/sakai_2-5-x/site-manage-tool/tool/src/webapp/vm/sitesetup\\n',\n",
       " 'X-Content-Type-Outer-Envelope: text/plain; charset=UTF-8\\n',\n",
       " 'X-Content-Type-Message-Body: text/plain; charset=UTF-8\\n',\n",
       " 'Content-Type: text/plain; charset=UTF-8\\n',\n",
       " 'X-DSPAM-Result: Innocent\\n',\n",
       " 'X-DSPAM-Processed: Fri Jan  4 16:10:39 2008\\n',\n",
       " 'X-DSPAM-Confidence: 0.6961\\n',\n",
       " 'X-DSPAM-Probability: 0.0000\\n',\n",
       " '\\n',\n",
       " 'Details: http://source.sakaiproject.org/viewsvn/?view=rev&rev=39770\\n',\n",
       " '\\n',\n",
       " 'Author: zqian@umich.edu\\n',\n",
       " 'Date: 2008-01-04 16:09:01 -0500 (Fri, 04 Jan 2008)\\n',\n",
       " 'New Revision: 39770\\n',\n",
       " '\\n',\n",
       " 'Modified:\\n',\n",
       " 'site-manage/branches/sakai_2-5-x/site-manage-tool/tool/src/webapp/vm/sitesetup/chef_site-siteInfo-list.vm\\n',\n",
       " 'Log:\\n',\n",
       " 'merge fix to SAK-9996 into 2-5-x branch: svn merge -r 39687:39688 https://source.sakaiproject.org/svn/site-manage/trunk/\\n',\n",
       " '\\n',\n",
       " '----------------------\\n',\n",
       " 'This automatic notification message was sent by Sakai Collab (https://collab.sakaiproject.org/portal) from the Source site.\\n',\n",
       " 'You can modify how you receive notifications at My Workspace > Preferences.\\n',\n",
       " '\\n',\n",
       " '\\n',\n",
       " '\\n',\n",
       " 'From rjlowe@iupui.edu Fri Jan  4 15:46:24 2008\\n',\n",
       " 'Return-Path: <postmaster@collab.sakaiproject.org>\\n',\n",
       " 'Received: from murder (mail.umich.edu [141.211.14.25])\\n',\n",
       " '\\t by frankenstein.mail.umich.edu (Cyrus v2.3.8) with LMTPA;\\n',\n",
       " '\\t Fri, 04 Jan 2008 15:46:24 -0500\\n',\n",
       " 'X-Sieve: CMU Sieve 2.3\\n',\n",
       " 'Received: from murder ([unix socket])\\n',\n",
       " '\\t by mail.umich.edu (Cyrus v2.2.12) with LMTPA;\\n',\n",
       " '\\t Fri, 04 Jan 2008 15:46:24 -0500\\n',\n",
       " 'Received: from dreamcatcher.mr.itd.umich.edu (dreamcatcher.mr.itd.umich.edu [141.211.14.43])\\n',\n",
       " '\\tby panther.mail.umich.edu () with ESMTP id m04KkNbx032077;\\n',\n",
       " '\\tFri, 4 Jan 2008 15:46:23 -0500\\n',\n",
       " 'Received: FROM paploo.uhi.ac.uk (app1.prod.collab.uhi.ac.uk [194.35.219.184])\\n',\n",
       " '\\tBY dreamcatcher.mr.itd.umich.edu ID 477E9B13.2F3BC.22965 ; \\n',\n",
       " '\\t 4 Jan 2008 15:46:13 -0500\\n',\n",
       " 'Received: from paploo.uhi.ac.uk (localhost [127.0.0.1])\\n',\n",
       " '\\tby paploo.uhi.ac.uk (Postfix) with ESMTP id 4AE03BB552;\\n',\n",
       " '\\tFri,  4 Jan 2008 20:46:13 +0000 (GMT)\\n',\n",
       " 'Message-ID: <200801042044.m04Kiem3007881@nakamura.uits.iupui.edu>\\n',\n",
       " 'Mime-Version: 1.0\\n',\n",
       " 'Content-Transfer-Encoding: 7bit\\n',\n",
       " 'Received: from prod.collab.uhi.ac.uk ([194.35.219.182])\\n',\n",
       " '          by paploo.uhi.ac.uk (JAMES SMTP Server 2.1.3) with SMTP ID 38\\n',\n",
       " '          for <source@collab.sakaiproject.org>;\\n',\n",
       " '          Fri, 4 Jan 2008 20:45:56 +0000 (GMT)\\n',\n",
       " 'Received: from nakamura.uits.iupui.edu (nakamura.uits.iupui.edu [134.68.220.122])\\n',\n",
       " '\\tby shmi.uhi.ac.uk (Postfix) with ESMTP id A55D242F57\\n',\n",
       " '\\tfor <source@collab.sakaiproject.org>; Fri,  4 Jan 2008 20:45:52 +0000 (GMT)\\n',\n",
       " 'Received: from nakamura.uits.iupui.edu (localhost [127.0.0.1])\\n',\n",
       " '\\tby nakamura.uits.iupui.edu (8.12.11.20060308/8.12.11) with ESMTP id m04KieqE007883\\n',\n",
       " '\\tfor <source@collab.sakaiproject.org>; Fri, 4 Jan 2008 15:44:40 -0500\\n',\n",
       " 'Received: (from apache@localhost)\\n',\n",
       " '\\tby nakamura.uits.iupui.edu (8.12.11.20060308/8.12.11/Submit) id m04Kiem3007881\\n',\n",
       " '\\tfor source@collab.sakaiproject.org; Fri, 4 Jan 2008 15:44:40 -0500\\n',\n",
       " 'Date: Fri, 4 Jan 2008 15:44:40 -0500\\n',\n",
       " 'X-Authentication-Warning: nakamura.uits.iupui.edu: apache set sender to rjlowe@iupui.edu using -f\\n',\n",
       " 'To: source@collab.sakaiproject.org\\n',\n",
       " 'From: rjlowe@iupui.edu\\n',\n",
       " 'Subject: [sakai] svn commit: r39769 - in gradebook/trunk/app/ui/src: java/org/sakaiproject/tool/gradebook/ui/helpers/beans java/org/sakaiproject/tool/gradebook/ui/helpers/producers webapp/WEB-INF webapp/WEB-INF/bundle\\n',\n",
       " 'X-Content-Type-Outer-Envelope: text/plain; charset=UTF-8\\n',\n",
       " 'X-Content-Type-Message-Body: text/plain; charset=UTF-8\\n',\n",
       " 'Content-Type: text/plain; charset=UTF-8\\n',\n",
       " 'X-DSPAM-Result: Innocent\\n',\n",
       " 'X-DSPAM-Processed: Fri Jan  4 15:46:24 2008\\n',\n",
       " 'X-DSPAM-Confidence: 0.7565\\n',\n",
       " 'X-DSPAM-Probability: 0.0000\\n',\n",
       " '\\n',\n",
       " 'Details: http://source.sakaiproject.org/viewsvn/?view=rev&rev=39769\\n',\n",
       " '\\n',\n",
       " 'Author: rjlowe@iupui.edu\\n',\n",
       " 'Date: 2008-01-04 15:44:39 -0500 (Fri, 04 Jan 2008)\\n',\n",
       " 'New Revision: 39769\\n',\n",
       " '\\n',\n",
       " 'Modified:\\n',\n",
       " 'gradebook/trunk/app/ui/src/java/org/sakaiproject/tool/gradebook/ui/helpers/beans/AssignmentGradeRecordBean.java\\n',\n",
       " 'gradebook/trunk/app/ui/src/java/org/sakaiproject/tool/gradebook/ui/helpers/producers/GradeGradebookItemProducer.java\\n',\n",
       " 'gradebook/trunk/app/ui/src/webapp/WEB-INF/applicationContext.xml\\n',\n",
       " 'gradebook/trunk/app/ui/src/webapp/WEB-INF/bundle/messages.properties\\n',\n",
       " 'gradebook/trunk/app/ui/src/webapp/WEB-INF/requestContext.xml\\n',\n",
       " 'Log:\\n',\n",
       " 'SAK-12180 - Fixed errors with grading helper\\n',\n",
       " '\\n',\n",
       " '----------------------\\n',\n",
       " 'This automatic notification message was sent by Sakai Collab (https://collab.sakaiproject.org/portal) from the Source site.\\n',\n",
       " 'You can modify how you receive notifications at My Workspace > Preferences.\\n',\n",
       " '\\n',\n",
       " '\\n',\n",
       " '\\n',\n",
       " 'From zqian@umich.edu Fri Jan  4 15:03:18 2008\\n',\n",
       " 'Return-Path: <postmaster@collab.sakaiproject.org>\\n',\n",
       " 'Received: from murder (mail.umich.edu [141.211.14.46])\\n',\n",
       " '\\t by frankenstein.mail.umich.edu (Cyrus v2.3.8) with LMTPA;\\n',\n",
       " '\\t Fri, 04 Jan 2008 15:03:18 -0500\\n',\n",
       " 'X-Sieve: CMU Sieve 2.3\\n',\n",
       " 'Received: from murder ([unix socket])\\n',\n",
       " '\\t by mail.umich.edu (Cyrus v2.2.12) with LMTPA;\\n',\n",
       " '\\t Fri, 04 Jan 2008 15:03:18 -0500\\n',\n",
       " 'Received: from firestarter.mr.itd.umich.edu (firestarter.mr.itd.umich.edu [141.211.14.83])\\n',\n",
       " '\\tby fan.mail.umich.edu () with ESMTP id m04K3HGF006563;\\n',\n",
       " '\\tFri, 4 Jan 2008 15:03:17 -0500\\n',\n",
       " 'Received: FROM paploo.uhi.ac.uk (app1.prod.collab.uhi.ac.uk [194.35.219.184])\\n',\n",
       " '\\tBY firestarter.mr.itd.umich.edu ID 477E9100.8F7F4.1590 ; \\n',\n",
       " '\\t 4 Jan 2008 15:03:15 -0500\\n',\n",
       " 'Received: from paploo.uhi.ac.uk (localhost [127.0.0.1])\\n',\n",
       " '\\tby paploo.uhi.ac.uk (Postfix) with ESMTP id 57770BB477;\\n',\n",
       " '\\tFri,  4 Jan 2008 20:03:09 +0000 (GMT)\\n',\n",
       " 'Message-ID: <200801042001.m04K1cO0007738@nakamura.uits.iupui.edu>\\n',\n",
       " 'Mime-Version: 1.0\\n',\n",
       " 'Content-Transfer-Encoding: 7bit\\n',\n",
       " 'Received: from prod.collab.uhi.ac.uk ([194.35.219.182])\\n',\n",
       " '          by paploo.uhi.ac.uk (JAMES SMTP Server 2.1.3) with SMTP ID 622\\n',\n",
       " '          for <source@collab.sakaiproject.org>;\\n',\n",
       " '          Fri, 4 Jan 2008 20:02:46 +0000 (GMT)\\n',\n",
       " 'Received: from nakamura.uits.iupui.edu (nakamura.uits.iupui.edu [134.68.220.122])\\n',\n",
       " '\\tby shmi.uhi.ac.uk (Postfix) with ESMTP id AB4D042F4D\\n',\n",
       " '\\tfor <source@collab.sakaiproject.org>; Fri,  4 Jan 2008 20:02:50 +0000 (GMT)\\n',\n",
       " 'Received: from nakamura.uits.iupui.edu (localhost [127.0.0.1])\\n',\n",
       " '\\tby nakamura.uits.iupui.edu (8.12.11.20060308/8.12.11) with ESMTP id m04K1cXv007740\\n',\n",
       " '\\tfor <source@collab.sakaiproject.org>; Fri, 4 Jan 2008 15:01:38 -0500\\n',\n",
       " 'Received: (from apache@localhost)\\n',\n",
       " '\\tby nakamura.uits.iupui.edu (8.12.11.20060308/8.12.11/Submit) id m04K1cO0007738\\n',\n",
       " '\\tfor source@collab.sakaiproject.org; Fri, 4 Jan 2008 15:01:38 -0500\\n',\n",
       " 'Date: Fri, 4 Jan 2008 15:01:38 -0500\\n',\n",
       " 'X-Authentication-Warning: nakamura.uits.iupui.edu: apache set sender to zqian@umich.edu using -f\\n',\n",
       " 'To: source@collab.sakaiproject.org\\n',\n",
       " 'From: zqian@umich.edu\\n',\n",
       " 'Subject: [sakai] svn commit: r39766 - site-manage/branches/sakai_2-4-x/site-manage-tool/tool/src/java/org/sakaiproject/site/tool\\n',\n",
       " 'X-Content-Type-Outer-Envelope: text/plain; charset=UTF-8\\n',\n",
       " 'X-Content-Type-Message-Body: text/plain; charset=UTF-8\\n',\n",
       " 'Content-Type: text/plain; charset=UTF-8\\n',\n",
       " 'X-DSPAM-Result: Innocent\\n',\n",
       " 'X-DSPAM-Processed: Fri Jan  4 15:03:18 2008\\n',\n",
       " 'X-DSPAM-Confidence: 0.7626\\n',\n",
       " 'X-DSPAM-Probability: 0.0000\\n',\n",
       " '\\n',\n",
       " 'Details: http://source.sakaiproject.org/viewsvn/?view=rev&rev=39766\\n',\n",
       " '\\n',\n",
       " 'Author: zqian@umich.edu\\n',\n",
       " 'Date: 2008-01-04 15:01:37 -0500 (Fri, 04 Jan 2008)\\n',\n",
       " 'New Revision: 39766\\n',\n",
       " '\\n',\n",
       " 'Modified:\\n',\n",
       " 'site-manage/branches/sakai_2-4-x/site-manage-tool/tool/src/java/org/sakaiproject/site/tool/SiteAction.java\\n',\n",
       " 'Log:\\n',\n",
       " 'merge fix to SAK-10788 into site-manage 2.4.x branch:\\n',\n",
       " '\\n',\n",
       " \"Sakai Source Repository  \\t#38024  \\tWed Nov 07 14:54:46 MST 2007  \\tzqian@umich.edu  \\t Fix to SAK-10788: If a provided id in a couse site is fake or doesn't provide any user information, Site Info appears to be like project site with empty participant list\\n\",\n",
       " '\\n',\n",
       " 'Watch for enrollments object being null and concatenate provider ids when there are more than one.\\n',\n",
       " 'Files Changed\\n',\n",
       " 'MODIFY /site-manage/trunk/site-manage-tool/tool/src/java/org/sakaiproject/site/tool/SiteAction.java \\n',\n",
       " '\\n',\n",
       " '\\n',\n",
       " '\\n',\n",
       " '\\n',\n",
       " '----------------------\\n',\n",
       " 'This automatic notification message was sent by Sakai Collab (https://collab.sakaiproject.org/portal) from the Source site.\\n',\n",
       " 'You can modify how you receive notifications at My Workspace > Preferences.\\n',\n",
       " '\\n',\n",
       " '\\n',\n",
       " '\\n',\n",
       " 'From rjlowe@iupui.edu Fri Jan  4 14:50:18 2008\\n',\n",
       " 'Return-Path: <postmaster@collab.sakaiproject.org>\\n',\n",
       " 'Received: from murder (mail.umich.edu [141.211.14.93])\\n',\n",
       " '\\t by frankenstein.mail.umich.edu (Cyrus v2.3.8) with LMTPA;\\n',\n",
       " '\\t Fri, 04 Jan 2008 14:50:18 -0500\\n',\n",
       " 'X-Sieve: CMU Sieve 2.3\\n',\n",
       " 'Received: from murder ([unix socket])\\n',\n",
       " '\\t by mail.umich.edu (Cyrus v2.2.12) with LMTPA;\\n',\n",
       " '\\t Fri, 04 Jan 2008 14:50:18 -0500\\n',\n",
       " 'Received: from eyewitness.mr.itd.umich.edu (eyewitness.mr.itd.umich.edu [141.211.93.142])\\n',\n",
       " '\\tby mission.mail.umich.edu () with ESMTP id m04JoHJi019755;\\n',\n",
       " '\\tFri, 4 Jan 2008 14:50:17 -0500\\n',\n",
       " 'Received: FROM paploo.uhi.ac.uk (app1.prod.collab.uhi.ac.uk [194.35.219.184])\\n',\n",
       " '\\tBY eyewitness.mr.itd.umich.edu ID 477E8DF2.67B91.5278 ; \\n',\n",
       " '\\t 4 Jan 2008 14:50:13 -0500\\n',\n",
       " 'Received: from paploo.uhi.ac.uk (localhost [127.0.0.1])\\n',\n",
       " '\\tby paploo.uhi.ac.uk (Postfix) with ESMTP id 2D1B9BB492;\\n',\n",
       " '\\tFri,  4 Jan 2008 19:47:10 +0000 (GMT)\\n',\n",
       " 'Message-ID: <200801041948.m04JmdwO007705@nakamura.uits.iupui.edu>\\n',\n",
       " 'Mime-Version: 1.0\\n',\n",
       " 'Content-Transfer-Encoding: 7bit\\n',\n",
       " 'Received: from prod.collab.uhi.ac.uk ([194.35.219.182])\\n',\n",
       " '          by paploo.uhi.ac.uk (JAMES SMTP Server 2.1.3) with SMTP ID 960\\n',\n",
       " '          for <source@collab.sakaiproject.org>;\\n',\n",
       " '          Fri, 4 Jan 2008 19:46:50 +0000 (GMT)\\n',\n",
       " 'Received: from nakamura.uits.iupui.edu (nakamura.uits.iupui.edu [134.68.220.122])\\n',\n",
       " '\\tby shmi.uhi.ac.uk (Postfix) with ESMTP id B3E6742F4A\\n',\n",
       " '\\tfor <source@collab.sakaiproject.org>; Fri,  4 Jan 2008 19:49:51 +0000 (GMT)\\n',\n",
       " 'Received: from nakamura.uits.iupui.edu (localhost [127.0.0.1])\\n',\n",
       " '\\tby nakamura.uits.iupui.edu (8.12.11.20060308/8.12.11) with ESMTP id m04JmeV9007707\\n',\n",
       " '\\tfor <source@collab.sakaiproject.org>; Fri, 4 Jan 2008 14:48:40 -0500\\n',\n",
       " 'Received: (from apache@localhost)\\n',\n",
       " '\\tby nakamura.uits.iupui.edu (8.12.11.20060308/8.12.11/Submit) id m04JmdwO007705\\n',\n",
       " '\\tfor source@collab.sakaiproject.org; Fri, 4 Jan 2008 14:48:39 -0500\\n',\n",
       " 'Date: Fri, 4 Jan 2008 14:48:39 -0500\\n',\n",
       " 'X-Authentication-Warning: nakamura.uits.iupui.edu: apache set sender to rjlowe@iupui.edu using -f\\n',\n",
       " 'To: source@collab.sakaiproject.org\\n',\n",
       " 'From: rjlowe@iupui.edu\\n',\n",
       " 'Subject: [sakai] svn commit: r39765 - in gradebook/trunk/app: business/src/java/org/sakaiproject/tool/gradebook/business business/src/java/org/sakaiproject/tool/gradebook/business/impl ui ui/src/java/org/sakaiproject/tool/gradebook/ui/helpers/beans ui/src/java/org/sakaiproject/tool/gradebook/ui/helpers/entity ui/src/java/org/sakaiproject/tool/gradebook/ui/helpers/params ui/src/java/org/sakaiproject/tool/gradebook/ui/helpers/producers ui/src/webapp/WEB-INF ui/src/webapp/WEB-INF/bundle ui/src/webapp/content/templates\\n',\n",
       " 'X-Content-Type-Outer-Envelope: text/plain; charset=UTF-8\\n',\n",
       " 'X-Content-Type-Message-Body: text/plain; charset=UTF-8\\n',\n",
       " 'Content-Type: text/plain; charset=UTF-8\\n',\n",
       " 'X-DSPAM-Result: Innocent\\n',\n",
       " 'X-DSPAM-Processed: Fri Jan  4 14:50:18 2008\\n',\n",
       " 'X-DSPAM-Confidence: 0.7556\\n',\n",
       " 'X-DSPAM-Probability: 0.0000\\n',\n",
       " '\\n',\n",
       " 'Details: http://source.sakaiproject.org/viewsvn/?view=rev&rev=39765\\n',\n",
       " '\\n',\n",
       " 'Author: rjlowe@iupui.edu\\n',\n",
       " 'Date: 2008-01-04 14:48:37 -0500 (Fri, 04 Jan 2008)\\n',\n",
       " 'New Revision: 39765\\n',\n",
       " '\\n',\n",
       " 'Added:\\n',\n",
       " 'gradebook/trunk/app/ui/src/java/org/sakaiproject/tool/gradebook/ui/helpers/beans/AssignmentGradeRecordBean.java\\n',\n",
       " 'gradebook/trunk/app/ui/src/java/org/sakaiproject/tool/gradebook/ui/helpers/beans/AssignmentGradeRecordCreator.java\\n',\n",
       " 'gradebook/trunk/app/ui/src/java/org/sakaiproject/tool/gradebook/ui/helpers/entity/GradebookEntryGradeEntityProvider.java\\n',\n",
       " 'gradebook/trunk/app/ui/src/java/org/sakaiproject/tool/gradebook/ui/helpers/params/GradeGradebookItemViewParams.java\\n',\n",
       " 'gradebook/trunk/app/ui/src/java/org/sakaiproject/tool/gradebook/ui/helpers/producers/GradeGradebookItemProducer.java\\n',\n",
       " 'gradebook/trunk/app/ui/src/webapp/content/templates/grade-gradebook-item.html\\n',\n",
       " 'Modified:\\n',\n",
       " 'gradebook/trunk/app/business/src/java/org/sakaiproject/tool/gradebook/business/GradebookManager.java\\n',\n",
       " 'gradebook/trunk/app/business/src/java/org/sakaiproject/tool/gradebook/business/impl/GradebookManagerHibernateImpl.java\\n',\n",
       " 'gradebook/trunk/app/ui/pom.xml\\n',\n",
       " 'gradebook/trunk/app/ui/src/java/org/sakaiproject/tool/gradebook/ui/helpers/beans/GradebookItemBean.java\\n',\n",
       " 'gradebook/trunk/app/ui/src/java/org/sakaiproject/tool/gradebook/ui/helpers/entity/GradebookEntryEntityProvider.java\\n',\n",
       " 'gradebook/trunk/app/ui/src/java/org/sakaiproject/tool/gradebook/ui/helpers/producers/AddGradebookItemProducer.java\\n',\n",
       " 'gradebook/trunk/app/ui/src/webapp/WEB-INF/applicationContext.xml\\n',\n",
       " 'gradebook/trunk/app/ui/src/webapp/WEB-INF/bundle/messages.properties\\n',\n",
       " 'gradebook/trunk/app/ui/src/webapp/WEB-INF/requestContext.xml\\n',\n",
       " 'Log:\\n',\n",
       " 'SAK-12180 - New helper tool to grade an assignment\\n',\n",
       " '\\n',\n",
       " '----------------------\\n',\n",
       " 'This automatic notification message was sent by Sakai Collab (https://collab.sakaiproject.org/portal) from the Source site.\\n',\n",
       " 'You can modify how you receive notifications at My Workspace > Preferences.\\n',\n",
       " '\\n',\n",
       " '\\n',\n",
       " '\\n',\n",
       " 'From cwen@iupui.edu Fri Jan  4 11:37:30 2008\\n',\n",
       " 'Return-Path: <postmaster@collab.sakaiproject.org>\\n',\n",
       " 'Received: from murder (mail.umich.edu [141.211.14.46])\\n',\n",
       " '\\t by frankenstein.mail.umich.edu (Cyrus v2.3.8) with LMTPA;\\n',\n",
       " '\\t Fri, 04 Jan 2008 11:37:30 -0500\\n',\n",
       " 'X-Sieve: CMU Sieve 2.3\\n',\n",
       " 'Received: from murder ([unix socket])\\n',\n",
       " '\\t by mail.umich.edu (Cyrus v2.2.12) with LMTPA;\\n',\n",
       " '\\t Fri, 04 Jan 2008 11:37:30 -0500\\n',\n",
       " 'Received: from tadpole.mr.itd.umich.edu (tadpole.mr.itd.umich.edu [141.211.14.72])\\n',\n",
       " '\\tby fan.mail.umich.edu () with ESMTP id m04GbT9x022078;\\n',\n",
       " '\\tFri, 4 Jan 2008 11:37:29 -0500\\n',\n",
       " 'Received: FROM paploo.uhi.ac.uk (app1.prod.collab.uhi.ac.uk [194.35.219.184])\\n',\n",
       " '\\tBY tadpole.mr.itd.umich.edu ID 477E60B2.82756.9904 ; \\n',\n",
       " '\\t 4 Jan 2008 11:37:09 -0500\\n',\n",
       " 'Received: from paploo.uhi.ac.uk (localhost [127.0.0.1])\\n',\n",
       " '\\tby paploo.uhi.ac.uk (Postfix) with ESMTP id 8D13DBB001;\\n',\n",
       " '\\tFri,  4 Jan 2008 16:37:07 +0000 (GMT)\\n',\n",
       " 'Message-ID: <200801041635.m04GZQGZ007313@nakamura.uits.iupui.edu>\\n',\n",
       " 'Mime-Version: 1.0\\n',\n",
       " 'Content-Transfer-Encoding: 7bit\\n',\n",
       " 'Received: from prod.collab.uhi.ac.uk ([194.35.219.182])\\n',\n",
       " '          by paploo.uhi.ac.uk (JAMES SMTP Server 2.1.3) with SMTP ID 120\\n',\n",
       " '          for <source@collab.sakaiproject.org>;\\n',\n",
       " '          Fri, 4 Jan 2008 16:36:40 +0000 (GMT)\\n',\n",
       " 'Received: from nakamura.uits.iupui.edu (nakamura.uits.iupui.edu [134.68.220.122])\\n',\n",
       " '\\tby shmi.uhi.ac.uk (Postfix) with ESMTP id D430B42E42\\n',\n",
       " '\\tfor <source@collab.sakaiproject.org>; Fri,  4 Jan 2008 16:36:37 +0000 (GMT)\\n',\n",
       " 'Received: from nakamura.uits.iupui.edu (localhost [127.0.0.1])\\n',\n",
       " '\\tby nakamura.uits.iupui.edu (8.12.11.20060308/8.12.11) with ESMTP id m04GZQ7W007315\\n',\n",
       " '\\tfor <source@collab.sakaiproject.org>; Fri, 4 Jan 2008 11:35:26 -0500\\n',\n",
       " 'Received: (from apache@localhost)\\n',\n",
       " '\\tby nakamura.uits.iupui.edu (8.12.11.20060308/8.12.11/Submit) id m04GZQGZ007313\\n',\n",
       " '\\tfor source@collab.sakaiproject.org; Fri, 4 Jan 2008 11:35:26 -0500\\n',\n",
       " 'Date: Fri, 4 Jan 2008 11:35:26 -0500\\n',\n",
       " 'X-Authentication-Warning: nakamura.uits.iupui.edu: apache set sender to cwen@iupui.edu using -f\\n',\n",
       " 'To: source@collab.sakaiproject.org\\n',\n",
       " 'From: cwen@iupui.edu\\n',\n",
       " 'Subject: [sakai] svn commit: r39764 - in msgcntr/trunk/messageforums-app/src/java/org/sakaiproject/tool/messageforums: . ui\\n',\n",
       " 'X-Content-Type-Outer-Envelope: text/plain; charset=UTF-8\\n',\n",
       " 'X-Content-Type-Message-Body: text/plain; charset=UTF-8\\n',\n",
       " 'Content-Type: text/plain; charset=UTF-8\\n',\n",
       " 'X-DSPAM-Result: Innocent\\n',\n",
       " 'X-DSPAM-Processed: Fri Jan  4 11:37:30 2008\\n',\n",
       " 'X-DSPAM-Confidence: 0.7002\\n',\n",
       " 'X-DSPAM-Probability: 0.0000\\n',\n",
       " '\\n',\n",
       " 'Details: http://source.sakaiproject.org/viewsvn/?view=rev&rev=39764\\n',\n",
       " '\\n',\n",
       " 'Author: cwen@iupui.edu\\n',\n",
       " 'Date: 2008-01-04 11:35:25 -0500 (Fri, 04 Jan 2008)\\n',\n",
       " 'New Revision: 39764\\n',\n",
       " '\\n',\n",
       " 'Modified:\\n',\n",
       " 'msgcntr/trunk/messageforums-app/src/java/org/sakaiproject/tool/messageforums/PrivateMessagesTool.java\\n',\n",
       " 'msgcntr/trunk/messageforums-app/src/java/org/sakaiproject/tool/messageforums/ui/PrivateMessageDecoratedBean.java\\n',\n",
       " 'Log:\\n',\n",
       " \"unmerge Xingtang's checkin for SAK-12488.\\n\",\n",
       " '\\n',\n",
       " 'svn merge -r39558:39557 https://source.sakaiproject.org/svn/msgcntr/trunk\\n',\n",
       " 'U    messageforums-app/src/java/org/sakaiproject/tool/messageforums/PrivateMessagesTool.java\\n',\n",
       " 'U    messageforums-app/src/java/org/sakaiproject/tool/messageforums/ui/PrivateMessageDecoratedBean.java\\n',\n",
       " '\\n',\n",
       " 'svn log -r 39558\\n',\n",
       " '------------------------------------------------------------------------\\n',\n",
       " 'r39558 | hu2@iupui.edu | 2007-12-20 15:25:38 -0500 (Thu, 20 Dec 2007) | 3 lines\\n',\n",
       " '\\n',\n",
       " 'SAK-12488\\n',\n",
       " 'when send a message to yourself. click reply to all, cc row should be null.\\n',\n",
       " 'http://jira.sakaiproject.org/jira/browse/SAK-12488\\n',\n",
       " '------------------------------------------------------------------------\\n',\n",
       " '\\n',\n",
       " '\\n',\n",
       " '----------------------\\n',\n",
       " 'This automatic notification message was sent by Sakai Collab (https://collab.sakaiproject.org/portal) from the Source site.\\n',\n",
       " 'You can modify how you receive notifications at My Workspace > Preferences.\\n',\n",
       " '\\n',\n",
       " '\\n',\n",
       " '\\n',\n",
       " 'From cwen@iupui.edu Fri Jan  4 11:35:08 2008\\n',\n",
       " 'Return-Path: <postmaster@collab.sakaiproject.org>\\n',\n",
       " 'Received: from murder (mail.umich.edu [141.211.14.46])\\n',\n",
       " '\\t by frankenstein.mail.umich.edu (Cyrus v2.3.8) with LMTPA;\\n',\n",
       " '\\t Fri, 04 Jan 2008 11:35:08 -0500\\n',\n",
       " 'X-Sieve: CMU Sieve 2.3\\n',\n",
       " 'Received: from murder ([unix socket])\\n',\n",
       " '\\t by mail.umich.edu (Cyrus v2.2.12) with LMTPA;\\n',\n",
       " '\\t Fri, 04 Jan 2008 11:35:08 -0500\\n',\n",
       " 'Received: from it.mr.itd.umich.edu (it.mr.itd.umich.edu [141.211.93.151])\\n',\n",
       " '\\tby fan.mail.umich.edu () with ESMTP id m04GZ6lt020480;\\n',\n",
       " '\\tFri, 4 Jan 2008 11:35:06 -0500\\n',\n",
       " 'Received: FROM paploo.uhi.ac.uk (app1.prod.collab.uhi.ac.uk [194.35.219.184])\\n',\n",
       " '\\tBY it.mr.itd.umich.edu ID 477E6033.6469D.21870 ; \\n',\n",
       " '\\t 4 Jan 2008 11:35:02 -0500\\n',\n",
       " 'Received: from paploo.uhi.ac.uk (localhost [127.0.0.1])\\n',\n",
       " '\\tby paploo.uhi.ac.uk (Postfix) with ESMTP id E40FABAE5B;\\n',\n",
       " '\\tFri,  4 Jan 2008 16:34:38 +0000 (GMT)\\n',\n",
       " 'Message-ID: <200801041633.m04GX6eG007292@nakamura.uits.iupui.edu>\\n',\n",
       " 'Mime-Version: 1.0\\n',\n",
       " 'Content-Transfer-Encoding: 7bit\\n',\n",
       " 'Received: from prod.collab.uhi.ac.uk ([194.35.219.182])\\n',\n",
       " '          by paploo.uhi.ac.uk (JAMES SMTP Server 2.1.3) with SMTP ID 697\\n',\n",
       " '          for <source@collab.sakaiproject.org>;\\n',\n",
       " '          Fri, 4 Jan 2008 16:34:01 +0000 (GMT)\\n',\n",
       " 'Received: from nakamura.uits.iupui.edu (nakamura.uits.iupui.edu [134.68.220.122])\\n',\n",
       " '\\tby shmi.uhi.ac.uk (Postfix) with ESMTP id 1CD0C42E42\\n',\n",
       " '\\tfor <source@collab.sakaiproject.org>; Fri,  4 Jan 2008 16:34:17 +0000 (GMT)\\n',\n",
       " 'Received: from nakamura.uits.iupui.edu (localhost [127.0.0.1])\\n',\n",
       " '\\tby nakamura.uits.iupui.edu (8.12.11.20060308/8.12.11) with ESMTP id m04GX6Y3007294\\n',\n",
       " '\\tfor <source@collab.sakaiproject.org>; Fri, 4 Jan 2008 11:33:06 -0500\\n',\n",
       " 'Received: (from apache@localhost)\\n',\n",
       " '\\tby nakamura.uits.iupui.edu (8.12.11.20060308/8.12.11/Submit) id m04GX6eG007292\\n',\n",
       " '\\tfor source@collab.sakaiproject.org; Fri, 4 Jan 2008 11:33:06 -0500\\n',\n",
       " 'Date: Fri, 4 Jan 2008 11:33:06 -0500\\n',\n",
       " 'X-Authentication-Warning: nakamura.uits.iupui.edu: apache set sender to cwen@iupui.edu using -f\\n',\n",
       " 'To: source@collab.sakaiproject.org\\n',\n",
       " 'From: cwen@iupui.edu\\n',\n",
       " 'Subject: [sakai] svn commit: r39763 - in msgcntr/trunk: messageforums-api/src/bundle/org/sakaiproject/api/app/messagecenter/bundle messageforums-app/src/java/org/sakaiproject/tool/messageforums\\n',\n",
       " 'X-Content-Type-Outer-Envelope: text/plain; charset=UTF-8\\n',\n",
       " 'X-Content-Type-Message-Body: text/plain; charset=UTF-8\\n',\n",
       " 'Content-Type: text/plain; charset=UTF-8\\n',\n",
       " 'X-DSPAM-Result: Innocent\\n',\n",
       " 'X-DSPAM-Processed: Fri Jan  4 11:35:08 2008\\n',\n",
       " 'X-DSPAM-Confidence: 0.7615\\n',\n",
       " 'X-DSPAM-Probability: 0.0000\\n',\n",
       " '\\n',\n",
       " 'Details: http://source.sakaiproject.org/viewsvn/?view=rev&rev=39763\\n',\n",
       " '\\n',\n",
       " 'Author: cwen@iupui.edu\\n',\n",
       " 'Date: 2008-01-04 11:33:05 -0500 (Fri, 04 Jan 2008)\\n',\n",
       " 'New Revision: 39763\\n',\n",
       " '\\n',\n",
       " 'Modified:\\n',\n",
       " 'msgcntr/trunk/messageforums-api/src/bundle/org/sakaiproject/api/app/messagecenter/bundle/Messages.properties\\n',\n",
       " 'msgcntr/trunk/messageforums-app/src/java/org/sakaiproject/tool/messageforums/PrivateMessagesTool.java\\n',\n",
       " 'Log:\\n',\n",
       " \"unmerge Xingtang's check in for SAK-12484.\\n\",\n",
       " '\\n',\n",
       " 'svn merge -r39571:39570 https://source.sakaiproject.org/svn/msgcntr/trunk\\n',\n",
       " 'U    messageforums-api/src/bundle/org/sakaiproject/api/app/messagecenter/bundle/Messages.properties\\n',\n",
       " 'U    messageforums-app/src/java/org/sakaiproject/tool/messageforums/PrivateMessagesTool.java\\n',\n",
       " '\\n',\n",
       " 'svn log -r 39571\\n',\n",
       " '------------------------------------------------------------------------\\n',\n",
       " 'r39571 | hu2@iupui.edu | 2007-12-20 21:26:28 -0500 (Thu, 20 Dec 2007) | 3 lines\\n',\n",
       " '\\n',\n",
       " 'SAK-12484\\n',\n",
       " 'reply all cc list should not include the current user name.\\n',\n",
       " 'http://jira.sakaiproject.org/jira/browse/SAK-12484\\n',\n",
       " '------------------------------------------------------------------------\\n',\n",
       " '\\n',\n",
       " '\\n',\n",
       " '----------------------\\n',\n",
       " 'This automatic notification message was sent by Sakai Collab (https://collab.sakaiproject.org/portal) from the Source site.\\n',\n",
       " 'You can modify how you receive notifications at My Workspace > Preferences.\\n',\n",
       " '\\n',\n",
       " '\\n',\n",
       " '\\n',\n",
       " 'From gsilver@umich.edu Fri Jan  4 11:12:37 2008\\n',\n",
       " 'Return-Path: <postmaster@collab.sakaiproject.org>\\n',\n",
       " 'Received: from murder (mail.umich.edu [141.211.14.25])\\n',\n",
       " '\\t by frankenstein.mail.umich.edu (Cyrus v2.3.8) with LMTPA;\\n',\n",
       " '\\t Fri, 04 Jan 2008 11:12:37 -0500\\n',\n",
       " 'X-Sieve: CMU Sieve 2.3\\n',\n",
       " 'Received: from murder ([unix socket])\\n',\n",
       " '\\t by mail.umich.edu (Cyrus v2.2.12) with LMTPA;\\n',\n",
       " '\\t Fri, 04 Jan 2008 11:12:37 -0500\\n',\n",
       " 'Received: from holes.mr.itd.umich.edu (holes.mr.itd.umich.edu [141.211.14.79])\\n',\n",
       " '\\tby panther.mail.umich.edu () with ESMTP id m04GCaHB030887;\\n',\n",
       " '\\tFri, 4 Jan 2008 11:12:36 -0500\\n',\n",
       " 'Received: FROM paploo.uhi.ac.uk (app1.prod.collab.uhi.ac.uk [194.35.219.184])\\n',\n",
       " '\\tBY holes.mr.itd.umich.edu ID 477E5AEB.E670B.28397 ; \\n',\n",
       " '\\t 4 Jan 2008 11:12:30 -0500\\n',\n",
       " 'Received: from paploo.uhi.ac.uk (localhost [127.0.0.1])\\n',\n",
       " '\\tby paploo.uhi.ac.uk (Postfix) with ESMTP id 99715BAE7D;\\n',\n",
       " '\\tFri,  4 Jan 2008 16:12:27 +0000 (GMT)\\n',\n",
       " 'Message-ID: <200801041611.m04GB1Lb007221@nakamura.uits.iupui.edu>\\n',\n",
       " 'Mime-Version: 1.0\\n',\n",
       " 'Content-Transfer-Encoding: 7bit\\n',\n",
       " 'Received: from prod.collab.uhi.ac.uk ([194.35.219.182])\\n',\n",
       " '          by paploo.uhi.ac.uk (JAMES SMTP Server 2.1.3) with SMTP ID 272\\n',\n",
       " '          for <source@collab.sakaiproject.org>;\\n',\n",
       " '          Fri, 4 Jan 2008 16:12:14 +0000 (GMT)\\n',\n",
       " 'Received: from nakamura.uits.iupui.edu (nakamura.uits.iupui.edu [134.68.220.122])\\n',\n",
       " '\\tby shmi.uhi.ac.uk (Postfix) with ESMTP id 0A6ED42DFC\\n',\n",
       " '\\tfor <source@collab.sakaiproject.org>; Fri,  4 Jan 2008 16:12:12 +0000 (GMT)\\n',\n",
       " 'Received: from nakamura.uits.iupui.edu (localhost [127.0.0.1])\\n',\n",
       " '\\tby nakamura.uits.iupui.edu (8.12.11.20060308/8.12.11) with ESMTP id m04GB1Wt007223\\n',\n",
       " '\\tfor <source@collab.sakaiproject.org>; Fri, 4 Jan 2008 11:11:01 -0500\\n',\n",
       " 'Received: (from apache@localhost)\\n',\n",
       " '\\tby nakamura.uits.iupui.edu (8.12.11.20060308/8.12.11/Submit) id m04GB1Lb007221\\n',\n",
       " '\\tfor source@collab.sakaiproject.org; Fri, 4 Jan 2008 11:11:01 -0500\\n',\n",
       " 'Date: Fri, 4 Jan 2008 11:11:01 -0500\\n',\n",
       " 'X-Authentication-Warning: nakamura.uits.iupui.edu: apache set sender to gsilver@umich.edu using -f\\n',\n",
       " 'To: source@collab.sakaiproject.org\\n',\n",
       " 'From: gsilver@umich.edu\\n',\n",
       " 'Subject: [sakai] svn commit: r39762 - web/trunk/web-tool/tool/src/bundle\\n',\n",
       " 'X-Content-Type-Outer-Envelope: text/plain; charset=UTF-8\\n',\n",
       " 'X-Content-Type-Message-Body: text/plain; charset=UTF-8\\n',\n",
       " 'Content-Type: text/plain; charset=UTF-8\\n',\n",
       " 'X-DSPAM-Result: Innocent\\n',\n",
       " 'X-DSPAM-Processed: Fri Jan  4 11:12:37 2008\\n',\n",
       " 'X-DSPAM-Confidence: 0.7601\\n',\n",
       " 'X-DSPAM-Probability: 0.0000\\n',\n",
       " '\\n',\n",
       " 'Details: http://source.sakaiproject.org/viewsvn/?view=rev&rev=39762\\n',\n",
       " '\\n',\n",
       " 'Author: gsilver@umich.edu\\n',\n",
       " 'Date: 2008-01-04 11:11:00 -0500 (Fri, 04 Jan 2008)\\n',\n",
       " 'New Revision: 39762\\n',\n",
       " '\\n',\n",
       " 'Modified:\\n',\n",
       " 'web/trunk/web-tool/tool/src/bundle/iframe.properties\\n',\n",
       " 'Log:\\n',\n",
       " 'SAK-12596\\n',\n",
       " 'http://bugs.sakaiproject.org/jira/browse/SAK-12596\\n',\n",
       " '- left moot (unused) entries commented for now\\n',\n",
       " '\\n',\n",
       " '----------------------\\n',\n",
       " 'This automatic notification message was sent by Sakai Collab (https://collab.sakaiproject.org/portal) from the Source site.\\n',\n",
       " 'You can modify how you receive notifications at My Workspace > Preferences.\\n',\n",
       " '\\n',\n",
       " '\\n',\n",
       " '\\n',\n",
       " 'From gsilver@umich.edu Fri Jan  4 11:11:52 2008\\n',\n",
       " 'Return-Path: <postmaster@collab.sakaiproject.org>\\n',\n",
       " 'Received: from murder (mail.umich.edu [141.211.14.36])\\n',\n",
       " '\\t by frankenstein.mail.umich.edu (Cyrus v2.3.8) with LMTPA;\\n',\n",
       " '\\t Fri, 04 Jan 2008 11:11:52 -0500\\n',\n",
       " 'X-Sieve: CMU Sieve 2.3\\n',\n",
       " 'Received: from murder ([unix socket])\\n',\n",
       " '\\t by mail.umich.edu (Cyrus v2.2.12) with LMTPA;\\n',\n",
       " '\\t Fri, 04 Jan 2008 11:11:52 -0500\\n',\n",
       " 'Received: from creepshow.mr.itd.umich.edu (creepshow.mr.itd.umich.edu [141.211.14.84])\\n',\n",
       " '\\tby godsend.mail.umich.edu () with ESMTP id m04GBqqv025330;\\n',\n",
       " '\\tFri, 4 Jan 2008 11:11:52 -0500\\n',\n",
       " 'Received: FROM paploo.uhi.ac.uk (app1.prod.collab.uhi.ac.uk [194.35.219.184])\\n',\n",
       " '\\tBY creepshow.mr.itd.umich.edu ID 477E5AB3.5CC32.30840 ; \\n',\n",
       " '\\t 4 Jan 2008 11:11:34 -0500\\n',\n",
       " 'Received: from paploo.uhi.ac.uk (localhost [127.0.0.1])\\n',\n",
       " '\\tby paploo.uhi.ac.uk (Postfix) with ESMTP id 62AA4BAE46;\\n',\n",
       " '\\tFri,  4 Jan 2008 16:11:31 +0000 (GMT)\\n',\n",
       " 'Message-ID: <200801041610.m04GA5KP007209@nakamura.uits.iupui.edu>\\n',\n",
       " 'Mime-Version: 1.0\\n',\n",
       " 'Content-Transfer-Encoding: 7bit\\n',\n",
       " 'Received: from prod.collab.uhi.ac.uk ([194.35.219.182])\\n',\n",
       " '          by paploo.uhi.ac.uk (JAMES SMTP Server 2.1.3) with SMTP ID 1006\\n',\n",
       " '          for <source@collab.sakaiproject.org>;\\n',\n",
       " '          Fri, 4 Jan 2008 16:11:18 +0000 (GMT)\\n',\n",
       " 'Received: from nakamura.uits.iupui.edu (nakamura.uits.iupui.edu [134.68.220.122])\\n',\n",
       " '\\tby shmi.uhi.ac.uk (Postfix) with ESMTP id C596A3DFA2\\n',\n",
       " '\\tfor <source@collab.sakaiproject.org>; Fri,  4 Jan 2008 16:11:16 +0000 (GMT)\\n',\n",
       " 'Received: from nakamura.uits.iupui.edu (localhost [127.0.0.1])\\n',\n",
       " '\\tby nakamura.uits.iupui.edu (8.12.11.20060308/8.12.11) with ESMTP id m04GA5LR007211\\n',\n",
       " '\\tfor <source@collab.sakaiproject.org>; Fri, 4 Jan 2008 11:10:05 -0500\\n',\n",
       " 'Received: (from apache@localhost)\\n',\n",
       " '\\tby nakamura.uits.iupui.edu (8.12.11.20060308/8.12.11/Submit) id m04GA5KP007209\\n',\n",
       " '\\tfor source@collab.sakaiproject.org; Fri, 4 Jan 2008 11:10:05 -0500\\n',\n",
       " 'Date: Fri, 4 Jan 2008 11:10:05 -0500\\n',\n",
       " 'X-Authentication-Warning: nakamura.uits.iupui.edu: apache set sender to gsilver@umich.edu using -f\\n',\n",
       " 'To: source@collab.sakaiproject.org\\n',\n",
       " 'From: gsilver@umich.edu\\n',\n",
       " 'Subject: [sakai] svn commit: r39761 - site/trunk/site-tool/tool/src/bundle\\n',\n",
       " 'X-Content-Type-Outer-Envelope: text/plain; charset=UTF-8\\n',\n",
       " 'X-Content-Type-Message-Body: text/plain; charset=UTF-8\\n',\n",
       " 'Content-Type: text/plain; charset=UTF-8\\n',\n",
       " 'X-DSPAM-Result: Innocent\\n',\n",
       " 'X-DSPAM-Processed: Fri Jan  4 11:11:52 2008\\n',\n",
       " 'X-DSPAM-Confidence: 0.7605\\n',\n",
       " 'X-DSPAM-Probability: 0.0000\\n',\n",
       " '\\n',\n",
       " 'Details: http://source.sakaiproject.org/viewsvn/?view=rev&rev=39761\\n',\n",
       " '\\n',\n",
       " 'Author: gsilver@umich.edu\\n',\n",
       " 'Date: 2008-01-04 11:10:04 -0500 (Fri, 04 Jan 2008)\\n',\n",
       " 'New Revision: 39761\\n',\n",
       " '\\n',\n",
       " 'Modified:\\n',\n",
       " 'site/trunk/site-tool/tool/src/bundle/admin.properties\\n',\n",
       " 'Log:\\n',\n",
       " 'SAK-12595\\n',\n",
       " 'http://bugs.sakaiproject.org/jira/browse/SAK-12595\\n',\n",
       " '- left moot (unused) entries commented for now\\n',\n",
       " '\\n',\n",
       " '----------------------\\n',\n",
       " 'This automatic notification message was sent by Sakai Collab (https://collab.sakaiproject.org/portal) from the Source site.\\n',\n",
       " 'You can modify how you receive notifications at My Workspace > Preferences.\\n',\n",
       " '\\n',\n",
       " '\\n',\n",
       " '\\n',\n",
       " 'From zqian@umich.edu Fri Jan  4 11:11:03 2008\\n',\n",
       " 'Return-Path: <postmaster@collab.sakaiproject.org>\\n',\n",
       " 'Received: from murder (mail.umich.edu [141.211.14.97])\\n',\n",
       " '\\t by frankenstein.mail.umich.edu (Cyrus v2.3.8) with LMTPA;\\n',\n",
       " '\\t Fri, 04 Jan 2008 11:11:03 -0500\\n',\n",
       " 'X-Sieve: CMU Sieve 2.3\\n',\n",
       " 'Received: from murder ([unix socket])\\n',\n",
       " '\\t by mail.umich.edu (Cyrus v2.2.12) with LMTPA;\\n',\n",
       " '\\t Fri, 04 Jan 2008 11:11:03 -0500\\n',\n",
       " 'Received: from carrie.mr.itd.umich.edu (carrie.mr.itd.umich.edu [141.211.93.152])\\n',\n",
       " '\\tby sleepers.mail.umich.edu () with ESMTP id m04GB3Vg011502;\\n',\n",
       " '\\tFri, 4 Jan 2008 11:11:03 -0500\\n',\n",
       " 'Received: FROM paploo.uhi.ac.uk (app1.prod.collab.uhi.ac.uk [194.35.219.184])\\n',\n",
       " '\\tBY carrie.mr.itd.umich.edu ID 477E5A8D.B378F.24200 ; \\n',\n",
       " '\\t 4 Jan 2008 11:10:56 -0500\\n',\n",
       " 'Received: from paploo.uhi.ac.uk (localhost [127.0.0.1])\\n',\n",
       " '\\tby paploo.uhi.ac.uk (Postfix) with ESMTP id C7251BAD44;\\n',\n",
       " '\\tFri,  4 Jan 2008 16:10:53 +0000 (GMT)\\n',\n",
       " 'Message-ID: <200801041609.m04G9EuX007197@nakamura.uits.iupui.edu>\\n',\n",
       " 'Mime-Version: 1.0\\n',\n",
       " 'Content-Transfer-Encoding: 7bit\\n',\n",
       " 'Received: from prod.collab.uhi.ac.uk ([194.35.219.182])\\n',\n",
       " '          by paploo.uhi.ac.uk (JAMES SMTP Server 2.1.3) with SMTP ID 483\\n',\n",
       " '          for <source@collab.sakaiproject.org>;\\n',\n",
       " '          Fri, 4 Jan 2008 16:10:27 +0000 (GMT)\\n',\n",
       " 'Received: from nakamura.uits.iupui.edu (nakamura.uits.iupui.edu [134.68.220.122])\\n',\n",
       " '\\tby shmi.uhi.ac.uk (Postfix) with ESMTP id 2E7043DFA2\\n',\n",
       " '\\tfor <source@collab.sakaiproject.org>; Fri,  4 Jan 2008 16:10:26 +0000 (GMT)\\n',\n",
       " 'Received: from nakamura.uits.iupui.edu (localhost [127.0.0.1])\\n',\n",
       " '\\tby nakamura.uits.iupui.edu (8.12.11.20060308/8.12.11) with ESMTP id m04G9Eqg007199\\n',\n",
       " '\\tfor <source@collab.sakaiproject.org>; Fri, 4 Jan 2008 11:09:15 -0500\\n',\n",
       " 'Received: (from apache@localhost)\\n',\n",
       " '\\tby nakamura.uits.iupui.edu (8.12.11.20060308/8.12.11/Submit) id m04G9EuX007197\\n',\n",
       " '\\tfor source@collab.sakaiproject.org; Fri, 4 Jan 2008 11:09:14 -0500\\n',\n",
       " 'Date: Fri, 4 Jan 2008 11:09:14 -0500\\n',\n",
       " 'X-Authentication-Warning: nakamura.uits.iupui.edu: apache set sender to zqian@umich.edu using -f\\n',\n",
       " 'To: source@collab.sakaiproject.org\\n',\n",
       " 'From: zqian@umich.edu\\n',\n",
       " 'Subject: [sakai] svn commit: r39760 - in site-manage/trunk/site-manage-tool/tool/src: java/org/sakaiproject/site/tool webapp/vm/sitesetup\\n',\n",
       " 'X-Content-Type-Outer-Envelope: text/plain; charset=UTF-8\\n',\n",
       " 'X-Content-Type-Message-Body: text/plain; charset=UTF-8\\n',\n",
       " 'Content-Type: text/plain; charset=UTF-8\\n',\n",
       " 'X-DSPAM-Result: Innocent\\n',\n",
       " 'X-DSPAM-Processed: Fri Jan  4 11:11:03 2008\\n',\n",
       " 'X-DSPAM-Confidence: 0.6959\\n',\n",
       " 'X-DSPAM-Probability: 0.0000\\n',\n",
       " '\\n',\n",
       " 'Details: http://source.sakaiproject.org/viewsvn/?view=rev&rev=39760\\n',\n",
       " '\\n',\n",
       " 'Author: zqian@umich.edu\\n',\n",
       " 'Date: 2008-01-04 11:09:12 -0500 (Fri, 04 Jan 2008)\\n',\n",
       " 'New Revision: 39760\\n',\n",
       " '\\n',\n",
       " 'Modified:\\n',\n",
       " 'site-manage/trunk/site-manage-tool/tool/src/java/org/sakaiproject/site/tool/SiteAction.java\\n',\n",
       " 'site-manage/trunk/site-manage-tool/tool/src/webapp/vm/sitesetup/chef_site-siteInfo-list.vm\\n',\n",
       " 'Log:\\n',\n",
       " 'fix to SAK-10911: Refactor use of site.upd, site.upd.site.mbrship and site.upd.grp.mbrship permissions\\n',\n",
       " '\\n',\n",
       " '----------------------\\n',\n",
       " 'This automatic notification message was sent by Sakai Collab (https://collab.sakaiproject.org/portal) from the Source site.\\n',\n",
       " 'You can modify how you receive notifications at My Workspace > Preferences.\\n',\n",
       " '\\n',\n",
       " '\\n',\n",
       " '\\n',\n",
       " 'From gsilver@umich.edu Fri Jan  4 11:10:22 2008\\n',\n",
       " 'Return-Path: <postmaster@collab.sakaiproject.org>\\n',\n",
       " 'Received: from murder (mail.umich.edu [141.211.14.39])\\n',\n",
       " '\\t by frankenstein.mail.umich.edu (Cyrus v2.3.8) with LMTPA;\\n',\n",
       " '\\t Fri, 04 Jan 2008 11:10:22 -0500\\n',\n",
       " 'X-Sieve: CMU Sieve 2.3\\n',\n",
       " 'Received: from murder ([unix socket])\\n',\n",
       " '\\t by mail.umich.edu (Cyrus v2.2.12) with LMTPA;\\n',\n",
       " '\\t Fri, 04 Jan 2008 11:10:22 -0500\\n',\n",
       " 'Received: from holes.mr.itd.umich.edu (holes.mr.itd.umich.edu [141.211.14.79])\\n',\n",
       " '\\tby faithful.mail.umich.edu () with ESMTP id m04GAL9k010604;\\n',\n",
       " '\\tFri, 4 Jan 2008 11:10:21 -0500\\n',\n",
       " 'Received: FROM paploo.uhi.ac.uk (app1.prod.collab.uhi.ac.uk [194.35.219.184])\\n',\n",
       " '\\tBY holes.mr.itd.umich.edu ID 477E5A67.34350.23015 ; \\n',\n",
       " '\\t 4 Jan 2008 11:10:18 -0500\\n',\n",
       " 'Received: from paploo.uhi.ac.uk (localhost [127.0.0.1])\\n',\n",
       " '\\tby paploo.uhi.ac.uk (Postfix) with ESMTP id 98D04BAD43;\\n',\n",
       " '\\tFri,  4 Jan 2008 16:10:11 +0000 (GMT)\\n',\n",
       " 'Message-ID: <200801041608.m04G8d7w007184@nakamura.uits.iupui.edu>\\n',\n",
       " 'Mime-Version: 1.0\\n',\n",
       " 'Content-Transfer-Encoding: 7bit\\n',\n",
       " 'Received: from prod.collab.uhi.ac.uk ([194.35.219.182])\\n',\n",
       " '          by paploo.uhi.ac.uk (JAMES SMTP Server 2.1.3) with SMTP ID 966\\n',\n",
       " '          for <source@collab.sakaiproject.org>;\\n',\n",
       " '          Fri, 4 Jan 2008 16:09:51 +0000 (GMT)\\n',\n",
       " 'Received: from nakamura.uits.iupui.edu (nakamura.uits.iupui.edu [134.68.220.122])\\n',\n",
       " '\\tby shmi.uhi.ac.uk (Postfix) with ESMTP id 9F89542DD0\\n',\n",
       " '\\tfor <source@collab.sakaiproject.org>; Fri,  4 Jan 2008 16:09:50 +0000 (GMT)\\n',\n",
       " 'Received: from nakamura.uits.iupui.edu (localhost [127.0.0.1])\\n',\n",
       " '\\tby nakamura.uits.iupui.edu (8.12.11.20060308/8.12.11) with ESMTP id m04G8dXN007186\\n',\n",
       " '\\tfor <source@collab.sakaiproject.org>; Fri, 4 Jan 2008 11:08:39 -0500\\n',\n",
       " 'Received: (from apache@localhost)\\n',\n",
       " '\\tby nakamura.uits.iupui.edu (8.12.11.20060308/8.12.11/Submit) id m04G8d7w007184\\n',\n",
       " '\\tfor source@collab.sakaiproject.org; Fri, 4 Jan 2008 11:08:39 -0500\\n',\n",
       " 'Date: Fri, 4 Jan 2008 11:08:39 -0500\\n',\n",
       " 'X-Authentication-Warning: nakamura.uits.iupui.edu: apache set sender to gsilver@umich.edu using -f\\n',\n",
       " 'To: source@collab.sakaiproject.org\\n',\n",
       " 'From: gsilver@umich.edu\\n',\n",
       " 'Subject: [sakai] svn commit: r39759 - mailarchive/trunk/mailarchive-tool/tool/src/bundle\\n',\n",
       " 'X-Content-Type-Outer-Envelope: text/plain; charset=UTF-8\\n',\n",
       " 'X-Content-Type-Message-Body: text/plain; charset=UTF-8\\n',\n",
       " 'Content-Type: text/plain; charset=UTF-8\\n',\n",
       " 'X-DSPAM-Result: Innocent\\n',\n",
       " 'X-DSPAM-Processed: Fri Jan  4 11:10:22 2008\\n',\n",
       " 'X-DSPAM-Confidence: 0.7606\\n',\n",
       " 'X-DSPAM-Probability: 0.0000\\n',\n",
       " '\\n',\n",
       " 'Details: http://source.sakaiproject.org/viewsvn/?view=rev&rev=39759\\n',\n",
       " '\\n',\n",
       " 'Author: gsilver@umich.edu\\n',\n",
       " 'Date: 2008-01-04 11:08:38 -0500 (Fri, 04 Jan 2008)\\n',\n",
       " 'New Revision: 39759\\n',\n",
       " '\\n',\n",
       " 'Modified:\\n',\n",
       " 'mailarchive/trunk/mailarchive-tool/tool/src/bundle/email.properties\\n',\n",
       " 'Log:\\n',\n",
       " 'SAK-12592\\n',\n",
       " 'http://bugs.sakaiproject.org/jira/browse/SAK-12592\\n',\n",
       " '- left moot (unused) entries commented for now\\n',\n",
       " '\\n',\n",
       " '----------------------\\n',\n",
       " 'This automatic notification message was sent by Sakai Collab (https://collab.sakaiproject.org/portal) from the Source site.\\n',\n",
       " 'You can modify how you receive notifications at My Workspace > Preferences.\\n',\n",
       " '\\n',\n",
       " '\\n',\n",
       " '\\n',\n",
       " 'From wagnermr@iupui.edu Fri Jan  4 10:38:42 2008\\n',\n",
       " 'Return-Path: <postmaster@collab.sakaiproject.org>\\n',\n",
       " 'Received: from murder (mail.umich.edu [141.211.14.90])\\n',\n",
       " '\\t by frankenstein.mail.umich.edu (Cyrus v2.3.8) with LMTPA;\\n',\n",
       " '\\t Fri, 04 Jan 2008 10:38:42 -0500\\n',\n",
       " 'X-Sieve: CMU Sieve 2.3\\n',\n",
       " 'Received: from murder ([unix socket])\\n',\n",
       " '\\t by mail.umich.edu (Cyrus v2.2.12) with LMTPA;\\n',\n",
       " '\\t Fri, 04 Jan 2008 10:38:42 -0500\\n',\n",
       " 'Received: from shining.mr.itd.umich.edu (shining.mr.itd.umich.edu [141.211.93.153])\\n',\n",
       " '\\tby flawless.mail.umich.edu () with ESMTP id m04Fcfjm012313;\\n',\n",
       " '\\tFri, 4 Jan 2008 10:38:41 -0500\\n',\n",
       " 'Received: FROM paploo.uhi.ac.uk (app1.prod.collab.uhi.ac.uk [194.35.219.184])\\n',\n",
       " '\\tBY shining.mr.itd.umich.edu ID 477E52FA.E6C6E.24093 ; \\n',\n",
       " '\\t 4 Jan 2008 10:38:37 -0500\\n',\n",
       " 'Received: from paploo.uhi.ac.uk (localhost [127.0.0.1])\\n',\n",
       " '\\tby paploo.uhi.ac.uk (Postfix) with ESMTP id 6A39594CD2;\\n',\n",
       " '\\tFri,  4 Jan 2008 15:37:36 +0000 (GMT)\\n',\n",
       " 'Message-ID: <200801041537.m04Fb6Ci007092@nakamura.uits.iupui.edu>\\n',\n",
       " 'Mime-Version: 1.0\\n',\n",
       " 'Content-Transfer-Encoding: 7bit\\n',\n",
       " 'Received: from prod.collab.uhi.ac.uk ([194.35.219.182])\\n',\n",
       " '          by paploo.uhi.ac.uk (JAMES SMTP Server 2.1.3) with SMTP ID 690\\n',\n",
       " '          for <source@collab.sakaiproject.org>;\\n',\n",
       " '          Fri, 4 Jan 2008 15:37:21 +0000 (GMT)\\n',\n",
       " 'Received: from nakamura.uits.iupui.edu (nakamura.uits.iupui.edu [134.68.220.122])\\n',\n",
       " '\\tby shmi.uhi.ac.uk (Postfix) with ESMTP id CEFA037ACE\\n',\n",
       " '\\tfor <source@collab.sakaiproject.org>; Fri,  4 Jan 2008 15:38:17 +0000 (GMT)\\n',\n",
       " 'Received: from nakamura.uits.iupui.edu (localhost [127.0.0.1])\\n',\n",
       " '\\tby nakamura.uits.iupui.edu (8.12.11.20060308/8.12.11) with ESMTP id m04Fb6nh007094\\n',\n",
       " '\\tfor <source@collab.sakaiproject.org>; Fri, 4 Jan 2008 10:37:06 -0500\\n',\n",
       " 'Received: (from apache@localhost)\\n',\n",
       " '\\tby nakamura.uits.iupui.edu (8.12.11.20060308/8.12.11/Submit) id m04Fb6Ci007092\\n',\n",
       " '\\tfor source@collab.sakaiproject.org; Fri, 4 Jan 2008 10:37:06 -0500\\n',\n",
       " 'Date: Fri, 4 Jan 2008 10:37:06 -0500\\n',\n",
       " 'X-Authentication-Warning: nakamura.uits.iupui.edu: apache set sender to wagnermr@iupui.edu using -f\\n',\n",
       " 'To: source@collab.sakaiproject.org\\n',\n",
       " 'From: wagnermr@iupui.edu\\n',\n",
       " 'Subject: [sakai] svn commit: r39758 - in gradebook/trunk: app/business/src/java/org/sakaiproject/tool/gradebook/business/impl service/api/src/java/org/sakaiproject/service/gradebook/shared service/impl/src/java/org/sakaiproject/component/gradebook\\n',\n",
       " 'X-Content-Type-Outer-Envelope: text/plain; charset=UTF-8\\n',\n",
       " 'X-Content-Type-Message-Body: text/plain; charset=UTF-8\\n',\n",
       " 'Content-Type: text/plain; charset=UTF-8\\n',\n",
       " 'X-DSPAM-Result: Innocent\\n',\n",
       " 'X-DSPAM-Processed: Fri Jan  4 10:38:42 2008\\n',\n",
       " 'X-DSPAM-Confidence: 0.7559\\n',\n",
       " 'X-DSPAM-Probability: 0.0000\\n',\n",
       " '\\n',\n",
       " 'Details: http://source.sakaiproject.org/viewsvn/?view=rev&rev=39758\\n',\n",
       " '\\n',\n",
       " 'Author: wagnermr@iupui.edu\\n',\n",
       " 'Date: 2008-01-04 10:37:04 -0500 (Fri, 04 Jan 2008)\\n',\n",
       " 'New Revision: 39758\\n',\n",
       " '\\n',\n",
       " 'Modified:\\n',\n",
       " 'gradebook/trunk/app/business/src/java/org/sakaiproject/tool/gradebook/business/impl/GradebookManagerHibernateImpl.java\\n',\n",
       " 'gradebook/trunk/service/api/src/java/org/sakaiproject/service/gradebook/shared/GradebookService.java\\n',\n",
       " 'gradebook/trunk/service/impl/src/java/org/sakaiproject/component/gradebook/GradebookServiceHibernateImpl.java\\n',\n",
       " 'Log:\\n',\n",
       " 'SAK-12175\\n',\n",
       " 'http://bugs.sakaiproject.org/jira/browse/SAK-12175\\n',\n",
       " 'Create methods required for gb integration with the Assignment2 tool\\n',\n",
       " 'getGradeDefinitionForStudentForItem\\n',\n",
       " '\\n',\n",
       " '----------------------\\n',\n",
       " 'This automatic notification message was sent by Sakai Collab (https://collab.sakaiproject.org/portal) from the Source site.\\n',\n",
       " 'You can modify how you receive notifications at My Workspace > Preferences.\\n',\n",
       " '\\n',\n",
       " '\\n',\n",
       " '\\n',\n",
       " 'From zqian@umich.edu Fri Jan  4 10:17:43 2008\\n',\n",
       " 'Return-Path: <postmaster@collab.sakaiproject.org>\\n',\n",
       " 'Received: from murder (mail.umich.edu [141.211.14.97])\\n',\n",
       " '\\t by frankenstein.mail.umich.edu (Cyrus v2.3.8) with LMTPA;\\n',\n",
       " '\\t Fri, 04 Jan 2008 10:17:43 -0500\\n',\n",
       " 'X-Sieve: CMU Sieve 2.3\\n',\n",
       " 'Received: from murder ([unix socket])\\n',\n",
       " '\\t by mail.umich.edu (Cyrus v2.2.12) with LMTPA;\\n',\n",
       " '\\t Fri, 04 Jan 2008 10:17:42 -0500\\n',\n",
       " 'Received: from creepshow.mr.itd.umich.edu (creepshow.mr.itd.umich.edu [141.211.14.84])\\n',\n",
       " '\\tby sleepers.mail.umich.edu () with ESMTP id m04FHgfs011536;\\n',\n",
       " '\\tFri, 4 Jan 2008 10:17:42 -0500\\n',\n",
       " 'Received: FROM paploo.uhi.ac.uk (app1.prod.collab.uhi.ac.uk [194.35.219.184])\\n',\n",
       " '\\tBY creepshow.mr.itd.umich.edu ID 477E4E0F.CCA4B.926 ; \\n',\n",
       " '\\t 4 Jan 2008 10:17:38 -0500\\n',\n",
       " 'Received: from paploo.uhi.ac.uk (localhost [127.0.0.1])\\n',\n",
       " '\\tby paploo.uhi.ac.uk (Postfix) with ESMTP id BD02DBAC64;\\n',\n",
       " '\\tFri,  4 Jan 2008 15:17:34 +0000 (GMT)\\n',\n",
       " 'Message-ID: <200801041515.m04FFv42007050@nakamura.uits.iupui.edu>\\n',\n",
       " 'Mime-Version: 1.0\\n',\n",
       " 'Content-Transfer-Encoding: 7bit\\n',\n",
       " 'Received: from prod.collab.uhi.ac.uk ([194.35.219.182])\\n',\n",
       " '          by paploo.uhi.ac.uk (JAMES SMTP Server 2.1.3) with SMTP ID 25\\n',\n",
       " '          for <source@collab.sakaiproject.org>;\\n',\n",
       " '          Fri, 4 Jan 2008 15:17:11 +0000 (GMT)\\n',\n",
       " 'Received: from nakamura.uits.iupui.edu (nakamura.uits.iupui.edu [134.68.220.122])\\n',\n",
       " '\\tby shmi.uhi.ac.uk (Postfix) with ESMTP id 5B396236B9\\n',\n",
       " '\\tfor <source@collab.sakaiproject.org>; Fri,  4 Jan 2008 15:17:08 +0000 (GMT)\\n',\n",
       " 'Received: from nakamura.uits.iupui.edu (localhost [127.0.0.1])\\n',\n",
       " '\\tby nakamura.uits.iupui.edu (8.12.11.20060308/8.12.11) with ESMTP id m04FFv85007052\\n',\n",
       " '\\tfor <source@collab.sakaiproject.org>; Fri, 4 Jan 2008 10:15:57 -0500\\n',\n",
       " 'Received: (from apache@localhost)\\n',\n",
       " '\\tby nakamura.uits.iupui.edu (8.12.11.20060308/8.12.11/Submit) id m04FFv42007050\\n',\n",
       " '\\tfor source@collab.sakaiproject.org; Fri, 4 Jan 2008 10:15:57 -0500\\n',\n",
       " 'Date: Fri, 4 Jan 2008 10:15:57 -0500\\n',\n",
       " 'X-Authentication-Warning: nakamura.uits.iupui.edu: apache set sender to zqian@umich.edu using -f\\n',\n",
       " 'To: source@collab.sakaiproject.org\\n',\n",
       " 'From: zqian@umich.edu\\n',\n",
       " 'Subject: [sakai] svn commit: r39757 - in assignment/trunk: assignment-impl/impl/src/java/org/sakaiproject/assignment/impl assignment-tool/tool/src/webapp/vm/assignment\\n',\n",
       " 'X-Content-Type-Outer-Envelope: text/plain; charset=UTF-8\\n',\n",
       " 'X-Content-Type-Message-Body: text/plain; charset=UTF-8\\n',\n",
       " 'Content-Type: text/plain; charset=UTF-8\\n',\n",
       " 'X-DSPAM-Result: Innocent\\n',\n",
       " 'X-DSPAM-Processed: Fri Jan  4 10:17:42 2008\\n',\n",
       " 'X-DSPAM-Confidence: 0.7605\\n',\n",
       " 'X-DSPAM-Probability: 0.0000\\n',\n",
       " '\\n',\n",
       " 'Details: http://source.sakaiproject.org/viewsvn/?view=rev&rev=39757\\n',\n",
       " '\\n',\n",
       " 'Author: zqian@umich.edu\\n',\n",
       " 'Date: 2008-01-04 10:15:54 -0500 (Fri, 04 Jan 2008)\\n',\n",
       " 'New Revision: 39757\\n',\n",
       " '\\n',\n",
       " 'Modified:\\n',\n",
       " 'assignment/trunk/assignment-impl/impl/src/java/org/sakaiproject/assignment/impl/BaseAssignmentService.java\\n',\n",
       " 'assignment/trunk/assignment-tool/tool/src/webapp/vm/assignment/chef_assignments_instructor_list_submissions.vm\\n',\n",
       " 'Log:\\n',\n",
       " \"fix to SAK-12604:Don't show groups/sections filter if the site doesn't have any\\n\",\n",
       " '\\n',\n",
       " '----------------------\\n',\n",
       " 'This automatic notification message was sent by Sakai Collab (https://collab.sakaiproject.org/portal) from the Source site.\\n',\n",
       " 'You can modify how you receive notifications at My Workspace > Preferences.\\n',\n",
       " '\\n',\n",
       " '\\n',\n",
       " '\\n',\n",
       " 'From antranig@caret.cam.ac.uk Fri Jan  4 10:04:14 2008\\n',\n",
       " 'Return-Path: <postmaster@collab.sakaiproject.org>\\n',\n",
       " 'Received: from murder (mail.umich.edu [141.211.14.25])\\n',\n",
       " '\\t by frankenstein.mail.umich.edu (Cyrus v2.3.8) with LMTPA;\\n',\n",
       " '\\t Fri, 04 Jan 2008 10:04:14 -0500\\n',\n",
       " 'X-Sieve: CMU Sieve 2.3\\n',\n",
       " 'Received: from murder ([unix socket])\\n',\n",
       " '\\t by mail.umich.edu (Cyrus v2.2.12) with LMTPA;\\n',\n",
       " '\\t Fri, 04 Jan 2008 10:04:14 -0500\\n',\n",
       " 'Received: from holes.mr.itd.umich.edu (holes.mr.itd.umich.edu [141.211.14.79])\\n',\n",
       " '\\tby panther.mail.umich.edu () with ESMTP id m04F4Dci015108;\\n',\n",
       " '\\tFri, 4 Jan 2008 10:04:13 -0500\\n',\n",
       " 'Received: FROM paploo.uhi.ac.uk (app1.prod.collab.uhi.ac.uk [194.35.219.184])\\n',\n",
       " '\\tBY holes.mr.itd.umich.edu ID 477E4AE3.D7AF.31669 ; \\n',\n",
       " '\\t 4 Jan 2008 10:04:05 -0500\\n',\n",
       " 'Received: from paploo.uhi.ac.uk (localhost [127.0.0.1])\\n',\n",
       " '\\tby paploo.uhi.ac.uk (Postfix) with ESMTP id 933E3BAC17;\\n',\n",
       " '\\tFri,  4 Jan 2008 15:04:00 +0000 (GMT)\\n',\n",
       " 'Message-ID: <200801041502.m04F21Jo007031@nakamura.uits.iupui.edu>\\n',\n",
       " 'Mime-Version: 1.0\\n',\n",
       " 'Content-Transfer-Encoding: 7bit\\n',\n",
       " 'Received: from prod.collab.uhi.ac.uk ([194.35.219.182])\\n',\n",
       " '          by paploo.uhi.ac.uk (JAMES SMTP Server 2.1.3) with SMTP ID 32\\n',\n",
       " '          for <source@collab.sakaiproject.org>;\\n',\n",
       " '          Fri, 4 Jan 2008 15:03:15 +0000 (GMT)\\n',\n",
       " 'Received: from nakamura.uits.iupui.edu (nakamura.uits.iupui.edu [134.68.220.122])\\n',\n",
       " '\\tby shmi.uhi.ac.uk (Postfix) with ESMTP id AC2F6236B9\\n',\n",
       " '\\tfor <source@collab.sakaiproject.org>; Fri,  4 Jan 2008 15:03:12 +0000 (GMT)\\n',\n",
       " 'Received: from nakamura.uits.iupui.edu (localhost [127.0.0.1])\\n',\n",
       " '\\tby nakamura.uits.iupui.edu (8.12.11.20060308/8.12.11) with ESMTP id m04F21hn007033\\n',\n",
       " '\\tfor <source@collab.sakaiproject.org>; Fri, 4 Jan 2008 10:02:01 -0500\\n',\n",
       " ...]"
      ]
     },
     "execution_count": 14,
     "metadata": {},
     "output_type": "execute_result"
    }
   ],
   "source": [
    "fhand.readlines()"
   ]
  },
  {
   "cell_type": "code",
   "execution_count": 24,
   "metadata": {},
   "outputs": [
    {
     "name": "stdout",
     "output_type": "stream",
     "text": [
      "\tby flawless.mail.umich.edu () with ESMTP id m05EEFR1013674;\n",
      "\tSat, 5 Jan 2008 09:14:15 -0500\n",
      "Received: FROM paploo.uhi.ac.uk (app1.prod.collab.uhi.ac.uk [194.35.219.184])\n",
      "\tBY holes.mr.itd.umich.edu ID 477F90B0.2DB2F.12494 ; \n",
      "\t 5 Jan 2008 09:14:10 -0500\n",
      "Received: from paploo.uhi.ac.uk (localhost [127.0.0.1])\n",
      "\tby paploo.uhi.ac.uk (Postfix) with ESMTP id 5F919BC2F2;\n",
      "\tSat,  5 Jan 2008 14:10:05 +0000 (GMT)\n",
      "Message-ID: <200801051412.m05ECIaH010327@nakamura.uits.iupui.edu>\n",
      "Mime-Version: 1.0\n"
     ]
    }
   ],
   "source": [
    "#only 10 lines present in the file:\n",
    "count = 0\n",
    "for line in fhand:\n",
    "    print(line, end='')\n",
    "    count+=1\n",
    "    if count == 10:\n",
    "        break"
   ]
  },
  {
   "cell_type": "code",
   "execution_count": 45,
   "metadata": {},
   "outputs": [
    {
     "name": "stdout",
     "output_type": "stream",
     "text": [
      "\tfor <source@collab.sakaiproject.org>; Sat, 5 Jan 2008 09:12:19 -0500\n",
      "Received: (from apache@localhost)\n",
      "\tby nakamura.uits.iupui.edu (8.12.11.20060308/8.12.11/Submit) id m05ECIaH010327\n",
      "\tfor source@collab.sakaiproject.org; Sat, 5 Jan 2008 09:12:18 -0500\n",
      "Date: Sat, 5 Jan 2008 09:12:18 -0500\n",
      "X-Authentication-Warning: nakamura.uits.iupui.edu: apache set sender to stephen.marquard@uct.ac.za using -f\n",
      "To: source@collab.sakaiproject.org\n",
      "From: stephen.marquard@uct.ac.za\n",
      "Subject: [sakai] svn commit: r39772 - content/branches/sakai_2-5-x/content-impl/impl/src/java/org/sakaiproject/content/impl\n",
      "X-Content-Type-Outer-Envelope: text/plain; charset=UTF-8\n"
     ]
    }
   ],
   "source": [
    "#only 10 lines present in the file:\n",
    "count = 0\n",
    "for line in fhand:\n",
    "    line = line.rstrip()\n",
    "    print(line)\n",
    "    count+=1\n",
    "    if count == 10:\n",
    "        break"
   ]
  },
  {
   "cell_type": "markdown",
   "metadata": {},
   "source": [
    "**2. Reading data using the read method for files**"
   ]
  },
  {
   "cell_type": "code",
   "execution_count": 15,
   "metadata": {},
   "outputs": [],
   "source": [
    "#Reading data using read() method:\n",
    "fhand = open(\"mbox-short.txt\")\n",
    "\n",
    "data = fhand.read()"
   ]
  },
  {
   "cell_type": "code",
   "execution_count": 16,
   "metadata": {},
   "outputs": [
    {
     "data": {
      "text/plain": [
       "94626"
      ]
     },
     "execution_count": 16,
     "metadata": {},
     "output_type": "execute_result"
    }
   ],
   "source": [
    "#length of the data\n",
    "len(data)"
   ]
  },
  {
   "cell_type": "code",
   "execution_count": 17,
   "metadata": {},
   "outputs": [
    {
     "data": {
      "text/plain": [
       "'From stephen.marquard@uct.ac.za Sat Jan  5 09:14:16 2008\\nReturn-Path: <postmaster@collab.sakaiproject.org>\\nReceived: from murder (mail.umich.edu [141.211.14.90])\\n\\t by frankenstein.mail.umich.edu (Cyrus v2.3.8) with LMTPA;\\n\\t Sat, 05 Jan 2008 09:14:16 '"
      ]
     },
     "execution_count": 17,
     "metadata": {},
     "output_type": "execute_result"
    }
   ],
   "source": [
    "#Let's see how the data is read\n",
    "data[:250]"
   ]
  },
  {
   "cell_type": "code",
   "execution_count": 18,
   "metadata": {},
   "outputs": [
    {
     "name": "stdout",
     "output_type": "stream",
     "text": [
      "From stephen.marquard@uct.ac.za Sat Jan  5 09:14:16 2008\n",
      "Return-Path: <postmaster@collab.sakaiproject.org>\n",
      "Received: from murder (mail.umich.edu [141.211.14.90])\n",
      "\t by frankenstein.mail.umich.edu (Cyrus v2.3.8) with LMTPA;\n",
      "\t Sat, 05 Jan 2008 09:14:16 \n"
     ]
    }
   ],
   "source": [
    "print(data[:250])"
   ]
  },
  {
   "cell_type": "markdown",
   "metadata": {},
   "source": [
    "**Disadvantage:**\n",
    "\n",
    "Remember that this form of the open function should only be used if the file data will fit comfortably in the main memory of your computer. If the file is too large to fit in main memory, you should write your program to read the file in chunks using a for or while loop."
   ]
  },
  {
   "cell_type": "markdown",
   "metadata": {},
   "source": [
    "\n",
    "### D. Letting the user choose the file name"
   ]
  },
  {
   "cell_type": "code",
   "execution_count": 52,
   "metadata": {},
   "outputs": [
    {
     "name": "stdout",
     "output_type": "stream",
     "text": [
      "Enter the file name: mbox-short.txt\n",
      "From stephen.marquard@uct.ac.za Sat Jan  5 09:14:16 2008\n",
      "Return-Path: <postmaster@collab.sakaiproject.org>\n",
      "Received: from murder (mail.umich.edu [141.211.14.90])\n",
      "by frankenstein.mail.umich.edu (Cyrus v2.3.8) with LMTPA;\n",
      "Sat, 05 Jan 2008 09:14:16 -0500\n",
      "X-Sieve: CMU Sieve 2.3\n",
      "Received: from murder ([unix socket])\n",
      "by mail.umich.edu (Cyrus v2.2.12) with LMTPA;\n",
      "Sat, 05 Jan 2008 09:14:16 -0500\n",
      "Received: from holes.mr.itd.umich.edu (holes.mr.itd.umich.edu [141.211.14.79])\n"
     ]
    }
   ],
   "source": [
    "filename = input(\"Enter the file name: \")\n",
    "file_hand = open(filename)\n",
    "count = 0\n",
    "for i in file_hand:\n",
    "    print(i.strip())\n",
    "    count+=1\n",
    "    if count == 10:\n",
    "        break"
   ]
  },
  {
   "cell_type": "markdown",
   "metadata": {},
   "source": [
    "### E. Using try, except and open"
   ]
  },
  {
   "cell_type": "code",
   "execution_count": 27,
   "metadata": {},
   "outputs": [
    {
     "data": {
      "text/plain": [
       "'C:\\\\Users\\\\PARTHI vs BHARATHI\\\\Downloads\\\\Python'"
      ]
     },
     "execution_count": 27,
     "metadata": {},
     "output_type": "execute_result"
    }
   ],
   "source": [
    "import os\n",
    "os.getcwd()"
   ]
  },
  {
   "cell_type": "code",
   "execution_count": 28,
   "metadata": {
    "scrolled": true
   },
   "outputs": [
    {
     "name": "stdout",
     "output_type": "stream",
     "text": [
      "Enter file name: mbox-short.txt\n",
      "From stephen.marquard@uct.ac.za Sat Jan  5 09:14:16 2008\n",
      "\n",
      "Return-Path: <postmaster@collab.sakaiproject.org>\n",
      "\n",
      "Received: from murder (mail.umich.edu [141.211.14.90])\n",
      "\n",
      "\t by frankenstein.mail.umich.edu (Cyrus v2.3.8) with LMTPA;\n",
      "\n",
      "\t Sat, 05 Jan 2008 09:14:16 -0500\n",
      "\n",
      "X-Sieve: CMU Sieve 2.3\n",
      "\n",
      "Received: from murder ([unix socket])\n",
      "\n",
      "\t by mail.umich.edu (Cyrus v2.2.12) with LMTPA;\n",
      "\n",
      "\t Sat, 05 Jan 2008 09:14:16 -0500\n",
      "\n",
      "Received: from holes.mr.itd.umich.edu (holes.mr.itd.umich.edu [141.211.14.79])\n",
      "\n"
     ]
    }
   ],
   "source": [
    "try:\n",
    "    import os\n",
    "    os.chdir(\"C:\\\\Users\\\\PARTHI vs BHARATHI\\\\Downloads\\\\Python\")\n",
    "    file = input(\"Enter file name: \")\n",
    "    fh = open(file)\n",
    "    count = 0\n",
    "    for i in fh:\n",
    "        print(i)\n",
    "        count+=1\n",
    "        if count == 10:\n",
    "            break\n",
    "except:\n",
    "    print(\"Please enter the correct file name.\")"
   ]
  },
  {
   "cell_type": "code",
   "execution_count": null,
   "metadata": {},
   "outputs": [],
   "source": []
  },
  {
   "cell_type": "markdown",
   "metadata": {},
   "source": [
    "### F. Searching through the file"
   ]
  },
  {
   "cell_type": "markdown",
   "metadata": {},
   "source": [
    "\n",
    "a) For example, if we wanted to read a file and only print out lines which started with the prefix “From:"
   ]
  },
  {
   "cell_type": "code",
   "execution_count": 19,
   "metadata": {
    "scrolled": true
   },
   "outputs": [
    {
     "name": "stdout",
     "output_type": "stream",
     "text": [
      "From: stephen.marquard@uct.ac.za\n",
      "From: louis@media.berkeley.edu\n",
      "From: zqian@umich.edu\n",
      "From: rjlowe@iupui.edu\n",
      "From: zqian@umich.edu\n",
      "From: rjlowe@iupui.edu\n",
      "From: cwen@iupui.edu\n",
      "From: cwen@iupui.edu\n",
      "From: gsilver@umich.edu\n",
      "From: gsilver@umich.edu\n",
      "From: zqian@umich.edu\n",
      "From: gsilver@umich.edu\n",
      "From: wagnermr@iupui.edu\n",
      "From: zqian@umich.edu\n",
      "From: antranig@caret.cam.ac.uk\n",
      "From: gopal.ramasammycook@gmail.com\n",
      "From: david.horwitz@uct.ac.za\n",
      "From: david.horwitz@uct.ac.za\n",
      "From: david.horwitz@uct.ac.za\n",
      "From: david.horwitz@uct.ac.za\n",
      "From: stephen.marquard@uct.ac.za\n",
      "From: louis@media.berkeley.edu\n",
      "From: louis@media.berkeley.edu\n",
      "From: ray@media.berkeley.edu\n",
      "From: cwen@iupui.edu\n",
      "From: cwen@iupui.edu\n",
      "From: cwen@iupui.edu\n"
     ]
    }
   ],
   "source": [
    "filename = 'mbox-short.txt'\n",
    "fh = open(filename)\n",
    "for line in fh:\n",
    "    if line[:5] == 'From:':\n",
    "        line = line.rstrip()\n",
    "        print(line)"
   ]
  },
  {
   "cell_type": "code",
   "execution_count": 40,
   "metadata": {
    "scrolled": true
   },
   "outputs": [
    {
     "name": "stdout",
     "output_type": "stream",
     "text": [
      "From: stephen.marquard@uct.ac.za\n",
      "From: louis@media.berkeley.edu\n",
      "From: zqian@umich.edu\n",
      "From: rjlowe@iupui.edu\n",
      "From: zqian@umich.edu\n",
      "From: rjlowe@iupui.edu\n",
      "From: cwen@iupui.edu\n",
      "From: cwen@iupui.edu\n",
      "From: gsilver@umich.edu\n",
      "From: gsilver@umich.edu\n",
      "From: zqian@umich.edu\n",
      "From: gsilver@umich.edu\n",
      "From: wagnermr@iupui.edu\n",
      "From: zqian@umich.edu\n",
      "From: antranig@caret.cam.ac.uk\n",
      "From: gopal.ramasammycook@gmail.com\n",
      "From: david.horwitz@uct.ac.za\n",
      "From: david.horwitz@uct.ac.za\n",
      "From: david.horwitz@uct.ac.za\n",
      "From: david.horwitz@uct.ac.za\n",
      "From: stephen.marquard@uct.ac.za\n",
      "From: louis@media.berkeley.edu\n",
      "From: louis@media.berkeley.edu\n",
      "From: ray@media.berkeley.edu\n",
      "From: cwen@iupui.edu\n",
      "From: cwen@iupui.edu\n",
      "From: cwen@iupui.edu\n"
     ]
    }
   ],
   "source": [
    "filename = 'mbox-short.txt'\n",
    "fh = open(filename)\n",
    "for line in fh:\n",
    "    if line.startswith('From:'): \n",
    "        line = line.rstrip()\n",
    "        print(line)"
   ]
  },
  {
   "cell_type": "code",
   "execution_count": null,
   "metadata": {},
   "outputs": [],
   "source": []
  },
  {
   "cell_type": "markdown",
   "metadata": {
    "collapsed": true
   },
   "source": [
    "b) Can we have the list of email id?"
   ]
  },
  {
   "cell_type": "code",
   "execution_count": 29,
   "metadata": {
    "scrolled": false
   },
   "outputs": [
    {
     "name": "stdout",
     "output_type": "stream",
     "text": [
      "['stephen.marquard@uct.ac.za', 'louis@media.berkeley.edu', 'zqian@umich.edu', 'jlowe@iupui.edu', 'zqian@umich.edu', 'jlowe@iupui.edu', 'cwen@iupui.edu', 'cwen@iupui.edu', 'gsilver@umich.edu', 'gsilver@umich.edu', 'zqian@umich.edu', 'gsilver@umich.edu', 'wagnermr@iupui.edu', 'zqian@umich.edu', 'antranig@caret.cam.ac.uk', 'gopal.ramasammycook@gmail.com', 'david.horwitz@uct.ac.za', 'david.horwitz@uct.ac.za', 'david.horwitz@uct.ac.za', 'david.horwitz@uct.ac.za', 'stephen.marquard@uct.ac.za', 'louis@media.berkeley.edu', 'louis@media.berkeley.edu', 'ay@media.berkeley.edu', 'cwen@iupui.edu', 'cwen@iupui.edu', 'cwen@iupui.edu']\n",
      "{'jlowe@iupui.edu', 'stephen.marquard@uct.ac.za', 'david.horwitz@uct.ac.za', 'ay@media.berkeley.edu', 'louis@media.berkeley.edu', 'zqian@umich.edu', 'wagnermr@iupui.edu', 'gopal.ramasammycook@gmail.com', 'antranig@caret.cam.ac.uk', 'gsilver@umich.edu', 'cwen@iupui.edu'}\n",
      "['antranig@caret.cam.ac.uk', 'ay@media.berkeley.edu', 'cwen@iupui.edu', 'david.horwitz@uct.ac.za', 'gopal.ramasammycook@gmail.com', 'gsilver@umich.edu', 'jlowe@iupui.edu', 'louis@media.berkeley.edu', 'stephen.marquard@uct.ac.za', 'wagnermr@iupui.edu', 'zqian@umich.edu']\n"
     ]
    }
   ],
   "source": [
    "filename = 'mbox-short.txt'\n",
    "fh = open(filename)\n",
    "l = []\n",
    "for line in fh:\n",
    "    if line.startswith('From:'): \n",
    "        line = line.strip(\"From: \")\n",
    "        l.append(line.strip())\n",
    "print(l)\n",
    "s = set(l)\n",
    "print(s)\n",
    "li = sorted(list(s))\n",
    "print(li)"
   ]
  },
  {
   "cell_type": "code",
   "execution_count": 42,
   "metadata": {},
   "outputs": [
    {
     "name": "stdout",
     "output_type": "stream",
     "text": [
      "stephen.marquard@uct.ac.za\n",
      "louis@media.berkeley.edu\n",
      "zqian@umich.edu\n",
      "rjlowe@iupui.edu\n",
      "zqian@umich.edu\n",
      "rjlowe@iupui.edu\n",
      "cwen@iupui.edu\n",
      "cwen@iupui.edu\n",
      "gsilver@umich.edu\n",
      "gsilver@umich.edu\n",
      "zqian@umich.edu\n",
      "gsilver@umich.edu\n",
      "wagnermr@iupui.edu\n",
      "zqian@umich.edu\n",
      "antranig@caret.cam.ac.uk\n",
      "gopal.ramasammycook@gmail.com\n",
      "david.horwitz@uct.ac.za\n",
      "david.horwitz@uct.ac.za\n",
      "david.horwitz@uct.ac.za\n",
      "david.horwitz@uct.ac.za\n",
      "stephen.marquard@uct.ac.za\n",
      "louis@media.berkeley.edu\n",
      "louis@media.berkeley.edu\n",
      "ray@media.berkeley.edu\n",
      "cwen@iupui.edu\n",
      "cwen@iupui.edu\n",
      "cwen@iupui.edu\n"
     ]
    }
   ],
   "source": [
    "filename = 'mbox-short.txt'\n",
    "fh = open(filename)\n",
    "for line in fh:\n",
    "    if line.startswith('From:'): \n",
    "        line = line[6:].rstrip()\n",
    "        print(line)"
   ]
  },
  {
   "cell_type": "markdown",
   "metadata": {},
   "source": [
    "c) Extract lines which contain the string “@uct.ac.za” (i.e., they come from the University of Cape Town in South Africa):"
   ]
  },
  {
   "cell_type": "code",
   "execution_count": 67,
   "metadata": {
    "scrolled": true
   },
   "outputs": [
    {
     "name": "stdout",
     "output_type": "stream",
     "text": [
      "From stephen.marquard@uct.ac.za Sat Jan  5 09:14:16 2008\n",
      "X-Authentication-Warning: nakamura.uits.iupui.edu: apache set sender to stephen.marquard@uct.ac.za using -f\n",
      "From: stephen.marquard@uct.ac.za\n",
      "Author: stephen.marquard@uct.ac.za\n",
      "From david.horwitz@uct.ac.za Fri Jan  4 07:02:32 2008\n",
      "X-Authentication-Warning: nakamura.uits.iupui.edu: apache set sender to david.horwitz@uct.ac.za using -f\n",
      "From: david.horwitz@uct.ac.za\n",
      "Author: david.horwitz@uct.ac.za\n",
      "r39753 | david.horwitz@uct.ac.za | 2008-01-04 13:05:51 +0200 (Fri, 04 Jan 2008) | 1 line\n",
      "From david.horwitz@uct.ac.za Fri Jan  4 06:08:27 2008\n",
      "X-Authentication-Warning: nakamura.uits.iupui.edu: apache set sender to david.horwitz@uct.ac.za using -f\n",
      "From: david.horwitz@uct.ac.za\n",
      "Author: david.horwitz@uct.ac.za\n",
      "From david.horwitz@uct.ac.za Fri Jan  4 04:49:08 2008\n",
      "X-Authentication-Warning: nakamura.uits.iupui.edu: apache set sender to david.horwitz@uct.ac.za using -f\n",
      "From: david.horwitz@uct.ac.za\n",
      "Author: david.horwitz@uct.ac.za\n",
      "From david.horwitz@uct.ac.za Fri Jan  4 04:33:44 2008\n",
      "X-Authentication-Warning: nakamura.uits.iupui.edu: apache set sender to david.horwitz@uct.ac.za using -f\n",
      "From: david.horwitz@uct.ac.za\n",
      "Author: david.horwitz@uct.ac.za\n",
      "From stephen.marquard@uct.ac.za Fri Jan  4 04:07:34 2008\n",
      "X-Authentication-Warning: nakamura.uits.iupui.edu: apache set sender to stephen.marquard@uct.ac.za using -f\n",
      "From: stephen.marquard@uct.ac.za\n",
      "Author: stephen.marquard@uct.ac.za\n"
     ]
    }
   ],
   "source": [
    "filename = 'mbox-short.txt'\n",
    "fh = open(filename)\n",
    "for line in fh:\n",
    "    if line.find(\"@uct.ac.za\") != -1:\n",
    "        print(line.rstrip())"
   ]
  },
  {
   "cell_type": "code",
   "execution_count": 20,
   "metadata": {
    "scrolled": true
   },
   "outputs": [
    {
     "name": "stdout",
     "output_type": "stream",
     "text": [
      "From stephen.marquard@uct.ac.za Sat Jan  5 09:14:16 2008\n",
      "X-Authentication-Warning: nakamura.uits.iupui.edu: apache set sender to stephen.marquard@uct.ac.za using -f\n",
      "From: stephen.marquard@uct.ac.za\n",
      "Author: stephen.marquard@uct.ac.za\n",
      "From david.horwitz@uct.ac.za Fri Jan  4 07:02:32 2008\n",
      "X-Authentication-Warning: nakamura.uits.iupui.edu: apache set sender to david.horwitz@uct.ac.za using -f\n",
      "From: david.horwitz@uct.ac.za\n",
      "Author: david.horwitz@uct.ac.za\n",
      "r39753 | david.horwitz@uct.ac.za | 2008-01-04 13:05:51 +0200 (Fri, 04 Jan 2008) | 1 line\n",
      "From david.horwitz@uct.ac.za Fri Jan  4 06:08:27 2008\n",
      "X-Authentication-Warning: nakamura.uits.iupui.edu: apache set sender to david.horwitz@uct.ac.za using -f\n",
      "From: david.horwitz@uct.ac.za\n",
      "Author: david.horwitz@uct.ac.za\n",
      "From david.horwitz@uct.ac.za Fri Jan  4 04:49:08 2008\n",
      "X-Authentication-Warning: nakamura.uits.iupui.edu: apache set sender to david.horwitz@uct.ac.za using -f\n",
      "From: david.horwitz@uct.ac.za\n",
      "Author: david.horwitz@uct.ac.za\n",
      "From david.horwitz@uct.ac.za Fri Jan  4 04:33:44 2008\n",
      "X-Authentication-Warning: nakamura.uits.iupui.edu: apache set sender to david.horwitz@uct.ac.za using -f\n",
      "From: david.horwitz@uct.ac.za\n",
      "Author: david.horwitz@uct.ac.za\n",
      "From stephen.marquard@uct.ac.za Fri Jan  4 04:07:34 2008\n",
      "X-Authentication-Warning: nakamura.uits.iupui.edu: apache set sender to stephen.marquard@uct.ac.za using -f\n",
      "From: stephen.marquard@uct.ac.za\n",
      "Author: stephen.marquard@uct.ac.za\n"
     ]
    }
   ],
   "source": [
    "filename = 'mbox-short.txt'\n",
    "fh = open(filename)\n",
    "for line in fh:\n",
    "    if \"@uct.ac.za\" in line:\n",
    "        print(line.rstrip())"
   ]
  },
  {
   "cell_type": "code",
   "execution_count": 23,
   "metadata": {},
   "outputs": [
    {
     "name": "stdout",
     "output_type": "stream",
     "text": [
      "stephen.marquard@uct.ac.za\n",
      " 27\n",
      "david.horwitz@uct.ac.za\n",
      " 24\n",
      "david.horwitz@uct.ac.za\n",
      " 24\n",
      "david.horwitz@uct.ac.za\n",
      " 24\n",
      "david.horwitz@uct.ac.za\n",
      " 24\n",
      "stephen.marquard@uct.ac.za\n",
      " 27\n"
     ]
    }
   ],
   "source": [
    "filename = 'mbox-short.txt'\n",
    "fh = open(filename)\n",
    "for line in fh:\n",
    "    if (line.startswith(\"From: \")) and (\"@uct.ac.za\" in line):\n",
    "        #print(line[6:].strip())\n",
    "        print(line.strip('From: '), len(line.strip('From: ')))"
   ]
  },
  {
   "cell_type": "markdown",
   "metadata": {},
   "source": [
    "d) How many emails were received from University of Cape Town"
   ]
  },
  {
   "cell_type": "code",
   "execution_count": 24,
   "metadata": {},
   "outputs": [
    {
     "name": "stdout",
     "output_type": "stream",
     "text": [
      "From: stephen.marquard@uct.ac.za\n",
      "From: david.horwitz@uct.ac.za\n",
      "From: david.horwitz@uct.ac.za\n",
      "From: david.horwitz@uct.ac.za\n",
      "From: david.horwitz@uct.ac.za\n",
      "From: stephen.marquard@uct.ac.za\n",
      "There are 6 emails were received from UCT\n"
     ]
    }
   ],
   "source": [
    "filename = 'mbox-short.txt'\n",
    "fh = open(filename)\n",
    "count=0\n",
    "for line in fh:\n",
    "    if line.find(\"@uct.ac.za\") != -1 and line.startswith(\"From:\"):\n",
    "        count+=1\n",
    "        print(line.rstrip())\n",
    "print(\"There are %d emails were received from UCT\" %count)"
   ]
  },
  {
   "cell_type": "code",
   "execution_count": null,
   "metadata": {},
   "outputs": [],
   "source": []
  },
  {
   "cell_type": "code",
   "execution_count": 70,
   "metadata": {
    "scrolled": true
   },
   "outputs": [
    {
     "name": "stdout",
     "output_type": "stream",
     "text": [
      "From: stephen.marquard@uct.ac.za\n",
      "\n",
      "From: louis@media.berkeley.edu\n",
      "\n",
      "From: zqian@umich.edu\n",
      "\n",
      "From: rjlowe@iupui.edu\n",
      "\n",
      "From: zqian@umich.edu\n",
      "\n",
      "From: rjlowe@iupui.edu\n",
      "\n",
      "From: cwen@iupui.edu\n",
      "\n",
      "From: cwen@iupui.edu\n",
      "\n",
      "From: gsilver@umich.edu\n",
      "\n",
      "From: gsilver@umich.edu\n",
      "\n",
      "From: zqian@umich.edu\n",
      "\n",
      "From: gsilver@umich.edu\n",
      "\n",
      "From: wagnermr@iupui.edu\n",
      "\n",
      "From: zqian@umich.edu\n",
      "\n",
      "From: antranig@caret.cam.ac.uk\n",
      "\n",
      "From: gopal.ramasammycook@gmail.com\n",
      "\n",
      "From: david.horwitz@uct.ac.za\n",
      "\n",
      "From: david.horwitz@uct.ac.za\n",
      "\n",
      "From: david.horwitz@uct.ac.za\n",
      "\n",
      "From: david.horwitz@uct.ac.za\n",
      "\n",
      "From: stephen.marquard@uct.ac.za\n",
      "\n",
      "From: louis@media.berkeley.edu\n",
      "\n",
      "From: louis@media.berkeley.edu\n",
      "\n",
      "From: ray@media.berkeley.edu\n",
      "\n",
      "From: cwen@iupui.edu\n",
      "\n",
      "From: cwen@iupui.edu\n",
      "\n",
      "From: cwen@iupui.edu\n",
      "\n"
     ]
    }
   ],
   "source": [
    "f = open(\"mbox-short.txt\")\n",
    "for l in f:\n",
    "    if l.startswith(\"From: \"):\n",
    "        print(l)"
   ]
  },
  {
   "cell_type": "code",
   "execution_count": null,
   "metadata": {},
   "outputs": [],
   "source": []
  },
  {
   "cell_type": "code",
   "execution_count": null,
   "metadata": {},
   "outputs": [],
   "source": []
  },
  {
   "cell_type": "code",
   "execution_count": null,
   "metadata": {},
   "outputs": [],
   "source": []
  },
  {
   "cell_type": "code",
   "execution_count": null,
   "metadata": {},
   "outputs": [],
   "source": []
  },
  {
   "cell_type": "code",
   "execution_count": null,
   "metadata": {},
   "outputs": [],
   "source": []
  },
  {
   "cell_type": "code",
   "execution_count": null,
   "metadata": {},
   "outputs": [],
   "source": []
  }
 ],
 "metadata": {
  "kernelspec": {
   "display_name": "Python 3",
   "language": "python",
   "name": "python3"
  },
  "language_info": {
   "codemirror_mode": {
    "name": "ipython",
    "version": 3
   },
   "file_extension": ".py",
   "mimetype": "text/x-python",
   "name": "python",
   "nbconvert_exporter": "python",
   "pygments_lexer": "ipython3",
   "version": "3.6.5"
  }
 },
 "nbformat": 4,
 "nbformat_minor": 2
}
