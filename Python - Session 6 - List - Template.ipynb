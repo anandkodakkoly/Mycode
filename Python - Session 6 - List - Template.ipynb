{
 "cells": [
  {
   "cell_type": "markdown",
   "metadata": {
    "collapsed": true
   },
   "source": [
    "### A. List is a sequence of values"
   ]
  },
  {
   "cell_type": "markdown",
   "metadata": {},
   "source": [
    "Like a string, a list is a sequence of values. In a string, the values are characters; in a list, they can be any type. The values in list are called elements or sometimes items."
   ]
  },
  {
   "cell_type": "markdown",
   "metadata": {},
   "source": [
    "### B. List Examples"
   ]
  },
  {
   "cell_type": "code",
   "execution_count": 1,
   "metadata": {},
   "outputs": [
    {
     "data": {
      "text/plain": [
       "[1, 3, 5, 7, 9]"
      ]
     },
     "execution_count": 1,
     "metadata": {},
     "output_type": "execute_result"
    }
   ],
   "source": [
    "[1,3,5,7,9]"
   ]
  },
  {
   "cell_type": "code",
   "execution_count": 2,
   "metadata": {},
   "outputs": [
    {
     "data": {
      "text/plain": [
       "['apple', 'ball', 'cat', 'doll']"
      ]
     },
     "execution_count": 2,
     "metadata": {},
     "output_type": "execute_result"
    }
   ],
   "source": [
    "['apple', 'ball', 'cat', 'doll']"
   ]
  },
  {
   "cell_type": "code",
   "execution_count": 3,
   "metadata": {},
   "outputs": [
    {
     "data": {
      "text/plain": [
       "[1, 'one']"
      ]
     },
     "execution_count": 3,
     "metadata": {},
     "output_type": "execute_result"
    }
   ],
   "source": [
    "[1, 'one']"
   ]
  },
  {
   "cell_type": "code",
   "execution_count": null,
   "metadata": {},
   "outputs": [],
   "source": []
  },
  {
   "cell_type": "code",
   "execution_count": null,
   "metadata": {},
   "outputs": [],
   "source": []
  },
  {
   "cell_type": "code",
   "execution_count": null,
   "metadata": {},
   "outputs": [],
   "source": []
  },
  {
   "cell_type": "markdown",
   "metadata": {},
   "source": [
    "### C. Lists are Mutable "
   ]
  },
  {
   "cell_type": "code",
   "execution_count": 4,
   "metadata": {},
   "outputs": [
    {
     "data": {
      "text/plain": [
       "'ball'"
      ]
     },
     "execution_count": 4,
     "metadata": {},
     "output_type": "execute_result"
    }
   ],
   "source": [
    "words = ['apple', 'ball', 'cat', 'doll']\n",
    "words[1]"
   ]
  },
  {
   "cell_type": "code",
   "execution_count": 5,
   "metadata": {},
   "outputs": [
    {
     "data": {
      "text/plain": [
       "['apple', 'balloon', 'cat', 'doll']"
      ]
     },
     "execution_count": 5,
     "metadata": {},
     "output_type": "execute_result"
    }
   ],
   "source": [
    "words[1]= 'balloon'\n",
    "words"
   ]
  },
  {
   "cell_type": "markdown",
   "metadata": {},
   "source": [
    "### D. List Operations"
   ]
  },
  {
   "cell_type": "code",
   "execution_count": 6,
   "metadata": {},
   "outputs": [
    {
     "data": {
      "text/plain": [
       "[1, 2, 3, 4, 5, 6]"
      ]
     },
     "execution_count": 6,
     "metadata": {},
     "output_type": "execute_result"
    }
   ],
   "source": [
    "a = [1,2,3]\n",
    "b = [4,5,6]\n",
    "\n",
    "a+b"
   ]
  },
  {
   "cell_type": "code",
   "execution_count": 7,
   "metadata": {},
   "outputs": [
    {
     "data": {
      "text/plain": [
       "[1, 1, 1]"
      ]
     },
     "execution_count": 7,
     "metadata": {},
     "output_type": "execute_result"
    }
   ],
   "source": [
    "[1]*3"
   ]
  },
  {
   "cell_type": "code",
   "execution_count": 8,
   "metadata": {},
   "outputs": [
    {
     "data": {
      "text/plain": [
       "[1, 2, 3, 1, 2, 3, 1, 2, 3]"
      ]
     },
     "execution_count": 8,
     "metadata": {},
     "output_type": "execute_result"
    }
   ],
   "source": [
    "a*3"
   ]
  },
  {
   "cell_type": "code",
   "execution_count": 9,
   "metadata": {},
   "outputs": [
    {
     "ename": "TypeError",
     "evalue": "unsupported operand type(s) for ** or pow(): 'list' and 'int'",
     "output_type": "error",
     "traceback": [
      "\u001b[1;31m---------------------------------------------------------------------------\u001b[0m",
      "\u001b[1;31mTypeError\u001b[0m                                 Traceback (most recent call last)",
      "\u001b[1;32m<ipython-input-9-69fac8d10f4f>\u001b[0m in \u001b[0;36m<module>\u001b[1;34m()\u001b[0m\n\u001b[1;32m----> 1\u001b[1;33m \u001b[0ma\u001b[0m\u001b[1;33m**\u001b[0m\u001b[1;36m3\u001b[0m\u001b[1;33m\u001b[0m\u001b[0m\n\u001b[0m",
      "\u001b[1;31mTypeError\u001b[0m: unsupported operand type(s) for ** or pow(): 'list' and 'int'"
     ]
    }
   ],
   "source": [
    "a**3"
   ]
  },
  {
   "cell_type": "markdown",
   "metadata": {},
   "source": [
    "### E. Slicing List"
   ]
  },
  {
   "cell_type": "code",
   "execution_count": 2,
   "metadata": {},
   "outputs": [
    {
     "data": {
      "text/plain": [
       "'apple'"
      ]
     },
     "execution_count": 2,
     "metadata": {},
     "output_type": "execute_result"
    }
   ],
   "source": [
    "words = ['apple', 'ball', 'cat', 'dog', 'elephant', 'fish', 'giraffe']\n",
    "words[0]"
   ]
  },
  {
   "cell_type": "code",
   "execution_count": 11,
   "metadata": {},
   "outputs": [
    {
     "data": {
      "text/plain": [
       "['ball', 'cat', 'dog']"
      ]
     },
     "execution_count": 11,
     "metadata": {},
     "output_type": "execute_result"
    }
   ],
   "source": [
    "words[1:4]"
   ]
  },
  {
   "cell_type": "code",
   "execution_count": 12,
   "metadata": {},
   "outputs": [
    {
     "data": {
      "text/plain": [
       "'fish'"
      ]
     },
     "execution_count": 12,
     "metadata": {},
     "output_type": "execute_result"
    }
   ],
   "source": [
    "words[-2]"
   ]
  },
  {
   "cell_type": "code",
   "execution_count": 13,
   "metadata": {},
   "outputs": [
    {
     "data": {
      "text/plain": [
       "['fish', 'giraffe']"
      ]
     },
     "execution_count": 13,
     "metadata": {},
     "output_type": "execute_result"
    }
   ],
   "source": [
    "words[-2:] #last 2 elements"
   ]
  },
  {
   "cell_type": "code",
   "execution_count": 14,
   "metadata": {},
   "outputs": [
    {
     "data": {
      "text/plain": [
       "['apple', 'ball', 'cat', 'dog', 'elephant']"
      ]
     },
     "execution_count": 14,
     "metadata": {},
     "output_type": "execute_result"
    }
   ],
   "source": [
    "words[:-2] #all except last 2 "
   ]
  },
  {
   "cell_type": "code",
   "execution_count": 15,
   "metadata": {},
   "outputs": [
    {
     "data": {
      "text/plain": [
       "['apple', 'cat', 'elephant']"
      ]
     },
     "execution_count": 15,
     "metadata": {},
     "output_type": "execute_result"
    }
   ],
   "source": [
    "words[0:5:2]"
   ]
  },
  {
   "cell_type": "code",
   "execution_count": 16,
   "metadata": {},
   "outputs": [
    {
     "data": {
      "text/plain": [
       "['giraffe', 'fish', 'elephant', 'dog', 'cat', 'ball', 'apple']"
      ]
     },
     "execution_count": 16,
     "metadata": {},
     "output_type": "execute_result"
    }
   ],
   "source": [
    "words[::-1]"
   ]
  },
  {
   "cell_type": "code",
   "execution_count": 17,
   "metadata": {},
   "outputs": [
    {
     "data": {
      "text/plain": [
       "['giraffe', 'elephant', 'cat', 'apple']"
      ]
     },
     "execution_count": 17,
     "metadata": {},
     "output_type": "execute_result"
    }
   ],
   "source": [
    "words[::-2]"
   ]
  },
  {
   "cell_type": "code",
   "execution_count": 18,
   "metadata": {},
   "outputs": [
    {
     "data": {
      "text/plain": [
       "[]"
      ]
     },
     "execution_count": 18,
     "metadata": {},
     "output_type": "execute_result"
    }
   ],
   "source": [
    "words[1:6:-1]"
   ]
  },
  {
   "cell_type": "code",
   "execution_count": null,
   "metadata": {},
   "outputs": [],
   "source": []
  },
  {
   "cell_type": "markdown",
   "metadata": {},
   "source": [
    "### F. List and Function"
   ]
  },
  {
   "cell_type": "code",
   "execution_count": 19,
   "metadata": {},
   "outputs": [
    {
     "data": {
      "text/plain": [
       "7"
      ]
     },
     "execution_count": 19,
     "metadata": {},
     "output_type": "execute_result"
    }
   ],
   "source": [
    "len(words)"
   ]
  },
  {
   "cell_type": "code",
   "execution_count": 28,
   "metadata": {},
   "outputs": [
    {
     "data": {
      "text/plain": [
       "'giraffe'"
      ]
     },
     "execution_count": 28,
     "metadata": {},
     "output_type": "execute_result"
    }
   ],
   "source": [
    "max(words)"
   ]
  },
  {
   "cell_type": "code",
   "execution_count": 29,
   "metadata": {},
   "outputs": [],
   "source": [
    "ap = ['application', 'basics', 'cat']"
   ]
  },
  {
   "cell_type": "code",
   "execution_count": 31,
   "metadata": {},
   "outputs": [
    {
     "data": {
      "text/plain": [
       "'cat'"
      ]
     },
     "execution_count": 31,
     "metadata": {},
     "output_type": "execute_result"
    }
   ],
   "source": [
    "max(ap) #aslways go for alphabet order in case of str, NOT THE STR LENGTH"
   ]
  },
  {
   "cell_type": "code",
   "execution_count": 32,
   "metadata": {},
   "outputs": [],
   "source": [
    "q = [1,2,3.5,'apple']"
   ]
  },
  {
   "cell_type": "code",
   "execution_count": 34,
   "metadata": {},
   "outputs": [
    {
     "ename": "TypeError",
     "evalue": "'>' not supported between instances of 'str' and 'float'",
     "output_type": "error",
     "traceback": [
      "\u001b[1;31m---------------------------------------------------------------------------\u001b[0m",
      "\u001b[1;31mTypeError\u001b[0m                                 Traceback (most recent call last)",
      "\u001b[1;32m<ipython-input-34-708297a8c68f>\u001b[0m in \u001b[0;36m<module>\u001b[1;34m()\u001b[0m\n\u001b[1;32m----> 1\u001b[1;33m \u001b[0mmax\u001b[0m\u001b[1;33m(\u001b[0m\u001b[0mq\u001b[0m\u001b[1;33m)\u001b[0m\u001b[1;33m\u001b[0m\u001b[0m\n\u001b[0m",
      "\u001b[1;31mTypeError\u001b[0m: '>' not supported between instances of 'str' and 'float'"
     ]
    }
   ],
   "source": [
    "max(q)"
   ]
  },
  {
   "cell_type": "code",
   "execution_count": 37,
   "metadata": {},
   "outputs": [],
   "source": [
    "w = [1,2,3.5,3.546,5]"
   ]
  },
  {
   "cell_type": "code",
   "execution_count": 38,
   "metadata": {},
   "outputs": [
    {
     "data": {
      "text/plain": [
       "5"
      ]
     },
     "execution_count": 38,
     "metadata": {},
     "output_type": "execute_result"
    }
   ],
   "source": [
    "max(w)"
   ]
  },
  {
   "cell_type": "code",
   "execution_count": 39,
   "metadata": {},
   "outputs": [],
   "source": [
    "e = ['1', '2.3', '-1.5', '5']"
   ]
  },
  {
   "cell_type": "code",
   "execution_count": 41,
   "metadata": {},
   "outputs": [
    {
     "data": {
      "text/plain": [
       "'-1.5'"
      ]
     },
     "execution_count": 41,
     "metadata": {},
     "output_type": "execute_result"
    }
   ],
   "source": [
    "min(e)"
   ]
  },
  {
   "cell_type": "code",
   "execution_count": 21,
   "metadata": {},
   "outputs": [
    {
     "data": {
      "text/plain": [
       "'apple'"
      ]
     },
     "execution_count": 21,
     "metadata": {},
     "output_type": "execute_result"
    }
   ],
   "source": [
    "min(words)"
   ]
  },
  {
   "cell_type": "code",
   "execution_count": 24,
   "metadata": {},
   "outputs": [
    {
     "ename": "TypeError",
     "evalue": "unsupported operand type(s) for +: 'int' and 'str'",
     "output_type": "error",
     "traceback": [
      "\u001b[1;31m---------------------------------------------------------------------------\u001b[0m",
      "\u001b[1;31mTypeError\u001b[0m                                 Traceback (most recent call last)",
      "\u001b[1;32m<ipython-input-24-8035aa90a51c>\u001b[0m in \u001b[0;36m<module>\u001b[1;34m()\u001b[0m\n\u001b[1;32m----> 1\u001b[1;33m \u001b[0msum\u001b[0m\u001b[1;33m(\u001b[0m\u001b[0mwords\u001b[0m\u001b[1;33m)\u001b[0m\u001b[1;33m\u001b[0m\u001b[0m\n\u001b[0m",
      "\u001b[1;31mTypeError\u001b[0m: unsupported operand type(s) for +: 'int' and 'str'"
     ]
    }
   ],
   "source": [
    "sum(words)"
   ]
  },
  {
   "cell_type": "code",
   "execution_count": 22,
   "metadata": {},
   "outputs": [],
   "source": [
    "x = [1, 2, 3]"
   ]
  },
  {
   "cell_type": "code",
   "execution_count": 25,
   "metadata": {},
   "outputs": [
    {
     "data": {
      "text/plain": [
       "6"
      ]
     },
     "execution_count": 25,
     "metadata": {},
     "output_type": "execute_result"
    }
   ],
   "source": [
    "sum(x)"
   ]
  },
  {
   "cell_type": "code",
   "execution_count": 26,
   "metadata": {},
   "outputs": [
    {
     "data": {
      "text/plain": [
       "2.0"
      ]
     },
     "execution_count": 26,
     "metadata": {},
     "output_type": "execute_result"
    }
   ],
   "source": [
    "sum(x)/len(x)"
   ]
  },
  {
   "cell_type": "code",
   "execution_count": 28,
   "metadata": {},
   "outputs": [
    {
     "name": "stdout",
     "output_type": "stream",
     "text": [
      "1\n"
     ]
    },
    {
     "data": {
      "text/plain": [
       "3"
      ]
     },
     "execution_count": 28,
     "metadata": {},
     "output_type": "execute_result"
    }
   ],
   "source": [
    "print(min(x))\n",
    "max(x)"
   ]
  },
  {
   "cell_type": "markdown",
   "metadata": {},
   "source": [
    "### G. List Methods"
   ]
  },
  {
   "cell_type": "code",
   "execution_count": 29,
   "metadata": {},
   "outputs": [
    {
     "data": {
      "text/plain": [
       "['__add__',\n",
       " '__class__',\n",
       " '__contains__',\n",
       " '__delattr__',\n",
       " '__delitem__',\n",
       " '__dir__',\n",
       " '__doc__',\n",
       " '__eq__',\n",
       " '__format__',\n",
       " '__ge__',\n",
       " '__getattribute__',\n",
       " '__getitem__',\n",
       " '__gt__',\n",
       " '__hash__',\n",
       " '__iadd__',\n",
       " '__imul__',\n",
       " '__init__',\n",
       " '__init_subclass__',\n",
       " '__iter__',\n",
       " '__le__',\n",
       " '__len__',\n",
       " '__lt__',\n",
       " '__mul__',\n",
       " '__ne__',\n",
       " '__new__',\n",
       " '__reduce__',\n",
       " '__reduce_ex__',\n",
       " '__repr__',\n",
       " '__reversed__',\n",
       " '__rmul__',\n",
       " '__setattr__',\n",
       " '__setitem__',\n",
       " '__sizeof__',\n",
       " '__str__',\n",
       " '__subclasshook__',\n",
       " 'append',\n",
       " 'clear',\n",
       " 'copy',\n",
       " 'count',\n",
       " 'extend',\n",
       " 'index',\n",
       " 'insert',\n",
       " 'pop',\n",
       " 'remove',\n",
       " 'reverse',\n",
       " 'sort']"
      ]
     },
     "execution_count": 29,
     "metadata": {},
     "output_type": "execute_result"
    }
   ],
   "source": [
    "dir(words)"
   ]
  },
  {
   "cell_type": "code",
   "execution_count": 3,
   "metadata": {},
   "outputs": [
    {
     "data": {
      "text/plain": [
       "['apple', 'ball', 'cat', 'dog', 'elephant', 'fish', 'giraffe']"
      ]
     },
     "execution_count": 3,
     "metadata": {},
     "output_type": "execute_result"
    }
   ],
   "source": [
    "words"
   ]
  },
  {
   "cell_type": "code",
   "execution_count": 4,
   "metadata": {},
   "outputs": [],
   "source": [
    "words.append('hat')"
   ]
  },
  {
   "cell_type": "code",
   "execution_count": 5,
   "metadata": {},
   "outputs": [],
   "source": [
    "words.remove('hat')"
   ]
  },
  {
   "cell_type": "code",
   "execution_count": 6,
   "metadata": {},
   "outputs": [
    {
     "name": "stdout",
     "output_type": "stream",
     "text": [
      "Help on built-in function remove:\n",
      "\n",
      "remove(...) method of builtins.list instance\n",
      "    L.remove(value) -> None -- remove first occurrence of value.\n",
      "    Raises ValueError if the value is not present.\n",
      "\n"
     ]
    }
   ],
   "source": [
    "help(words.remove)"
   ]
  },
  {
   "cell_type": "code",
   "execution_count": 9,
   "metadata": {},
   "outputs": [
    {
     "data": {
      "text/plain": [
       "2"
      ]
     },
     "execution_count": 9,
     "metadata": {},
     "output_type": "execute_result"
    }
   ],
   "source": [
    "words.index('cat') "
   ]
  },
  {
   "cell_type": "code",
   "execution_count": 11,
   "metadata": {},
   "outputs": [
    {
     "name": "stdout",
     "output_type": "stream",
     "text": [
      "Help on built-in function pop:\n",
      "\n",
      "pop(...) method of builtins.list instance\n",
      "    L.pop([index]) -> item -- remove and return item at index (default last).\n",
      "    Raises IndexError if list is empty or index is out of range.\n",
      "\n"
     ]
    }
   ],
   "source": [
    "help(words.pop)"
   ]
  },
  {
   "cell_type": "code",
   "execution_count": 13,
   "metadata": {},
   "outputs": [
    {
     "name": "stdout",
     "output_type": "stream",
     "text": [
      "Help on method_descriptor:\n",
      "\n",
      "split(...)\n",
      "    S.split(sep=None, maxsplit=-1) -> list of strings\n",
      "    \n",
      "    Return a list of the words in S, using sep as the\n",
      "    delimiter string.  If maxsplit is given, at most maxsplit\n",
      "    splits are done. If sep is not specified or is None, any\n",
      "    whitespace string is a separator and empty strings are\n",
      "    removed from the result.\n",
      "\n"
     ]
    }
   ],
   "source": [
    "help(str.split)"
   ]
  },
  {
   "cell_type": "code",
   "execution_count": null,
   "metadata": {},
   "outputs": [],
   "source": []
  },
  {
   "cell_type": "code",
   "execution_count": null,
   "metadata": {},
   "outputs": [],
   "source": []
  },
  {
   "cell_type": "markdown",
   "metadata": {},
   "source": [
    "### H. List and Strings"
   ]
  },
  {
   "cell_type": "code",
   "execution_count": 8,
   "metadata": {},
   "outputs": [
    {
     "name": "stdout",
     "output_type": "stream",
     "text": [
      "string\n",
      "['s', 't', 'r', 'i', 'n', 'g']\n"
     ]
    }
   ],
   "source": [
    "s = 'string'\n",
    "t = list(s)   #Converting a string to a list\n",
    "print(s)\n",
    "print(t)"
   ]
  },
  {
   "cell_type": "code",
   "execution_count": 14,
   "metadata": {},
   "outputs": [],
   "source": [
    "mystr = 'I love Python'"
   ]
  },
  {
   "cell_type": "code",
   "execution_count": 15,
   "metadata": {},
   "outputs": [
    {
     "data": {
      "text/plain": [
       "['I', 'love', 'Python']"
      ]
     },
     "execution_count": 15,
     "metadata": {},
     "output_type": "execute_result"
    }
   ],
   "source": [
    "mystr.split() #default delimiter is sapce"
   ]
  },
  {
   "cell_type": "code",
   "execution_count": 16,
   "metadata": {},
   "outputs": [],
   "source": [
    "mystr = 'I-Love-Python'"
   ]
  },
  {
   "cell_type": "code",
   "execution_count": 17,
   "metadata": {},
   "outputs": [
    {
     "data": {
      "text/plain": [
       "['I', 'Love', 'Python']"
      ]
     },
     "execution_count": 17,
     "metadata": {},
     "output_type": "execute_result"
    }
   ],
   "source": [
    "mystr.split('-') #definfing deliiter as \"-\""
   ]
  },
  {
   "cell_type": "code",
   "execution_count": 18,
   "metadata": {},
   "outputs": [
    {
     "data": {
      "text/plain": [
       "['I-L', 've-Pyth', 'n']"
      ]
     },
     "execution_count": 18,
     "metadata": {},
     "output_type": "execute_result"
    }
   ],
   "source": [
    "mystr.split('o')"
   ]
  },
  {
   "cell_type": "code",
   "execution_count": 22,
   "metadata": {},
   "outputs": [
    {
     "name": "stdout",
     "output_type": "stream",
     "text": [
      "Help on method_descriptor:\n",
      "\n",
      "join(...)\n",
      "    S.join(iterable) -> str\n",
      "    \n",
      "    Return a string which is the concatenation of the strings in the\n",
      "    iterable.  The separator between elements is S.\n",
      "\n"
     ]
    }
   ],
   "source": [
    "help(str.join)"
   ]
  },
  {
   "cell_type": "code",
   "execution_count": 21,
   "metadata": {},
   "outputs": [
    {
     "data": {
      "text/plain": [
       "'string'"
      ]
     },
     "execution_count": 21,
     "metadata": {},
     "output_type": "execute_result"
    }
   ],
   "source": [
    "delimit = ''\n",
    "delimit.join(t)"
   ]
  },
  {
   "cell_type": "code",
   "execution_count": 26,
   "metadata": {},
   "outputs": [
    {
     "data": {
      "text/plain": [
       "'s.t.r.i.n.g'"
      ]
     },
     "execution_count": 26,
     "metadata": {},
     "output_type": "execute_result"
    }
   ],
   "source": [
    "deli = '.'\n",
    "deli.join(t)"
   ]
  },
  {
   "cell_type": "code",
   "execution_count": 27,
   "metadata": {},
   "outputs": [
    {
     "data": {
      "text/plain": [
       "'sataraianag'"
      ]
     },
     "execution_count": 27,
     "metadata": {},
     "output_type": "execute_result"
    }
   ],
   "source": [
    "deli = 'a'\n",
    "deli.join(t)"
   ]
  },
  {
   "cell_type": "code",
   "execution_count": null,
   "metadata": {},
   "outputs": [],
   "source": []
  },
  {
   "cell_type": "markdown",
   "metadata": {},
   "source": [
    "### I. Exercise"
   ]
  },
  {
   "cell_type": "markdown",
   "metadata": {},
   "source": [
    "[A] Suppose that you are creating a software to track transactions. First this software will prompt for the number of unique items purchased following which it will prompt for the items purchased by the customers and finally return the list of items purchased. Once the list is recorded for one customer it will ask if you want to continue.\n",
    "\n",
    "    Enter the number of unique items purchased: 3\n",
    "    Enter item no. 1 apple\n",
    "    Enter item no. 2 juice\n",
    "    Enter item no. 3 butter\n",
    "\n",
    "    Transaction details:\n",
    "    ['apple', 'juice', 'butter']\n",
    "\n",
    "    Do you want to continue: yes\n",
    "    Enter the number of unique items purchased: 2\n",
    "    Enter item no. 1 bread\n",
    "    Enter item no. 2 jam\n",
    "\n",
    "    Transaction details:\n",
    "    ['bread', 'jam']\n",
    "\n",
    "    Do you want to continue: no"
   ]
  },
  {
   "cell_type": "code",
   "execution_count": 46,
   "metadata": {},
   "outputs": [
    {
     "name": "stdout",
     "output_type": "stream",
     "text": [
      "Enter the number of unique items purchased:2\n",
      "Enter item no. 1 milk\n",
      "Enter item no. 2 curd\n",
      "Transaction details:\n",
      "['milk', 'curd']\n",
      "Do you want to continue: (yes/no)no\n"
     ]
    }
   ],
   "source": [
    "def transact():\n",
    "    try:\n",
    "        while True:\n",
    "            unique_item = int(input(\"Enter the number of unique items purchased:\"))\n",
    "            items = []\n",
    "            for i in range(1,unique_item+1):\n",
    "                items.append(input('Enter item no. '+str(i)+ ' '))\n",
    "            print(\"Transaction details:\")\n",
    "            print(items)\n",
    "            cont  = input('Do you want to continue: (yes/no)')\n",
    "            if cont.lower() == 'yes':\n",
    "                continue\n",
    "            elif cont.lower() == 'no':\n",
    "                break\n",
    "            else:\n",
    "                print('Sorry try again!')\n",
    "                break\n",
    "    except:\n",
    "        print(\"Some error occured. Please give inputs correctly\")\n",
    "\n",
    "transact()\n"
   ]
  },
  {
   "cell_type": "code",
   "execution_count": null,
   "metadata": {},
   "outputs": [],
   "source": []
  },
  {
   "cell_type": "markdown",
   "metadata": {},
   "source": [
    "[B] The previous solution (as it is evident) was a very crude solution. Someone in the billing counter has no idea about the number of unique products purchased by a customer. Therefore the program should be designed in such a way that will enable the person in the billing counter to start recording the items once a customer arrives at the billing desk and keep recording the items until it signals done. Once the person is done recording the items of one customer it will ask if he/she need to record one more transaction. If yes it continues...\n",
    "\n",
    "    Enter item no. 1 : apple\n",
    "    Enter item no. 2 : juice\n",
    "    Enter item no. 3 : butter\n",
    "    Enter item no. 4 : done\n",
    "    \n",
    "    Transaction for Customer 1\n",
    "    ['apple', 'juice', 'butter']\n",
    "    \n",
    "    \n",
    "    Next customer? (yes/no): yes\n",
    "    \n",
    "    Enter item no. 1 : bread\n",
    "    Enter item no. 2 : jam\n",
    "    Enter item no. 3 : done\n",
    "    \n",
    "    Transaction for Customer 1\n",
    "    ['bread', 'jam']\n",
    "    \n",
    "    \n",
    "    Next customer? (yes/no): no"
   ]
  },
  {
   "cell_type": "code",
   "execution_count": 3,
   "metadata": {},
   "outputs": [
    {
     "name": "stdout",
     "output_type": "stream",
     "text": [
      "Enter item no. 1apple\n",
      "Enter item no. 2mango\n",
      "Enter item no. 3done\n",
      "Transaction details for Customer 1: \n",
      "['apple', 'mango']\n",
      "Next customer? (yes/no)yes\n",
      "Enter item no. 1milk\n",
      "Enter item no. 2cookies\n",
      "Enter item no. 3done\n",
      "Transaction details for Customer 2: \n",
      "['milk', 'cookies']\n",
      "Next customer? (yes/no)no\n"
     ]
    }
   ],
   "source": [
    "def transact():\n",
    "    try:\n",
    "        customer = 1\n",
    "        while True:\n",
    "            #unique_item = int(input(\"Enter the number of unique items purchased:\"))\n",
    "            count = 1\n",
    "            items = []\n",
    "            \n",
    "            while True:\n",
    "                item = input('Enter item no. %d' %count)\n",
    "                if item.lower() == 'done':\n",
    "                    break\n",
    "                items.append(item)\n",
    "                count+=1\n",
    "                \n",
    "            print(\"Transaction details for Customer %d: \" %customer)\n",
    "            customer+=1\n",
    "            print(items)\n",
    "            cont  = input('Next customer? (yes/no)')\n",
    "            if cont.lower() == 'yes':\n",
    "                continue\n",
    "            elif cont.lower() == 'no':\n",
    "                break\n",
    "            else:\n",
    "                print('Sorry try again!')\n",
    "                break\n",
    "    except:\n",
    "        print(\"Some error occured. Please give inputs correctly\")\n",
    "\n",
    "transact()\n"
   ]
  },
  {
   "cell_type": "code",
   "execution_count": null,
   "metadata": {},
   "outputs": [],
   "source": []
  },
  {
   "cell_type": "markdown",
   "metadata": {},
   "source": [
    "[C] Modify the above program such that for every item the software prompts  for the quantity purchases and its price. Finally for each customers, along with the list of items purchases it also gives the bill amount.\n",
    "\n",
    "    Item 1 : apple\n",
    "    Quantity for item 1: 0.5\n",
    "    Price for item 1: 109\n",
    "    Item 2 : juice\n",
    "    Quantity for item 2: 1\n",
    "    Price for item 2: 99\n",
    "    Item 3 : butter\n",
    "    Quantity for item 3: 2\n",
    "    Price for item 3: 45\n",
    "    Item 4 : done\n",
    "    \n",
    "    Transaction for Customer 1\n",
    "    ['apple', 'juice', 'butter']\n",
    "    Total:  243.5\n",
    "    \n",
    "    \n",
    "    Next customer? (yes/no): yes\n",
    "    \n",
    "    Item 1 : bread\n",
    "    Quantity for item 1: 1\n",
    "    Price for item 1: 31\n",
    "    Item 2 : Jam\n",
    "    Quantity for item 2: 1\n",
    "    Price for item 2: 89\n",
    "    Item 3 : done\n",
    "    \n",
    "    Transaction for Customer 1\n",
    "    ['bread', 'Jam']\n",
    "    Total:  120.0\n",
    "    \n",
    "    \n",
    "    Next customer? (yes/no): no"
   ]
  },
  {
   "cell_type": "code",
   "execution_count": 10,
   "metadata": {},
   "outputs": [
    {
     "name": "stdout",
     "output_type": "stream",
     "text": [
      "Item 1: Apple\n",
      "Quantity for item 1: 2\n",
      "Price for item 1: 120\n",
      "Item 2: Orange\n",
      "Quantity for item 2: 2\n",
      "Price for item 2: 60\n",
      "Item 3: Grapes\n",
      "Quantity for item 3: .5\n",
      "Price for item 3: 90\n",
      "Item 4: done\n",
      "\n",
      "Transaction details for Customer 1: \n",
      "['Apple', 'Orange', 'Grapes']\n",
      "Total:  405.0\n",
      "\n",
      "Next customer? (yes/no)Yes\n",
      "Item 1: milk\n",
      "Quantity for item 1: .5\n",
      "Price for item 1: 80\n",
      "Item 2: curd\n",
      "Quantity for item 2: 1\n",
      "Price for item 2: 20\n",
      "Item 3: done\n",
      "\n",
      "Transaction details for Customer 2: \n",
      "['milk', 'curd']\n",
      "Total:  60.0\n",
      "\n",
      "Next customer? (yes/no)no\n"
     ]
    }
   ],
   "source": [
    "def transact():\n",
    "    try:\n",
    "        customer = 1\n",
    "        while True:\n",
    "            #unique_item = int(input(\"Enter the number of unique items purchased:\"))\n",
    "            count_itm = 1\n",
    "            items = []\n",
    "            total = 0\n",
    "            while True:\n",
    "                item = input('Item %d: ' %count_itm)\n",
    "                if item.lower() == 'done':\n",
    "                    break\n",
    "                items.append(item)\n",
    "                qty = float(input(\"Quantity for item %d: \" %count_itm))\n",
    "                price = float(input(\"Price for item %d: \" %count_itm))\n",
    "                total+=(qty*price)\n",
    "                count_itm+=1\n",
    "                \n",
    "            print(\"\\nTransaction details for Customer %d: \" %customer)\n",
    "            customer+=1\n",
    "            print(items)\n",
    "            print(\"Total: \", total)\n",
    "            cont  = input('\\nNext customer? (yes/no)')\n",
    "            if cont.lower() == 'yes':\n",
    "                continue\n",
    "            elif cont.lower() == 'no':\n",
    "                break\n",
    "            else:\n",
    "                print('Sorry try again!')\n",
    "                break\n",
    "    except:\n",
    "        print(\"Some error occured. Please give inputs correctly\")\n",
    "\n",
    "transact()\n"
   ]
  },
  {
   "cell_type": "code",
   "execution_count": null,
   "metadata": {},
   "outputs": [],
   "source": []
  },
  {
   "cell_type": "markdown",
   "metadata": {},
   "source": [
    "[D] I am sure that almost all of you have searched coupon codes to get discounts from Food Panda or Swiggy. Have you noticed that once you have applied a code you cannot apply it again? But the website shows you all. Come on , let us write one such program.\n",
    "\n",
    "    Following are the available list of coupons for Food Panda\n",
    "    ['FP040', 'FP111', 'FPHBD05', 'FP9989', 'HappyMeal']\n",
    "\n",
    "\n",
    "    Type the one you want to apply: FP9989\n",
    "    Congratulation! You have successfully applied this coupon\n",
    "\n",
    "    would you like to use another coupon?yes\n",
    "    Following are the available list of coupons for Food Panda\n",
    "    ['FP040', 'FP111', 'FPHBD05', 'FP9989', 'HappyMeal']\n",
    "\n",
    "\n",
    "    Type the one you want to apply: FP9989\n",
    "    Sorry! You have already applied this coupon\n",
    "\n",
    "    would you like to use another coupon? no\n",
    "\n"
   ]
  },
  {
   "cell_type": "code",
   "execution_count": 14,
   "metadata": {},
   "outputs": [
    {
     "name": "stdout",
     "output_type": "stream",
     "text": [
      "Following are the available list of coupons for Food Panda\n",
      "['FP040', 'FP111', 'FPHBD05', 'FP9989', 'HappyMeal']\n",
      "\n",
      "Type the one you want to apply: FP111\n",
      "Congratulation! You have successfully applied this coupon\n",
      "\n",
      "Would you like to use another coupon? (yes/no) yes\n",
      "Following are the available list of coupons for Food Panda\n",
      "['FP040', 'FP111', 'FPHBD05', 'FP9989', 'HappyMeal']\n",
      "\n",
      "Type the one you want to apply: FP111\n",
      "Sorry! You have already applied this coupon\n",
      "\n",
      "Would you like to use another coupon? (yes/no) no\n"
     ]
    }
   ],
   "source": [
    "used = []\n",
    "while True:\n",
    "    print(\"Following are the available list of coupons for Food Panda\")\n",
    "    coupons = ['FP040', 'FP111', 'FPHBD05', 'FP9989', 'HappyMeal']\n",
    "    print(coupons)\n",
    "    apply = input(\"\\nType the one you want to apply: \")\n",
    "    if apply in coupons:\n",
    "        if apply not in used:\n",
    "            print(\"Congratulation! You have successfully applied this coupon\")\n",
    "            used.append(apply)\n",
    "        else:\n",
    "            print(\"Sorry! You have already applied this coupon\")\n",
    "    else:\n",
    "        print(\"Please enter the valid coupon and Try again.\")\n",
    "\n",
    "    repeat = input(\"\\nWould you like to use another coupon? (yes/no) \")\n",
    "    if repeat == 'yes':\n",
    "        continue\n",
    "    elif repeat == 'no':\n",
    "        break\n",
    "    else:\n",
    "        print('Sorry try again!')\n",
    "        break\n",
    "\n",
    "\n"
   ]
  },
  {
   "cell_type": "markdown",
   "metadata": {},
   "source": [
    "[E] In the files exercises, we had found out the list of email ids from the mbox file. Can we extract the list of unique email ids?\n",
    "\n",
    "    stephen.marquard@uct.ac.za\n",
    "    louis@media.berkeley.edu\n",
    "    zqian@umich.edu\n",
    "    rjlowe@iupui.edu\n",
    "    cwen@iupui.edu\n",
    "    gsilver@umich.edu\n",
    "    wagnermr@iupui.edu\n",
    "    antranig@caret.cam.ac.uk\n",
    "    gopal.ramasammycook@gmail.com\n",
    "    david.horwitz@uct.ac.za\n",
    "    ray@media.berkeley.edu\n",
    "\n",
    "    Total unique contacts = 11"
   ]
  },
  {
   "cell_type": "code",
   "execution_count": 1,
   "metadata": {},
   "outputs": [],
   "source": [
    "import os"
   ]
  },
  {
   "cell_type": "code",
   "execution_count": 16,
   "metadata": {},
   "outputs": [],
   "source": [
    "os.chdir(\"C:\\\\Users\\\\PARTHI vs BHARATHI\\\\Downloads\")"
   ]
  },
  {
   "cell_type": "code",
   "execution_count": 2,
   "metadata": {},
   "outputs": [
    {
     "data": {
      "text/plain": [
       "'C:\\\\Users\\\\PARTHI vs BHARATHI\\\\Downloads\\\\Python'"
      ]
     },
     "execution_count": 2,
     "metadata": {},
     "output_type": "execute_result"
    }
   ],
   "source": [
    "pwd()"
   ]
  },
  {
   "cell_type": "code",
   "execution_count": null,
   "metadata": {},
   "outputs": [],
   "source": []
  },
  {
   "cell_type": "code",
   "execution_count": 3,
   "metadata": {},
   "outputs": [],
   "source": [
    "file = open(\"mbox-short.txt\")"
   ]
  },
  {
   "cell_type": "code",
   "execution_count": 4,
   "metadata": {},
   "outputs": [
    {
     "data": {
      "text/plain": [
       "<_io.TextIOWrapper name='mbox-short.txt' mode='r' encoding='cp1252'>"
      ]
     },
     "execution_count": 4,
     "metadata": {},
     "output_type": "execute_result"
    }
   ],
   "source": [
    "file"
   ]
  },
  {
   "cell_type": "code",
   "execution_count": 29,
   "metadata": {
    "scrolled": true
   },
   "outputs": [
    {
     "name": "stdout",
     "output_type": "stream",
     "text": [
      "From: stephen.marquard@uct.ac.za\n",
      "\n",
      "From: louis@media.berkeley.edu\n",
      "\n",
      "From: zqian@umich.edu\n",
      "\n",
      "From: rjlowe@iupui.edu\n",
      "\n",
      "From: zqian@umich.edu\n",
      "\n",
      "From: rjlowe@iupui.edu\n",
      "\n",
      "From: cwen@iupui.edu\n",
      "\n",
      "From: cwen@iupui.edu\n",
      "\n",
      "From: gsilver@umich.edu\n",
      "\n",
      "From: gsilver@umich.edu\n",
      "\n",
      "From: zqian@umich.edu\n",
      "\n",
      "From: gsilver@umich.edu\n",
      "\n",
      "From: wagnermr@iupui.edu\n",
      "\n",
      "From: zqian@umich.edu\n",
      "\n",
      "From: antranig@caret.cam.ac.uk\n",
      "\n",
      "From: gopal.ramasammycook@gmail.com\n",
      "\n",
      "From: david.horwitz@uct.ac.za\n",
      "\n",
      "From: david.horwitz@uct.ac.za\n",
      "\n",
      "From: david.horwitz@uct.ac.za\n",
      "\n",
      "From: david.horwitz@uct.ac.za\n",
      "\n",
      "From: stephen.marquard@uct.ac.za\n",
      "\n",
      "From: louis@media.berkeley.edu\n",
      "\n",
      "From: louis@media.berkeley.edu\n",
      "\n",
      "From: ray@media.berkeley.edu\n",
      "\n",
      "From: cwen@iupui.edu\n",
      "\n",
      "From: cwen@iupui.edu\n",
      "\n",
      "From: cwen@iupui.edu\n",
      "\n"
     ]
    }
   ],
   "source": [
    "file = open(\"mbox-short.txt\")\n",
    "for line in file:\n",
    "    if line.startswith(\"From: \"):\n",
    "        print(line)"
   ]
  },
  {
   "cell_type": "code",
   "execution_count": 46,
   "metadata": {},
   "outputs": [
    {
     "name": "stdout",
     "output_type": "stream",
     "text": [
      "stephen.marquard@uct.ac.za\n",
      "louis@media.berkeley.edu\n",
      "zqian@umich.edu\n",
      "jlowe@iupui.edu\n",
      "cwen@iupui.edu\n",
      "gsilver@umich.edu\n",
      "wagnermr@iupui.edu\n",
      "antranig@caret.cam.ac.uk\n",
      "gopal.ramasammycook@gmail.com\n",
      "david.horwitz@uct.ac.za\n",
      "ay@media.berkeley.edu\n",
      "Type the email to count no of emails received from that person: cwen@iupui.edu\n",
      "[]\n",
      "No of emails received from cwen@iupui.edu is : 0\n"
     ]
    }
   ],
   "source": [
    "file = open(\"mbox-short.txt\")\n",
    "emails = []\n",
    "for line in file:\n",
    "    if line.startswith(\"From: \"):\n",
    "        email = line.strip(\"From: \")\n",
    "        email = email.rstrip('\\n')\n",
    "        if email not in emails:\n",
    "            emails.append(email)\n",
    "            \n",
    "for i in emails:\n",
    "    print(i)\n",
    "check = input(\"Type the email to count no of emails received from that person: \")\n",
    "count = 0\n",
    "if check in emails:\n",
    "    messages = []\n",
    "    for l in file:\n",
    "        if l.startswith(\"From: \"):\n",
    "            email = line.strip(\"From: \")\n",
    "            email = email.rstrip('\\n')\n",
    "            messages.append(email)\n",
    "    print(messages)\n",
    "    count = messages.count(check)\n",
    "    print(\"No of emails received from %s is : %d\" %(check,count))\n",
    "else:\n",
    "    print(\"Please enter the correct email address\")\n"
   ]
  },
  {
   "cell_type": "code",
   "execution_count": null,
   "metadata": {},
   "outputs": [],
   "source": []
  },
  {
   "cell_type": "code",
   "execution_count": null,
   "metadata": {},
   "outputs": [],
   "source": []
  },
  {
   "cell_type": "code",
   "execution_count": null,
   "metadata": {},
   "outputs": [],
   "source": [
    "file = open(\"mbox-short.txt\")\n",
    "emails = []\n",
    "for line in file:\n",
    "    if line.startswith(\"From: \"):\n",
    "        email = line.strip(\"From: \")\n",
    "        email = email.rstrip('\\n')\n",
    "        if email not in emails:\n",
    "            emails.append(email)\n",
    "            \n",
    "for i in emails:\n",
    "    print(i)\n",
    "print(\"\\nTotal unique contacts = \", len(emails))"
   ]
  }
 ],
 "metadata": {
  "kernelspec": {
   "display_name": "Python 3",
   "language": "python",
   "name": "python3"
  },
  "language_info": {
   "codemirror_mode": {
    "name": "ipython",
    "version": 3
   },
   "file_extension": ".py",
   "mimetype": "text/x-python",
   "name": "python",
   "nbconvert_exporter": "python",
   "pygments_lexer": "ipython3",
   "version": "3.6.5"
  }
 },
 "nbformat": 4,
 "nbformat_minor": 2
}
